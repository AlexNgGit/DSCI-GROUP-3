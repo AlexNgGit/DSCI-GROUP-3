{
 "cells": [
  {
   "cell_type": "markdown",
   "id": "b6baa583-ce8f-403c-a0ca-75e000ea9597",
   "metadata": {},
   "source": [
    "# Title"
   ]
  },
  {
   "cell_type": "markdown",
   "id": "bb0ff985-4d95-4284-85f2-e141d253e792",
   "metadata": {},
   "source": [
    "# Introduction"
   ]
  },
  {
   "cell_type": "markdown",
   "id": "d1f4bdac-2c34-4d94-b6fa-c53f62d4b0f8",
   "metadata": {},
   "source": [
    "# Preliminary exploratory data analysis"
   ]
  },
  {
   "cell_type": "markdown",
   "id": "ab509b3a-5e2b-42af-9f0c-64178c02430c",
   "metadata": {},
   "source": [
    "## Read Data"
   ]
  },
  {
   "cell_type": "code",
   "execution_count": 3,
   "id": "ef222d3e-58ab-4ed5-9108-147de9c1b468",
   "metadata": {},
   "outputs": [],
   "source": [
    "library(tidyverse)"
   ]
  },
  {
   "cell_type": "code",
   "execution_count": 7,
   "id": "cde022e9-769f-4d13-b115-36c972f1f7a0",
   "metadata": {},
   "outputs": [
    {
     "name": "stderr",
     "output_type": "stream",
     "text": [
      "\u001b[1mRows: \u001b[22m\u001b[34m2986\u001b[39m \u001b[1mColumns: \u001b[22m\u001b[34m49\u001b[39m\n",
      "\u001b[36m──\u001b[39m \u001b[1mColumn specification\u001b[22m \u001b[36m────────────────────────────────────────────────────────\u001b[39m\n",
      "\u001b[1mDelimiter:\u001b[22m \",\"\n",
      "\u001b[31mchr\u001b[39m (14): tourney_id, tourney_name, surface, tourney_level, winner_entry, wi...\n",
      "\u001b[32mdbl\u001b[39m (35): draw_size, tourney_date, match_num, winner_id, winner_seed, winner...\n",
      "\n",
      "\u001b[36mℹ\u001b[39m Use `spec()` to retrieve the full column specification for this data.\n",
      "\u001b[36mℹ\u001b[39m Specify the column types or set `show_col_types = FALSE` to quiet this message.\n"
     ]
    },
    {
     "data": {
      "text/html": [
       "<table class=\"dataframe\">\n",
       "<caption>A tibble: 6 × 49</caption>\n",
       "<thead>\n",
       "\t<tr><th scope=col>tourney_id</th><th scope=col>tourney_name</th><th scope=col>surface</th><th scope=col>draw_size</th><th scope=col>tourney_level</th><th scope=col>tourney_date</th><th scope=col>match_num</th><th scope=col>winner_id</th><th scope=col>winner_seed</th><th scope=col>winner_entry</th><th scope=col>⋯</th><th scope=col>l_1stIn</th><th scope=col>l_1stWon</th><th scope=col>l_2ndWon</th><th scope=col>l_SvGms</th><th scope=col>l_bpSaved</th><th scope=col>l_bpFaced</th><th scope=col>winner_rank</th><th scope=col>winner_rank_points</th><th scope=col>loser_rank</th><th scope=col>loser_rank_points</th></tr>\n",
       "\t<tr><th scope=col>&lt;chr&gt;</th><th scope=col>&lt;chr&gt;</th><th scope=col>&lt;chr&gt;</th><th scope=col>&lt;dbl&gt;</th><th scope=col>&lt;chr&gt;</th><th scope=col>&lt;dbl&gt;</th><th scope=col>&lt;dbl&gt;</th><th scope=col>&lt;dbl&gt;</th><th scope=col>&lt;dbl&gt;</th><th scope=col>&lt;chr&gt;</th><th scope=col>⋯</th><th scope=col>&lt;dbl&gt;</th><th scope=col>&lt;dbl&gt;</th><th scope=col>&lt;dbl&gt;</th><th scope=col>&lt;dbl&gt;</th><th scope=col>&lt;dbl&gt;</th><th scope=col>&lt;dbl&gt;</th><th scope=col>&lt;dbl&gt;</th><th scope=col>&lt;dbl&gt;</th><th scope=col>&lt;dbl&gt;</th><th scope=col>&lt;dbl&gt;</th></tr>\n",
       "</thead>\n",
       "<tbody>\n",
       "\t<tr><td>2023-9900</td><td>United Cup</td><td>Hard</td><td>18</td><td>A</td><td>20230102</td><td>300</td><td>126203</td><td> 3</td><td>NA</td><td>⋯</td><td>62</td><td>47</td><td>15</td><td>12</td><td>9</td><td>9</td><td> 9</td><td>3355</td><td> 16</td><td>2375</td></tr>\n",
       "\t<tr><td>2023-9900</td><td>United Cup</td><td>Hard</td><td>18</td><td>A</td><td>20230102</td><td>299</td><td>126207</td><td>NA</td><td>NA</td><td>⋯</td><td>12</td><td> 8</td><td> 3</td><td> 4</td><td>1</td><td>3</td><td>19</td><td>2000</td><td> 23</td><td>1865</td></tr>\n",
       "\t<tr><td>2023-9900</td><td>United Cup</td><td>Hard</td><td>18</td><td>A</td><td>20230102</td><td>296</td><td>126203</td><td> 3</td><td>NA</td><td>⋯</td><td>62</td><td>51</td><td> 7</td><td>12</td><td>2</td><td>2</td><td> 9</td><td>3355</td><td> 10</td><td>2905</td></tr>\n",
       "\t<tr><td>2023-9900</td><td>United Cup</td><td>Hard</td><td>18</td><td>A</td><td>20230102</td><td>295</td><td>126207</td><td>NA</td><td>NA</td><td>⋯</td><td>41</td><td>26</td><td>12</td><td> 9</td><td>6</td><td>9</td><td>19</td><td>2000</td><td>245</td><td> 220</td></tr>\n",
       "\t<tr><td>2023-9900</td><td>United Cup</td><td>Hard</td><td>18</td><td>A</td><td>20230102</td><td>292</td><td>126774</td><td> 1</td><td>NA</td><td>⋯</td><td>58</td><td>48</td><td>18</td><td>16</td><td>1</td><td>2</td><td> 4</td><td>5550</td><td> 16</td><td>2375</td></tr>\n",
       "\t<tr><td>2023-9900</td><td>United Cup</td><td>Hard</td><td>18</td><td>A</td><td>20230102</td><td>291</td><td>207518</td><td>NA</td><td>NA</td><td>⋯</td><td>26</td><td>15</td><td> 5</td><td> 7</td><td>4</td><td>9</td><td>23</td><td>1865</td><td>803</td><td>  23</td></tr>\n",
       "</tbody>\n",
       "</table>\n"
      ],
      "text/latex": [
       "A tibble: 6 × 49\n",
       "\\begin{tabular}{lllllllllllllllllllll}\n",
       " tourney\\_id & tourney\\_name & surface & draw\\_size & tourney\\_level & tourney\\_date & match\\_num & winner\\_id & winner\\_seed & winner\\_entry & ⋯ & l\\_1stIn & l\\_1stWon & l\\_2ndWon & l\\_SvGms & l\\_bpSaved & l\\_bpFaced & winner\\_rank & winner\\_rank\\_points & loser\\_rank & loser\\_rank\\_points\\\\\n",
       " <chr> & <chr> & <chr> & <dbl> & <chr> & <dbl> & <dbl> & <dbl> & <dbl> & <chr> & ⋯ & <dbl> & <dbl> & <dbl> & <dbl> & <dbl> & <dbl> & <dbl> & <dbl> & <dbl> & <dbl>\\\\\n",
       "\\hline\n",
       "\t 2023-9900 & United Cup & Hard & 18 & A & 20230102 & 300 & 126203 &  3 & NA & ⋯ & 62 & 47 & 15 & 12 & 9 & 9 &  9 & 3355 &  16 & 2375\\\\\n",
       "\t 2023-9900 & United Cup & Hard & 18 & A & 20230102 & 299 & 126207 & NA & NA & ⋯ & 12 &  8 &  3 &  4 & 1 & 3 & 19 & 2000 &  23 & 1865\\\\\n",
       "\t 2023-9900 & United Cup & Hard & 18 & A & 20230102 & 296 & 126203 &  3 & NA & ⋯ & 62 & 51 &  7 & 12 & 2 & 2 &  9 & 3355 &  10 & 2905\\\\\n",
       "\t 2023-9900 & United Cup & Hard & 18 & A & 20230102 & 295 & 126207 & NA & NA & ⋯ & 41 & 26 & 12 &  9 & 6 & 9 & 19 & 2000 & 245 &  220\\\\\n",
       "\t 2023-9900 & United Cup & Hard & 18 & A & 20230102 & 292 & 126774 &  1 & NA & ⋯ & 58 & 48 & 18 & 16 & 1 & 2 &  4 & 5550 &  16 & 2375\\\\\n",
       "\t 2023-9900 & United Cup & Hard & 18 & A & 20230102 & 291 & 207518 & NA & NA & ⋯ & 26 & 15 &  5 &  7 & 4 & 9 & 23 & 1865 & 803 &   23\\\\\n",
       "\\end{tabular}\n"
      ],
      "text/markdown": [
       "\n",
       "A tibble: 6 × 49\n",
       "\n",
       "| tourney_id &lt;chr&gt; | tourney_name &lt;chr&gt; | surface &lt;chr&gt; | draw_size &lt;dbl&gt; | tourney_level &lt;chr&gt; | tourney_date &lt;dbl&gt; | match_num &lt;dbl&gt; | winner_id &lt;dbl&gt; | winner_seed &lt;dbl&gt; | winner_entry &lt;chr&gt; | ⋯ ⋯ | l_1stIn &lt;dbl&gt; | l_1stWon &lt;dbl&gt; | l_2ndWon &lt;dbl&gt; | l_SvGms &lt;dbl&gt; | l_bpSaved &lt;dbl&gt; | l_bpFaced &lt;dbl&gt; | winner_rank &lt;dbl&gt; | winner_rank_points &lt;dbl&gt; | loser_rank &lt;dbl&gt; | loser_rank_points &lt;dbl&gt; |\n",
       "|---|---|---|---|---|---|---|---|---|---|---|---|---|---|---|---|---|---|---|---|---|\n",
       "| 2023-9900 | United Cup | Hard | 18 | A | 20230102 | 300 | 126203 |  3 | NA | ⋯ | 62 | 47 | 15 | 12 | 9 | 9 |  9 | 3355 |  16 | 2375 |\n",
       "| 2023-9900 | United Cup | Hard | 18 | A | 20230102 | 299 | 126207 | NA | NA | ⋯ | 12 |  8 |  3 |  4 | 1 | 3 | 19 | 2000 |  23 | 1865 |\n",
       "| 2023-9900 | United Cup | Hard | 18 | A | 20230102 | 296 | 126203 |  3 | NA | ⋯ | 62 | 51 |  7 | 12 | 2 | 2 |  9 | 3355 |  10 | 2905 |\n",
       "| 2023-9900 | United Cup | Hard | 18 | A | 20230102 | 295 | 126207 | NA | NA | ⋯ | 41 | 26 | 12 |  9 | 6 | 9 | 19 | 2000 | 245 |  220 |\n",
       "| 2023-9900 | United Cup | Hard | 18 | A | 20230102 | 292 | 126774 |  1 | NA | ⋯ | 58 | 48 | 18 | 16 | 1 | 2 |  4 | 5550 |  16 | 2375 |\n",
       "| 2023-9900 | United Cup | Hard | 18 | A | 20230102 | 291 | 207518 | NA | NA | ⋯ | 26 | 15 |  5 |  7 | 4 | 9 | 23 | 1865 | 803 |   23 |\n",
       "\n"
      ],
      "text/plain": [
       "  tourney_id tourney_name surface draw_size tourney_level tourney_date\n",
       "1 2023-9900  United Cup   Hard    18        A             20230102    \n",
       "2 2023-9900  United Cup   Hard    18        A             20230102    \n",
       "3 2023-9900  United Cup   Hard    18        A             20230102    \n",
       "4 2023-9900  United Cup   Hard    18        A             20230102    \n",
       "5 2023-9900  United Cup   Hard    18        A             20230102    \n",
       "6 2023-9900  United Cup   Hard    18        A             20230102    \n",
       "  match_num winner_id winner_seed winner_entry ⋯ l_1stIn l_1stWon l_2ndWon\n",
       "1 300       126203     3          NA           ⋯ 62      47       15      \n",
       "2 299       126207    NA          NA           ⋯ 12       8        3      \n",
       "3 296       126203     3          NA           ⋯ 62      51        7      \n",
       "4 295       126207    NA          NA           ⋯ 41      26       12      \n",
       "5 292       126774     1          NA           ⋯ 58      48       18      \n",
       "6 291       207518    NA          NA           ⋯ 26      15        5      \n",
       "  l_SvGms l_bpSaved l_bpFaced winner_rank winner_rank_points loser_rank\n",
       "1 12      9         9          9          3355                16       \n",
       "2  4      1         3         19          2000                23       \n",
       "3 12      2         2          9          3355                10       \n",
       "4  9      6         9         19          2000               245       \n",
       "5 16      1         2          4          5550                16       \n",
       "6  7      4         9         23          1865               803       \n",
       "  loser_rank_points\n",
       "1 2375             \n",
       "2 1865             \n",
       "3 2905             \n",
       "4  220             \n",
       "5 2375             \n",
       "6   23             "
      ]
     },
     "metadata": {},
     "output_type": "display_data"
    }
   ],
   "source": [
    "tennis_data <- read_csv(url(\"https://raw.githubusercontent.com/JeffSackmann/tennis_atp/master/atp_matches_2023.csv\"))\n",
    "head(tennis_data)"
   ]
  },
  {
   "cell_type": "code",
   "execution_count": 17,
   "id": "ebc566b4-be56-4a32-9b03-acf4e4621310",
   "metadata": {},
   "outputs": [],
   "source": [
    "temp <- tempfile()\n",
    "download_file <- download.file(\"https://archive.ics.uci.edu/static/public/186/wine+quality.zip\", temp)\n",
    "data <- read.csv2(unz(temp, \"winequality-red.csv\"))\n",
    "\n",
    "unlink(temp)"
   ]
  },
  {
   "cell_type": "code",
   "execution_count": 19,
   "id": "3567dca4-45a2-44a9-9594-f67eb1322f2a",
   "metadata": {},
   "outputs": [
    {
     "data": {
      "text/html": [
       "<table class=\"dataframe\">\n",
       "<caption>A data.frame: 6 × 12</caption>\n",
       "<thead>\n",
       "\t<tr><th></th><th scope=col>fixed.acidity</th><th scope=col>volatile.acidity</th><th scope=col>citric.acid</th><th scope=col>residual.sugar</th><th scope=col>chlorides</th><th scope=col>free.sulfur.dioxide</th><th scope=col>total.sulfur.dioxide</th><th scope=col>density</th><th scope=col>pH</th><th scope=col>sulphates</th><th scope=col>alcohol</th><th scope=col>quality</th></tr>\n",
       "\t<tr><th></th><th scope=col>&lt;chr&gt;</th><th scope=col>&lt;chr&gt;</th><th scope=col>&lt;chr&gt;</th><th scope=col>&lt;chr&gt;</th><th scope=col>&lt;chr&gt;</th><th scope=col>&lt;chr&gt;</th><th scope=col>&lt;chr&gt;</th><th scope=col>&lt;chr&gt;</th><th scope=col>&lt;chr&gt;</th><th scope=col>&lt;chr&gt;</th><th scope=col>&lt;chr&gt;</th><th scope=col>&lt;int&gt;</th></tr>\n",
       "</thead>\n",
       "<tbody>\n",
       "\t<tr><th scope=row>1</th><td>7.4 </td><td>0.7 </td><td>0   </td><td>1.9</td><td>0.076</td><td>11</td><td>34</td><td>0.9978</td><td>3.51</td><td>0.56</td><td>9.4</td><td>5</td></tr>\n",
       "\t<tr><th scope=row>2</th><td>7.8 </td><td>0.88</td><td>0   </td><td>2.6</td><td>0.098</td><td>25</td><td>67</td><td>0.9968</td><td>3.2 </td><td>0.68</td><td>9.8</td><td>5</td></tr>\n",
       "\t<tr><th scope=row>3</th><td>7.8 </td><td>0.76</td><td>0.04</td><td>2.3</td><td>0.092</td><td>15</td><td>54</td><td>0.997 </td><td>3.26</td><td>0.65</td><td>9.8</td><td>5</td></tr>\n",
       "\t<tr><th scope=row>4</th><td>11.2</td><td>0.28</td><td>0.56</td><td>1.9</td><td>0.075</td><td>17</td><td>60</td><td>0.998 </td><td>3.16</td><td>0.58</td><td>9.8</td><td>6</td></tr>\n",
       "\t<tr><th scope=row>5</th><td>7.4 </td><td>0.7 </td><td>0   </td><td>1.9</td><td>0.076</td><td>11</td><td>34</td><td>0.9978</td><td>3.51</td><td>0.56</td><td>9.4</td><td>5</td></tr>\n",
       "\t<tr><th scope=row>6</th><td>7.4 </td><td>0.66</td><td>0   </td><td>1.8</td><td>0.075</td><td>13</td><td>40</td><td>0.9978</td><td>3.51</td><td>0.56</td><td>9.4</td><td>5</td></tr>\n",
       "</tbody>\n",
       "</table>\n"
      ],
      "text/latex": [
       "A data.frame: 6 × 12\n",
       "\\begin{tabular}{r|llllllllllll}\n",
       "  & fixed.acidity & volatile.acidity & citric.acid & residual.sugar & chlorides & free.sulfur.dioxide & total.sulfur.dioxide & density & pH & sulphates & alcohol & quality\\\\\n",
       "  & <chr> & <chr> & <chr> & <chr> & <chr> & <chr> & <chr> & <chr> & <chr> & <chr> & <chr> & <int>\\\\\n",
       "\\hline\n",
       "\t1 & 7.4  & 0.7  & 0    & 1.9 & 0.076 & 11 & 34 & 0.9978 & 3.51 & 0.56 & 9.4 & 5\\\\\n",
       "\t2 & 7.8  & 0.88 & 0    & 2.6 & 0.098 & 25 & 67 & 0.9968 & 3.2  & 0.68 & 9.8 & 5\\\\\n",
       "\t3 & 7.8  & 0.76 & 0.04 & 2.3 & 0.092 & 15 & 54 & 0.997  & 3.26 & 0.65 & 9.8 & 5\\\\\n",
       "\t4 & 11.2 & 0.28 & 0.56 & 1.9 & 0.075 & 17 & 60 & 0.998  & 3.16 & 0.58 & 9.8 & 6\\\\\n",
       "\t5 & 7.4  & 0.7  & 0    & 1.9 & 0.076 & 11 & 34 & 0.9978 & 3.51 & 0.56 & 9.4 & 5\\\\\n",
       "\t6 & 7.4  & 0.66 & 0    & 1.8 & 0.075 & 13 & 40 & 0.9978 & 3.51 & 0.56 & 9.4 & 5\\\\\n",
       "\\end{tabular}\n"
      ],
      "text/markdown": [
       "\n",
       "A data.frame: 6 × 12\n",
       "\n",
       "| <!--/--> | fixed.acidity &lt;chr&gt; | volatile.acidity &lt;chr&gt; | citric.acid &lt;chr&gt; | residual.sugar &lt;chr&gt; | chlorides &lt;chr&gt; | free.sulfur.dioxide &lt;chr&gt; | total.sulfur.dioxide &lt;chr&gt; | density &lt;chr&gt; | pH &lt;chr&gt; | sulphates &lt;chr&gt; | alcohol &lt;chr&gt; | quality &lt;int&gt; |\n",
       "|---|---|---|---|---|---|---|---|---|---|---|---|---|\n",
       "| 1 | 7.4  | 0.7  | 0    | 1.9 | 0.076 | 11 | 34 | 0.9978 | 3.51 | 0.56 | 9.4 | 5 |\n",
       "| 2 | 7.8  | 0.88 | 0    | 2.6 | 0.098 | 25 | 67 | 0.9968 | 3.2  | 0.68 | 9.8 | 5 |\n",
       "| 3 | 7.8  | 0.76 | 0.04 | 2.3 | 0.092 | 15 | 54 | 0.997  | 3.26 | 0.65 | 9.8 | 5 |\n",
       "| 4 | 11.2 | 0.28 | 0.56 | 1.9 | 0.075 | 17 | 60 | 0.998  | 3.16 | 0.58 | 9.8 | 6 |\n",
       "| 5 | 7.4  | 0.7  | 0    | 1.9 | 0.076 | 11 | 34 | 0.9978 | 3.51 | 0.56 | 9.4 | 5 |\n",
       "| 6 | 7.4  | 0.66 | 0    | 1.8 | 0.075 | 13 | 40 | 0.9978 | 3.51 | 0.56 | 9.4 | 5 |\n",
       "\n"
      ],
      "text/plain": [
       "  fixed.acidity volatile.acidity citric.acid residual.sugar chlorides\n",
       "1 7.4           0.7              0           1.9            0.076    \n",
       "2 7.8           0.88             0           2.6            0.098    \n",
       "3 7.8           0.76             0.04        2.3            0.092    \n",
       "4 11.2          0.28             0.56        1.9            0.075    \n",
       "5 7.4           0.7              0           1.9            0.076    \n",
       "6 7.4           0.66             0           1.8            0.075    \n",
       "  free.sulfur.dioxide total.sulfur.dioxide density pH   sulphates alcohol\n",
       "1 11                  34                   0.9978  3.51 0.56      9.4    \n",
       "2 25                  67                   0.9968  3.2  0.68      9.8    \n",
       "3 15                  54                   0.997   3.26 0.65      9.8    \n",
       "4 17                  60                   0.998   3.16 0.58      9.8    \n",
       "5 11                  34                   0.9978  3.51 0.56      9.4    \n",
       "6 13                  40                   0.9978  3.51 0.56      9.4    \n",
       "  quality\n",
       "1 5      \n",
       "2 5      \n",
       "3 5      \n",
       "4 6      \n",
       "5 5      \n",
       "6 5      "
      ]
     },
     "metadata": {},
     "output_type": "display_data"
    }
   ],
   "source": [
    "head(data)"
   ]
  },
  {
   "cell_type": "markdown",
   "id": "df455a66-1f24-4b1d-97cc-d5a516e51728",
   "metadata": {},
   "source": [
    "# Methods"
   ]
  },
  {
   "cell_type": "markdown",
   "id": "45243fdc-153c-46c3-8418-0b86f4d073e1",
   "metadata": {},
   "source": [
    "# Expected outcomes and significance"
   ]
  },
  {
   "cell_type": "code",
   "execution_count": null,
   "id": "3b50c83e-d275-4054-887e-94b4961b3f7e",
   "metadata": {},
   "outputs": [],
   "source": []
  }
 ],
 "metadata": {
  "kernelspec": {
   "display_name": "R",
   "language": "R",
   "name": "ir"
  },
  "language_info": {
   "codemirror_mode": "r",
   "file_extension": ".r",
   "mimetype": "text/x-r-source",
   "name": "R",
   "pygments_lexer": "r",
   "version": "4.3.1"
  }
 },
 "nbformat": 4,
 "nbformat_minor": 5
}
