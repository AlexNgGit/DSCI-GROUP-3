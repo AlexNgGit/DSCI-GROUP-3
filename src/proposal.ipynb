{
 "cells": [
  {
   "cell_type": "code",
   "execution_count": 1,
   "id": "ef222d3e-58ab-4ed5-9108-147de9c1b468",
   "metadata": {},
   "outputs": [
    {
     "name": "stderr",
     "output_type": "stream",
     "text": [
      "── \u001b[1mAttaching core tidyverse packages\u001b[22m ──────────────────────── tidyverse 2.0.0 ──\n",
      "\u001b[32m✔\u001b[39m \u001b[34mdplyr    \u001b[39m 1.1.3     \u001b[32m✔\u001b[39m \u001b[34mreadr    \u001b[39m 2.1.4\n",
      "\u001b[32m✔\u001b[39m \u001b[34mforcats  \u001b[39m 1.0.0     \u001b[32m✔\u001b[39m \u001b[34mstringr  \u001b[39m 1.5.0\n",
      "\u001b[32m✔\u001b[39m \u001b[34mggplot2  \u001b[39m 3.4.4     \u001b[32m✔\u001b[39m \u001b[34mtibble   \u001b[39m 3.2.1\n",
      "\u001b[32m✔\u001b[39m \u001b[34mlubridate\u001b[39m 1.9.3     \u001b[32m✔\u001b[39m \u001b[34mtidyr    \u001b[39m 1.3.0\n",
      "\u001b[32m✔\u001b[39m \u001b[34mpurrr    \u001b[39m 1.0.2     \n",
      "── \u001b[1mConflicts\u001b[22m ────────────────────────────────────────── tidyverse_conflicts() ──\n",
      "\u001b[31m✖\u001b[39m \u001b[34mdplyr\u001b[39m::\u001b[32mfilter()\u001b[39m masks \u001b[34mstats\u001b[39m::filter()\n",
      "\u001b[31m✖\u001b[39m \u001b[34mdplyr\u001b[39m::\u001b[32mlag()\u001b[39m    masks \u001b[34mstats\u001b[39m::lag()\n",
      "\u001b[36mℹ\u001b[39m Use the conflicted package (\u001b[3m\u001b[34m<http://conflicted.r-lib.org/>\u001b[39m\u001b[23m) to force all conflicts to become errors\n",
      "── \u001b[1mAttaching packages\u001b[22m ────────────────────────────────────── tidymodels 1.1.1 ──\n",
      "\n",
      "\u001b[32m✔\u001b[39m \u001b[34mbroom       \u001b[39m 1.0.5     \u001b[32m✔\u001b[39m \u001b[34mrsample     \u001b[39m 1.2.0\n",
      "\u001b[32m✔\u001b[39m \u001b[34mdials       \u001b[39m 1.2.0     \u001b[32m✔\u001b[39m \u001b[34mtune        \u001b[39m 1.1.2\n",
      "\u001b[32m✔\u001b[39m \u001b[34minfer       \u001b[39m 1.0.5     \u001b[32m✔\u001b[39m \u001b[34mworkflows   \u001b[39m 1.1.3\n",
      "\u001b[32m✔\u001b[39m \u001b[34mmodeldata   \u001b[39m 1.2.0     \u001b[32m✔\u001b[39m \u001b[34mworkflowsets\u001b[39m 1.0.1\n",
      "\u001b[32m✔\u001b[39m \u001b[34mparsnip     \u001b[39m 1.1.1     \u001b[32m✔\u001b[39m \u001b[34myardstick   \u001b[39m 1.2.0\n",
      "\u001b[32m✔\u001b[39m \u001b[34mrecipes     \u001b[39m 1.0.8     \n",
      "\n",
      "── \u001b[1mConflicts\u001b[22m ───────────────────────────────────────── tidymodels_conflicts() ──\n",
      "\u001b[31m✖\u001b[39m \u001b[34mscales\u001b[39m::\u001b[32mdiscard()\u001b[39m masks \u001b[34mpurrr\u001b[39m::discard()\n",
      "\u001b[31m✖\u001b[39m \u001b[34mdplyr\u001b[39m::\u001b[32mfilter()\u001b[39m   masks \u001b[34mstats\u001b[39m::filter()\n",
      "\u001b[31m✖\u001b[39m \u001b[34mrecipes\u001b[39m::\u001b[32mfixed()\u001b[39m  masks \u001b[34mstringr\u001b[39m::fixed()\n",
      "\u001b[31m✖\u001b[39m \u001b[34mdplyr\u001b[39m::\u001b[32mlag()\u001b[39m      masks \u001b[34mstats\u001b[39m::lag()\n",
      "\u001b[31m✖\u001b[39m \u001b[34myardstick\u001b[39m::\u001b[32mspec()\u001b[39m masks \u001b[34mreadr\u001b[39m::spec()\n",
      "\u001b[31m✖\u001b[39m \u001b[34mrecipes\u001b[39m::\u001b[32mstep()\u001b[39m   masks \u001b[34mstats\u001b[39m::step()\n",
      "\u001b[34m•\u001b[39m Use suppressPackageStartupMessages() to eliminate package startup messages\n",
      "\n"
     ]
    }
   ],
   "source": [
    "library(tidyverse)\n",
    "library(dplyr)\n",
    "library(repr)\n",
    "library(tidymodels)"
   ]
  },
  {
   "cell_type": "markdown",
   "id": "b6baa583-ce8f-403c-a0ca-75e000ea9597",
   "metadata": {},
   "source": [
    "# GROUP PROPOSAL: WINE TASTING"
   ]
  },
  {
   "cell_type": "markdown",
   "id": "bb0ff985-4d95-4284-85f2-e141d253e792",
   "metadata": {},
   "source": [
    "## Introduction"
   ]
  },
  {
   "cell_type": "markdown",
   "id": "d1f4bdac-2c34-4d94-b6fa-c53f62d4b0f8",
   "metadata": {},
   "source": [
    "## Preliminary exploratory data analysis"
   ]
  },
  {
   "cell_type": "markdown",
   "id": "ab509b3a-5e2b-42af-9f0c-64178c02430c",
   "metadata": {},
   "source": [
    "1. Data Reading"
   ]
  },
  {
   "cell_type": "code",
   "execution_count": 2,
   "id": "ebc566b4-be56-4a32-9b03-acf4e4621310",
   "metadata": {},
   "outputs": [],
   "source": [
    "temp <- tempfile()\n",
    "download_file <- download.file(\"https://archive.ics.uci.edu/static/public/186/wine+quality.zip\", temp)\n",
    "red_wine <- read.csv2(unz(temp, \"winequality-red.csv\")) |>\n",
    "             mutate(type = \"Red\")\n",
    "white_wine <- read.csv2(unz(temp, \"winequality-white.csv\")) |>\n",
    "              mutate(type =\"White\")\n",
    "unlink(temp)"
   ]
  },
  {
   "cell_type": "markdown",
   "id": "06bb5666-1f8e-4280-a1b1-36ab671a7d90",
   "metadata": {},
   "source": [
    "2. Data Wrangling"
   ]
  },
  {
   "cell_type": "code",
   "execution_count": 3,
   "id": "3567dca4-45a2-44a9-9594-f67eb1322f2a",
   "metadata": {
    "scrolled": true
   },
   "outputs": [
    {
     "data": {
      "text/html": [
       "<table class=\"dataframe\">\n",
       "<caption>A data.frame: 6 × 13</caption>\n",
       "<thead>\n",
       "\t<tr><th></th><th scope=col>fixed.acidity</th><th scope=col>volatile.acidity</th><th scope=col>citric.acid</th><th scope=col>residual.sugar</th><th scope=col>chlorides</th><th scope=col>free.sulfur.dioxide</th><th scope=col>total.sulfur.dioxide</th><th scope=col>density</th><th scope=col>pH</th><th scope=col>sulphates</th><th scope=col>alcohol</th><th scope=col>quality</th><th scope=col>type</th></tr>\n",
       "\t<tr><th></th><th scope=col>&lt;dbl&gt;</th><th scope=col>&lt;dbl&gt;</th><th scope=col>&lt;dbl&gt;</th><th scope=col>&lt;dbl&gt;</th><th scope=col>&lt;dbl&gt;</th><th scope=col>&lt;dbl&gt;</th><th scope=col>&lt;dbl&gt;</th><th scope=col>&lt;dbl&gt;</th><th scope=col>&lt;dbl&gt;</th><th scope=col>&lt;dbl&gt;</th><th scope=col>&lt;dbl&gt;</th><th scope=col>&lt;fct&gt;</th><th scope=col>&lt;fct&gt;</th></tr>\n",
       "</thead>\n",
       "<tbody>\n",
       "\t<tr><th scope=row>1</th><td> 7.4</td><td>0.70</td><td>0.00</td><td>1.9</td><td>0.076</td><td>11</td><td>34</td><td>0.9978</td><td>3.51</td><td>0.56</td><td>9.4</td><td>5</td><td>Red</td></tr>\n",
       "\t<tr><th scope=row>2</th><td> 7.8</td><td>0.88</td><td>0.00</td><td>2.6</td><td>0.098</td><td>25</td><td>67</td><td>0.9968</td><td>3.20</td><td>0.68</td><td>9.8</td><td>5</td><td>Red</td></tr>\n",
       "\t<tr><th scope=row>3</th><td> 7.8</td><td>0.76</td><td>0.04</td><td>2.3</td><td>0.092</td><td>15</td><td>54</td><td>0.9970</td><td>3.26</td><td>0.65</td><td>9.8</td><td>5</td><td>Red</td></tr>\n",
       "\t<tr><th scope=row>4</th><td>11.2</td><td>0.28</td><td>0.56</td><td>1.9</td><td>0.075</td><td>17</td><td>60</td><td>0.9980</td><td>3.16</td><td>0.58</td><td>9.8</td><td>6</td><td>Red</td></tr>\n",
       "\t<tr><th scope=row>5</th><td> 7.4</td><td>0.70</td><td>0.00</td><td>1.9</td><td>0.076</td><td>11</td><td>34</td><td>0.9978</td><td>3.51</td><td>0.56</td><td>9.4</td><td>5</td><td>Red</td></tr>\n",
       "\t<tr><th scope=row>6</th><td> 7.4</td><td>0.66</td><td>0.00</td><td>1.8</td><td>0.075</td><td>13</td><td>40</td><td>0.9978</td><td>3.51</td><td>0.56</td><td>9.4</td><td>5</td><td>Red</td></tr>\n",
       "</tbody>\n",
       "</table>\n"
      ],
      "text/latex": [
       "A data.frame: 6 × 13\n",
       "\\begin{tabular}{r|lllllllllllll}\n",
       "  & fixed.acidity & volatile.acidity & citric.acid & residual.sugar & chlorides & free.sulfur.dioxide & total.sulfur.dioxide & density & pH & sulphates & alcohol & quality & type\\\\\n",
       "  & <dbl> & <dbl> & <dbl> & <dbl> & <dbl> & <dbl> & <dbl> & <dbl> & <dbl> & <dbl> & <dbl> & <fct> & <fct>\\\\\n",
       "\\hline\n",
       "\t1 &  7.4 & 0.70 & 0.00 & 1.9 & 0.076 & 11 & 34 & 0.9978 & 3.51 & 0.56 & 9.4 & 5 & Red\\\\\n",
       "\t2 &  7.8 & 0.88 & 0.00 & 2.6 & 0.098 & 25 & 67 & 0.9968 & 3.20 & 0.68 & 9.8 & 5 & Red\\\\\n",
       "\t3 &  7.8 & 0.76 & 0.04 & 2.3 & 0.092 & 15 & 54 & 0.9970 & 3.26 & 0.65 & 9.8 & 5 & Red\\\\\n",
       "\t4 & 11.2 & 0.28 & 0.56 & 1.9 & 0.075 & 17 & 60 & 0.9980 & 3.16 & 0.58 & 9.8 & 6 & Red\\\\\n",
       "\t5 &  7.4 & 0.70 & 0.00 & 1.9 & 0.076 & 11 & 34 & 0.9978 & 3.51 & 0.56 & 9.4 & 5 & Red\\\\\n",
       "\t6 &  7.4 & 0.66 & 0.00 & 1.8 & 0.075 & 13 & 40 & 0.9978 & 3.51 & 0.56 & 9.4 & 5 & Red\\\\\n",
       "\\end{tabular}\n"
      ],
      "text/markdown": [
       "\n",
       "A data.frame: 6 × 13\n",
       "\n",
       "| <!--/--> | fixed.acidity &lt;dbl&gt; | volatile.acidity &lt;dbl&gt; | citric.acid &lt;dbl&gt; | residual.sugar &lt;dbl&gt; | chlorides &lt;dbl&gt; | free.sulfur.dioxide &lt;dbl&gt; | total.sulfur.dioxide &lt;dbl&gt; | density &lt;dbl&gt; | pH &lt;dbl&gt; | sulphates &lt;dbl&gt; | alcohol &lt;dbl&gt; | quality &lt;fct&gt; | type &lt;fct&gt; |\n",
       "|---|---|---|---|---|---|---|---|---|---|---|---|---|---|\n",
       "| 1 |  7.4 | 0.70 | 0.00 | 1.9 | 0.076 | 11 | 34 | 0.9978 | 3.51 | 0.56 | 9.4 | 5 | Red |\n",
       "| 2 |  7.8 | 0.88 | 0.00 | 2.6 | 0.098 | 25 | 67 | 0.9968 | 3.20 | 0.68 | 9.8 | 5 | Red |\n",
       "| 3 |  7.8 | 0.76 | 0.04 | 2.3 | 0.092 | 15 | 54 | 0.9970 | 3.26 | 0.65 | 9.8 | 5 | Red |\n",
       "| 4 | 11.2 | 0.28 | 0.56 | 1.9 | 0.075 | 17 | 60 | 0.9980 | 3.16 | 0.58 | 9.8 | 6 | Red |\n",
       "| 5 |  7.4 | 0.70 | 0.00 | 1.9 | 0.076 | 11 | 34 | 0.9978 | 3.51 | 0.56 | 9.4 | 5 | Red |\n",
       "| 6 |  7.4 | 0.66 | 0.00 | 1.8 | 0.075 | 13 | 40 | 0.9978 | 3.51 | 0.56 | 9.4 | 5 | Red |\n",
       "\n"
      ],
      "text/plain": [
       "  fixed.acidity volatile.acidity citric.acid residual.sugar chlorides\n",
       "1  7.4          0.70             0.00        1.9            0.076    \n",
       "2  7.8          0.88             0.00        2.6            0.098    \n",
       "3  7.8          0.76             0.04        2.3            0.092    \n",
       "4 11.2          0.28             0.56        1.9            0.075    \n",
       "5  7.4          0.70             0.00        1.9            0.076    \n",
       "6  7.4          0.66             0.00        1.8            0.075    \n",
       "  free.sulfur.dioxide total.sulfur.dioxide density pH   sulphates alcohol\n",
       "1 11                  34                   0.9978  3.51 0.56      9.4    \n",
       "2 25                  67                   0.9968  3.20 0.68      9.8    \n",
       "3 15                  54                   0.9970  3.26 0.65      9.8    \n",
       "4 17                  60                   0.9980  3.16 0.58      9.8    \n",
       "5 11                  34                   0.9978  3.51 0.56      9.4    \n",
       "6 13                  40                   0.9978  3.51 0.56      9.4    \n",
       "  quality type\n",
       "1 5       Red \n",
       "2 5       Red \n",
       "3 5       Red \n",
       "4 6       Red \n",
       "5 5       Red \n",
       "6 5       Red "
      ]
     },
     "metadata": {},
     "output_type": "display_data"
    }
   ],
   "source": [
    "wine_data <- rbind(red_wine, white_wine) |>\n",
    "             mutate(across(fixed.acidity:alcohol, as.numeric), quality = as_factor(quality),\n",
    "                   type = as_factor(type))\n",
    "write_csv(wine_data, \"../data/wine_data.csv\")\n",
    "head(wine_data)"
   ]
  },
  {
   "cell_type": "markdown",
   "id": "98e6f271-ad57-41ec-97de-656f0edf8128",
   "metadata": {},
   "source": [
    "3. Summarization"
   ]
  },
  {
   "cell_type": "markdown",
   "id": "752d4bf0-f997-434a-b1d5-49f2a405b522",
   "metadata": {},
   "source": [
    "a. The number of observations in each red wine/white wine class"
   ]
  },
  {
   "cell_type": "code",
   "execution_count": 4,
   "id": "fccb93e3-1e49-4123-96e8-9403dec8920e",
   "metadata": {},
   "outputs": [
    {
     "data": {
      "text/html": [
       "<table class=\"dataframe\">\n",
       "<caption>A tibble: 2 × 2</caption>\n",
       "<thead>\n",
       "\t<tr><th scope=col>type</th><th scope=col>Number</th></tr>\n",
       "\t<tr><th scope=col>&lt;fct&gt;</th><th scope=col>&lt;int&gt;</th></tr>\n",
       "</thead>\n",
       "<tbody>\n",
       "\t<tr><td>Red  </td><td>1599</td></tr>\n",
       "\t<tr><td>White</td><td>4898</td></tr>\n",
       "</tbody>\n",
       "</table>\n"
      ],
      "text/latex": [
       "A tibble: 2 × 2\n",
       "\\begin{tabular}{ll}\n",
       " type & Number\\\\\n",
       " <fct> & <int>\\\\\n",
       "\\hline\n",
       "\t Red   & 1599\\\\\n",
       "\t White & 4898\\\\\n",
       "\\end{tabular}\n"
      ],
      "text/markdown": [
       "\n",
       "A tibble: 2 × 2\n",
       "\n",
       "| type &lt;fct&gt; | Number &lt;int&gt; |\n",
       "|---|---|\n",
       "| Red   | 1599 |\n",
       "| White | 4898 |\n",
       "\n"
      ],
      "text/plain": [
       "  type  Number\n",
       "1 Red   1599  \n",
       "2 White 4898  "
      ]
     },
     "metadata": {},
     "output_type": "display_data"
    }
   ],
   "source": [
    "wine_type_number <- wine_data |>\n",
    "                    group_by(type) |>\n",
    "                    summarize(Number = n())\n",
    "wine_type_number"
   ]
  },
  {
   "cell_type": "markdown",
   "id": "36fb5ada-43b1-4858-8744-db74f2f0d2f7",
   "metadata": {},
   "source": [
    "Therefore, we have 4898 observations for White wine and 1599 observations for Red wine."
   ]
  },
  {
   "cell_type": "markdown",
   "id": "b6eefbd1-22af-4109-ac35-02c591c82664",
   "metadata": {},
   "source": [
    "b. The number of observations for each quality level of White and Red wine."
   ]
  },
  {
   "cell_type": "code",
   "execution_count": 5,
   "id": "1b169892-6614-41bc-b4d2-b302944bd0e4",
   "metadata": {},
   "outputs": [
    {
     "name": "stderr",
     "output_type": "stream",
     "text": [
      "\u001b[1m\u001b[22m`summarise()` has grouped output by 'type'. You can override using the\n",
      "`.groups` argument.\n"
     ]
    },
    {
     "data": {
      "text/html": [
       "<table class=\"dataframe\">\n",
       "<caption>A grouped_df: 13 × 3</caption>\n",
       "<thead>\n",
       "\t<tr><th scope=col>type</th><th scope=col>quality</th><th scope=col>Number</th></tr>\n",
       "\t<tr><th scope=col>&lt;fct&gt;</th><th scope=col>&lt;fct&gt;</th><th scope=col>&lt;int&gt;</th></tr>\n",
       "</thead>\n",
       "<tbody>\n",
       "\t<tr><td>Red  </td><td>3</td><td>  10</td></tr>\n",
       "\t<tr><td>Red  </td><td>4</td><td>  53</td></tr>\n",
       "\t<tr><td>Red  </td><td>5</td><td> 681</td></tr>\n",
       "\t<tr><td>Red  </td><td>6</td><td> 638</td></tr>\n",
       "\t<tr><td>Red  </td><td>7</td><td> 199</td></tr>\n",
       "\t<tr><td>Red  </td><td>8</td><td>  18</td></tr>\n",
       "\t<tr><td>White</td><td>3</td><td>  20</td></tr>\n",
       "\t<tr><td>White</td><td>4</td><td> 163</td></tr>\n",
       "\t<tr><td>White</td><td>5</td><td>1457</td></tr>\n",
       "\t<tr><td>White</td><td>6</td><td>2198</td></tr>\n",
       "\t<tr><td>White</td><td>7</td><td> 880</td></tr>\n",
       "\t<tr><td>White</td><td>8</td><td> 175</td></tr>\n",
       "\t<tr><td>White</td><td>9</td><td>   5</td></tr>\n",
       "</tbody>\n",
       "</table>\n"
      ],
      "text/latex": [
       "A grouped\\_df: 13 × 3\n",
       "\\begin{tabular}{lll}\n",
       " type & quality & Number\\\\\n",
       " <fct> & <fct> & <int>\\\\\n",
       "\\hline\n",
       "\t Red   & 3 &   10\\\\\n",
       "\t Red   & 4 &   53\\\\\n",
       "\t Red   & 5 &  681\\\\\n",
       "\t Red   & 6 &  638\\\\\n",
       "\t Red   & 7 &  199\\\\\n",
       "\t Red   & 8 &   18\\\\\n",
       "\t White & 3 &   20\\\\\n",
       "\t White & 4 &  163\\\\\n",
       "\t White & 5 & 1457\\\\\n",
       "\t White & 6 & 2198\\\\\n",
       "\t White & 7 &  880\\\\\n",
       "\t White & 8 &  175\\\\\n",
       "\t White & 9 &    5\\\\\n",
       "\\end{tabular}\n"
      ],
      "text/markdown": [
       "\n",
       "A grouped_df: 13 × 3\n",
       "\n",
       "| type &lt;fct&gt; | quality &lt;fct&gt; | Number &lt;int&gt; |\n",
       "|---|---|---|\n",
       "| Red   | 3 |   10 |\n",
       "| Red   | 4 |   53 |\n",
       "| Red   | 5 |  681 |\n",
       "| Red   | 6 |  638 |\n",
       "| Red   | 7 |  199 |\n",
       "| Red   | 8 |   18 |\n",
       "| White | 3 |   20 |\n",
       "| White | 4 |  163 |\n",
       "| White | 5 | 1457 |\n",
       "| White | 6 | 2198 |\n",
       "| White | 7 |  880 |\n",
       "| White | 8 |  175 |\n",
       "| White | 9 |    5 |\n",
       "\n"
      ],
      "text/plain": [
       "   type  quality Number\n",
       "1  Red   3         10  \n",
       "2  Red   4         53  \n",
       "3  Red   5        681  \n",
       "4  Red   6        638  \n",
       "5  Red   7        199  \n",
       "6  Red   8         18  \n",
       "7  White 3         20  \n",
       "8  White 4        163  \n",
       "9  White 5       1457  \n",
       "10 White 6       2198  \n",
       "11 White 7        880  \n",
       "12 White 8        175  \n",
       "13 White 9          5  "
      ]
     },
     "metadata": {},
     "output_type": "display_data"
    }
   ],
   "source": [
    "quality_number <- wine_data |>\n",
    "                  group_by(type, quality) |>\n",
    "                  summarize(Number = n())\n",
    "quality_number"
   ]
  },
  {
   "cell_type": "markdown",
   "id": "15128bf7-bf62-4042-b031-59b1042935d6",
   "metadata": {},
   "source": [
    "c. Mean value of each measurements for different quality type."
   ]
  },
  {
   "cell_type": "code",
   "execution_count": 9,
   "id": "f9f4ed16-f9d2-400d-b8ab-bc8ebf5c057a",
   "metadata": {},
   "outputs": [
    {
     "name": "stderr",
     "output_type": "stream",
     "text": [
      "\u001b[1m\u001b[22m`summarise()` has grouped output by 'type'. You can override using the\n",
      "`.groups` argument.\n"
     ]
    },
    {
     "data": {
      "text/html": [
       "<table class=\"dataframe\">\n",
       "<caption>A grouped_df: 13 × 13</caption>\n",
       "<thead>\n",
       "\t<tr><th scope=col>type</th><th scope=col>quality</th><th scope=col>mean_fixed_acidity</th><th scope=col>mean_volatile_acidity</th><th scope=col>mean_citric_acid</th><th scope=col>mean_residual_sugar</th><th scope=col>mean_chlorides</th><th scope=col>mean_free_sufdioxide</th><th scope=col>mean_tot_sufdioxide</th><th scope=col>mean_density</th><th scope=col>mean_ph</th><th scope=col>mean_sulphates</th><th scope=col>mean_alcohol</th></tr>\n",
       "\t<tr><th scope=col>&lt;fct&gt;</th><th scope=col>&lt;fct&gt;</th><th scope=col>&lt;dbl&gt;</th><th scope=col>&lt;dbl&gt;</th><th scope=col>&lt;dbl&gt;</th><th scope=col>&lt;dbl&gt;</th><th scope=col>&lt;dbl&gt;</th><th scope=col>&lt;dbl&gt;</th><th scope=col>&lt;dbl&gt;</th><th scope=col>&lt;dbl&gt;</th><th scope=col>&lt;dbl&gt;</th><th scope=col>&lt;dbl&gt;</th><th scope=col>&lt;dbl&gt;</th></tr>\n",
       "</thead>\n",
       "<tbody>\n",
       "\t<tr><td>Red  </td><td>3</td><td>8.360000</td><td>0.8845000</td><td>0.1710000</td><td>2.635000</td><td>0.12250000</td><td>11.00000</td><td> 24.90000</td><td>0.9974640</td><td>3.398000</td><td>0.5700000</td><td> 9.955000</td></tr>\n",
       "\t<tr><td>Red  </td><td>4</td><td>7.779245</td><td>0.6939623</td><td>0.1741509</td><td>2.694340</td><td>0.09067925</td><td>12.26415</td><td> 36.24528</td><td>0.9965425</td><td>3.381509</td><td>0.5964151</td><td>10.265094</td></tr>\n",
       "\t<tr><td>Red  </td><td>5</td><td>8.167254</td><td>0.5770411</td><td>0.2436858</td><td>2.528855</td><td>0.09273568</td><td>16.98385</td><td> 56.51395</td><td>0.9971036</td><td>3.304949</td><td>0.6209692</td><td> 9.899706</td></tr>\n",
       "\t<tr><td>Red  </td><td>6</td><td>8.347179</td><td>0.4974843</td><td>0.2738245</td><td>2.477194</td><td>0.08495611</td><td>15.71160</td><td> 40.86991</td><td>0.9966151</td><td>3.318072</td><td>0.6753292</td><td>10.629519</td></tr>\n",
       "\t<tr><td>Red  </td><td>7</td><td>8.872362</td><td>0.4039196</td><td>0.3751759</td><td>2.720603</td><td>0.07658794</td><td>14.04523</td><td> 35.02010</td><td>0.9961043</td><td>3.290754</td><td>0.7412563</td><td>11.465913</td></tr>\n",
       "\t<tr><td>Red  </td><td>8</td><td>8.566667</td><td>0.4233333</td><td>0.3911111</td><td>2.577778</td><td>0.06844444</td><td>13.27778</td><td> 33.44444</td><td>0.9952122</td><td>3.267222</td><td>0.7677778</td><td>12.094444</td></tr>\n",
       "\t<tr><td>White</td><td>3</td><td>7.600000</td><td>0.3332500</td><td>0.3360000</td><td>6.392500</td><td>0.05430000</td><td>53.32500</td><td>170.60000</td><td>0.9948840</td><td>3.187500</td><td>0.4745000</td><td>10.345000</td></tr>\n",
       "\t<tr><td>White</td><td>4</td><td>7.129448</td><td>0.3812270</td><td>0.3042331</td><td>4.628221</td><td>0.05009816</td><td>23.35890</td><td>125.27914</td><td>0.9942767</td><td>3.182883</td><td>0.4761350</td><td>10.152454</td></tr>\n",
       "\t<tr><td>White</td><td>5</td><td>6.933974</td><td>0.3020110</td><td>0.3376527</td><td>7.334969</td><td>0.05154633</td><td>36.43205</td><td>150.90460</td><td>0.9952626</td><td>3.168833</td><td>0.4822032</td><td> 9.808840</td></tr>\n",
       "\t<tr><td>White</td><td>6</td><td>6.837671</td><td>0.2605641</td><td>0.3380255</td><td>6.441606</td><td>0.04521747</td><td>35.65059</td><td>137.04732</td><td>0.9939613</td><td>3.188599</td><td>0.4911056</td><td>10.575372</td></tr>\n",
       "\t<tr><td>White</td><td>7</td><td>6.734716</td><td>0.2627670</td><td>0.3256250</td><td>5.186477</td><td>0.03819091</td><td>34.12557</td><td>125.11477</td><td>0.9924524</td><td>3.213898</td><td>0.5031023</td><td>11.367936</td></tr>\n",
       "\t<tr><td>White</td><td>8</td><td>6.657143</td><td>0.2774000</td><td>0.3265143</td><td>5.671429</td><td>0.03831429</td><td>36.72000</td><td>126.16571</td><td>0.9922359</td><td>3.218686</td><td>0.4862286</td><td>11.636000</td></tr>\n",
       "\t<tr><td>White</td><td>9</td><td>7.420000</td><td>0.2980000</td><td>0.3860000</td><td>4.120000</td><td>0.02740000</td><td>33.40000</td><td>116.00000</td><td>0.9914600</td><td>3.308000</td><td>0.4660000</td><td>12.180000</td></tr>\n",
       "</tbody>\n",
       "</table>\n"
      ],
      "text/latex": [
       "A grouped\\_df: 13 × 13\n",
       "\\begin{tabular}{lllllllllllll}\n",
       " type & quality & mean\\_fixed\\_acidity & mean\\_volatile\\_acidity & mean\\_citric\\_acid & mean\\_residual\\_sugar & mean\\_chlorides & mean\\_free\\_sufdioxide & mean\\_tot\\_sufdioxide & mean\\_density & mean\\_ph & mean\\_sulphates & mean\\_alcohol\\\\\n",
       " <fct> & <fct> & <dbl> & <dbl> & <dbl> & <dbl> & <dbl> & <dbl> & <dbl> & <dbl> & <dbl> & <dbl> & <dbl>\\\\\n",
       "\\hline\n",
       "\t Red   & 3 & 8.360000 & 0.8845000 & 0.1710000 & 2.635000 & 0.12250000 & 11.00000 &  24.90000 & 0.9974640 & 3.398000 & 0.5700000 &  9.955000\\\\\n",
       "\t Red   & 4 & 7.779245 & 0.6939623 & 0.1741509 & 2.694340 & 0.09067925 & 12.26415 &  36.24528 & 0.9965425 & 3.381509 & 0.5964151 & 10.265094\\\\\n",
       "\t Red   & 5 & 8.167254 & 0.5770411 & 0.2436858 & 2.528855 & 0.09273568 & 16.98385 &  56.51395 & 0.9971036 & 3.304949 & 0.6209692 &  9.899706\\\\\n",
       "\t Red   & 6 & 8.347179 & 0.4974843 & 0.2738245 & 2.477194 & 0.08495611 & 15.71160 &  40.86991 & 0.9966151 & 3.318072 & 0.6753292 & 10.629519\\\\\n",
       "\t Red   & 7 & 8.872362 & 0.4039196 & 0.3751759 & 2.720603 & 0.07658794 & 14.04523 &  35.02010 & 0.9961043 & 3.290754 & 0.7412563 & 11.465913\\\\\n",
       "\t Red   & 8 & 8.566667 & 0.4233333 & 0.3911111 & 2.577778 & 0.06844444 & 13.27778 &  33.44444 & 0.9952122 & 3.267222 & 0.7677778 & 12.094444\\\\\n",
       "\t White & 3 & 7.600000 & 0.3332500 & 0.3360000 & 6.392500 & 0.05430000 & 53.32500 & 170.60000 & 0.9948840 & 3.187500 & 0.4745000 & 10.345000\\\\\n",
       "\t White & 4 & 7.129448 & 0.3812270 & 0.3042331 & 4.628221 & 0.05009816 & 23.35890 & 125.27914 & 0.9942767 & 3.182883 & 0.4761350 & 10.152454\\\\\n",
       "\t White & 5 & 6.933974 & 0.3020110 & 0.3376527 & 7.334969 & 0.05154633 & 36.43205 & 150.90460 & 0.9952626 & 3.168833 & 0.4822032 &  9.808840\\\\\n",
       "\t White & 6 & 6.837671 & 0.2605641 & 0.3380255 & 6.441606 & 0.04521747 & 35.65059 & 137.04732 & 0.9939613 & 3.188599 & 0.4911056 & 10.575372\\\\\n",
       "\t White & 7 & 6.734716 & 0.2627670 & 0.3256250 & 5.186477 & 0.03819091 & 34.12557 & 125.11477 & 0.9924524 & 3.213898 & 0.5031023 & 11.367936\\\\\n",
       "\t White & 8 & 6.657143 & 0.2774000 & 0.3265143 & 5.671429 & 0.03831429 & 36.72000 & 126.16571 & 0.9922359 & 3.218686 & 0.4862286 & 11.636000\\\\\n",
       "\t White & 9 & 7.420000 & 0.2980000 & 0.3860000 & 4.120000 & 0.02740000 & 33.40000 & 116.00000 & 0.9914600 & 3.308000 & 0.4660000 & 12.180000\\\\\n",
       "\\end{tabular}\n"
      ],
      "text/markdown": [
       "\n",
       "A grouped_df: 13 × 13\n",
       "\n",
       "| type &lt;fct&gt; | quality &lt;fct&gt; | mean_fixed_acidity &lt;dbl&gt; | mean_volatile_acidity &lt;dbl&gt; | mean_citric_acid &lt;dbl&gt; | mean_residual_sugar &lt;dbl&gt; | mean_chlorides &lt;dbl&gt; | mean_free_sufdioxide &lt;dbl&gt; | mean_tot_sufdioxide &lt;dbl&gt; | mean_density &lt;dbl&gt; | mean_ph &lt;dbl&gt; | mean_sulphates &lt;dbl&gt; | mean_alcohol &lt;dbl&gt; |\n",
       "|---|---|---|---|---|---|---|---|---|---|---|---|---|\n",
       "| Red   | 3 | 8.360000 | 0.8845000 | 0.1710000 | 2.635000 | 0.12250000 | 11.00000 |  24.90000 | 0.9974640 | 3.398000 | 0.5700000 |  9.955000 |\n",
       "| Red   | 4 | 7.779245 | 0.6939623 | 0.1741509 | 2.694340 | 0.09067925 | 12.26415 |  36.24528 | 0.9965425 | 3.381509 | 0.5964151 | 10.265094 |\n",
       "| Red   | 5 | 8.167254 | 0.5770411 | 0.2436858 | 2.528855 | 0.09273568 | 16.98385 |  56.51395 | 0.9971036 | 3.304949 | 0.6209692 |  9.899706 |\n",
       "| Red   | 6 | 8.347179 | 0.4974843 | 0.2738245 | 2.477194 | 0.08495611 | 15.71160 |  40.86991 | 0.9966151 | 3.318072 | 0.6753292 | 10.629519 |\n",
       "| Red   | 7 | 8.872362 | 0.4039196 | 0.3751759 | 2.720603 | 0.07658794 | 14.04523 |  35.02010 | 0.9961043 | 3.290754 | 0.7412563 | 11.465913 |\n",
       "| Red   | 8 | 8.566667 | 0.4233333 | 0.3911111 | 2.577778 | 0.06844444 | 13.27778 |  33.44444 | 0.9952122 | 3.267222 | 0.7677778 | 12.094444 |\n",
       "| White | 3 | 7.600000 | 0.3332500 | 0.3360000 | 6.392500 | 0.05430000 | 53.32500 | 170.60000 | 0.9948840 | 3.187500 | 0.4745000 | 10.345000 |\n",
       "| White | 4 | 7.129448 | 0.3812270 | 0.3042331 | 4.628221 | 0.05009816 | 23.35890 | 125.27914 | 0.9942767 | 3.182883 | 0.4761350 | 10.152454 |\n",
       "| White | 5 | 6.933974 | 0.3020110 | 0.3376527 | 7.334969 | 0.05154633 | 36.43205 | 150.90460 | 0.9952626 | 3.168833 | 0.4822032 |  9.808840 |\n",
       "| White | 6 | 6.837671 | 0.2605641 | 0.3380255 | 6.441606 | 0.04521747 | 35.65059 | 137.04732 | 0.9939613 | 3.188599 | 0.4911056 | 10.575372 |\n",
       "| White | 7 | 6.734716 | 0.2627670 | 0.3256250 | 5.186477 | 0.03819091 | 34.12557 | 125.11477 | 0.9924524 | 3.213898 | 0.5031023 | 11.367936 |\n",
       "| White | 8 | 6.657143 | 0.2774000 | 0.3265143 | 5.671429 | 0.03831429 | 36.72000 | 126.16571 | 0.9922359 | 3.218686 | 0.4862286 | 11.636000 |\n",
       "| White | 9 | 7.420000 | 0.2980000 | 0.3860000 | 4.120000 | 0.02740000 | 33.40000 | 116.00000 | 0.9914600 | 3.308000 | 0.4660000 | 12.180000 |\n",
       "\n"
      ],
      "text/plain": [
       "   type  quality mean_fixed_acidity mean_volatile_acidity mean_citric_acid\n",
       "1  Red   3       8.360000           0.8845000             0.1710000       \n",
       "2  Red   4       7.779245           0.6939623             0.1741509       \n",
       "3  Red   5       8.167254           0.5770411             0.2436858       \n",
       "4  Red   6       8.347179           0.4974843             0.2738245       \n",
       "5  Red   7       8.872362           0.4039196             0.3751759       \n",
       "6  Red   8       8.566667           0.4233333             0.3911111       \n",
       "7  White 3       7.600000           0.3332500             0.3360000       \n",
       "8  White 4       7.129448           0.3812270             0.3042331       \n",
       "9  White 5       6.933974           0.3020110             0.3376527       \n",
       "10 White 6       6.837671           0.2605641             0.3380255       \n",
       "11 White 7       6.734716           0.2627670             0.3256250       \n",
       "12 White 8       6.657143           0.2774000             0.3265143       \n",
       "13 White 9       7.420000           0.2980000             0.3860000       \n",
       "   mean_residual_sugar mean_chlorides mean_free_sufdioxide mean_tot_sufdioxide\n",
       "1  2.635000            0.12250000     11.00000              24.90000          \n",
       "2  2.694340            0.09067925     12.26415              36.24528          \n",
       "3  2.528855            0.09273568     16.98385              56.51395          \n",
       "4  2.477194            0.08495611     15.71160              40.86991          \n",
       "5  2.720603            0.07658794     14.04523              35.02010          \n",
       "6  2.577778            0.06844444     13.27778              33.44444          \n",
       "7  6.392500            0.05430000     53.32500             170.60000          \n",
       "8  4.628221            0.05009816     23.35890             125.27914          \n",
       "9  7.334969            0.05154633     36.43205             150.90460          \n",
       "10 6.441606            0.04521747     35.65059             137.04732          \n",
       "11 5.186477            0.03819091     34.12557             125.11477          \n",
       "12 5.671429            0.03831429     36.72000             126.16571          \n",
       "13 4.120000            0.02740000     33.40000             116.00000          \n",
       "   mean_density mean_ph  mean_sulphates mean_alcohol\n",
       "1  0.9974640    3.398000 0.5700000       9.955000   \n",
       "2  0.9965425    3.381509 0.5964151      10.265094   \n",
       "3  0.9971036    3.304949 0.6209692       9.899706   \n",
       "4  0.9966151    3.318072 0.6753292      10.629519   \n",
       "5  0.9961043    3.290754 0.7412563      11.465913   \n",
       "6  0.9952122    3.267222 0.7677778      12.094444   \n",
       "7  0.9948840    3.187500 0.4745000      10.345000   \n",
       "8  0.9942767    3.182883 0.4761350      10.152454   \n",
       "9  0.9952626    3.168833 0.4822032       9.808840   \n",
       "10 0.9939613    3.188599 0.4911056      10.575372   \n",
       "11 0.9924524    3.213898 0.5031023      11.367936   \n",
       "12 0.9922359    3.218686 0.4862286      11.636000   \n",
       "13 0.9914600    3.308000 0.4660000      12.180000   "
      ]
     },
     "metadata": {},
     "output_type": "display_data"
    }
   ],
   "source": [
    "mean_measurements <- wine_data |>\n",
    "                     group_by(type, quality) |>\n",
    "                     summarize(mean_fixed_acidity = mean(fixed.acidity),\n",
    "                               mean_volatile_acidity = mean(volatile.acidity),\n",
    "                               mean_citric_acid = mean(citric.acid),\n",
    "                               mean_residual_sugar = mean(residual.sugar),\n",
    "                               mean_chlorides = mean(chlorides),\n",
    "                               mean_free_sufdioxide = mean(free.sulfur.dioxide),\n",
    "                               mean_tot_sufdioxide = mean(total.sulfur.dioxide),\n",
    "                               mean_density = mean(density),\n",
    "                               mean_ph = mean(pH),\n",
    "                               mean_sulphates = mean(sulphates),\n",
    "                               mean_alcohol = mean(alcohol))\n",
    "mean_measurements"
   ]
  },
  {
   "cell_type": "markdown",
   "id": "61788774-f8d1-4a2b-8347-accd1260d776",
   "metadata": {},
   "source": [
    "d. Missing data - We have no missing data in this dataset."
   ]
  },
  {
   "cell_type": "markdown",
   "id": "4544032c-4a82-4d21-b29c-08918e18e0d3",
   "metadata": {},
   "source": [
    "4. Visualization"
   ]
  },
  {
   "cell_type": "markdown",
   "id": "df455a66-1f24-4b1d-97cc-d5a516e51728",
   "metadata": {},
   "source": [
    "## Methods"
   ]
  },
  {
   "cell_type": "markdown",
   "id": "45243fdc-153c-46c3-8418-0b86f4d073e1",
   "metadata": {},
   "source": [
    "## Expected outcomes and significance"
   ]
  },
  {
   "cell_type": "code",
   "execution_count": null,
   "id": "ae36c2d6-41b5-43d4-802d-57b0cb97cd26",
   "metadata": {},
   "outputs": [],
   "source": []
  }
 ],
 "metadata": {
  "kernelspec": {
   "display_name": "R",
   "language": "R",
   "name": "ir"
  },
  "language_info": {
   "codemirror_mode": "r",
   "file_extension": ".r",
   "mimetype": "text/x-r-source",
   "name": "R",
   "pygments_lexer": "r",
   "version": "4.3.1"
  }
 },
 "nbformat": 4,
 "nbformat_minor": 5
}
