{
 "cells": [
  {
   "cell_type": "code",
   "execution_count": 1,
   "id": "65e6bc99-6b12-43b0-8a94-d8bc35317ed1",
   "metadata": {},
   "outputs": [
    {
     "name": "stderr",
     "output_type": "stream",
     "text": [
      "Warning message:\n",
      "“package ‘ggplot2’ was built under R version 4.3.2”\n",
      "── \u001b[1mAttaching core tidyverse packages\u001b[22m ──────────────────────── tidyverse 2.0.0 ──\n",
      "\u001b[32m✔\u001b[39m \u001b[34mdplyr    \u001b[39m 1.1.3     \u001b[32m✔\u001b[39m \u001b[34mreadr    \u001b[39m 2.1.4\n",
      "\u001b[32m✔\u001b[39m \u001b[34mforcats  \u001b[39m 1.0.0     \u001b[32m✔\u001b[39m \u001b[34mstringr  \u001b[39m 1.5.0\n",
      "\u001b[32m✔\u001b[39m \u001b[34mggplot2  \u001b[39m 3.5.0     \u001b[32m✔\u001b[39m \u001b[34mtibble   \u001b[39m 3.2.1\n",
      "\u001b[32m✔\u001b[39m \u001b[34mlubridate\u001b[39m 1.9.2     \u001b[32m✔\u001b[39m \u001b[34mtidyr    \u001b[39m 1.3.0\n",
      "\u001b[32m✔\u001b[39m \u001b[34mpurrr    \u001b[39m 1.0.2     \n",
      "── \u001b[1mConflicts\u001b[22m ────────────────────────────────────────── tidyverse_conflicts() ──\n",
      "\u001b[31m✖\u001b[39m \u001b[34mdplyr\u001b[39m::\u001b[32mfilter()\u001b[39m masks \u001b[34mstats\u001b[39m::filter()\n",
      "\u001b[31m✖\u001b[39m \u001b[34mdplyr\u001b[39m::\u001b[32mlag()\u001b[39m    masks \u001b[34mstats\u001b[39m::lag()\n",
      "\u001b[36mℹ\u001b[39m Use the conflicted package (\u001b[3m\u001b[34m<http://conflicted.r-lib.org/>\u001b[39m\u001b[23m) to force all conflicts to become errors\n",
      "── \u001b[1mAttaching packages\u001b[22m ────────────────────────────────────── tidymodels 1.1.1 ──\n",
      "\n",
      "\u001b[32m✔\u001b[39m \u001b[34mbroom       \u001b[39m 1.0.5     \u001b[32m✔\u001b[39m \u001b[34mrsample     \u001b[39m 1.2.0\n",
      "\u001b[32m✔\u001b[39m \u001b[34mdials       \u001b[39m 1.2.0     \u001b[32m✔\u001b[39m \u001b[34mtune        \u001b[39m 1.1.2\n",
      "\u001b[32m✔\u001b[39m \u001b[34minfer       \u001b[39m 1.0.5     \u001b[32m✔\u001b[39m \u001b[34mworkflows   \u001b[39m 1.1.3\n",
      "\u001b[32m✔\u001b[39m \u001b[34mmodeldata   \u001b[39m 1.2.0     \u001b[32m✔\u001b[39m \u001b[34mworkflowsets\u001b[39m 1.0.1\n",
      "\u001b[32m✔\u001b[39m \u001b[34mparsnip     \u001b[39m 1.1.1     \u001b[32m✔\u001b[39m \u001b[34myardstick   \u001b[39m 1.2.0\n",
      "\u001b[32m✔\u001b[39m \u001b[34mrecipes     \u001b[39m 1.0.8     \n",
      "\n",
      "── \u001b[1mConflicts\u001b[22m ───────────────────────────────────────── tidymodels_conflicts() ──\n",
      "\u001b[31m✖\u001b[39m \u001b[34mscales\u001b[39m::\u001b[32mdiscard()\u001b[39m masks \u001b[34mpurrr\u001b[39m::discard()\n",
      "\u001b[31m✖\u001b[39m \u001b[34mdplyr\u001b[39m::\u001b[32mfilter()\u001b[39m   masks \u001b[34mstats\u001b[39m::filter()\n",
      "\u001b[31m✖\u001b[39m \u001b[34mrecipes\u001b[39m::\u001b[32mfixed()\u001b[39m  masks \u001b[34mstringr\u001b[39m::fixed()\n",
      "\u001b[31m✖\u001b[39m \u001b[34mdplyr\u001b[39m::\u001b[32mlag()\u001b[39m      masks \u001b[34mstats\u001b[39m::lag()\n",
      "\u001b[31m✖\u001b[39m \u001b[34myardstick\u001b[39m::\u001b[32mspec()\u001b[39m masks \u001b[34mreadr\u001b[39m::spec()\n",
      "\u001b[31m✖\u001b[39m \u001b[34mrecipes\u001b[39m::\u001b[32mstep()\u001b[39m   masks \u001b[34mstats\u001b[39m::step()\n",
      "\u001b[34m•\u001b[39m Search for functions across packages at \u001b[32mhttps://www.tidymodels.org/find/\u001b[39m\n",
      "\n",
      "Updating HTML index of packages in '.Library'\n",
      "\n",
      "Making 'packages.html' ...\n",
      " done\n",
      "\n"
     ]
    }
   ],
   "source": [
    "library(tidyverse)\n",
    "library(dplyr)\n",
    "library(repr)\n",
    "library(tidymodels)\n",
    "library(recipes)\n",
    "install.packages(\"themis\")\n",
    "library(themis)"
   ]
  },
  {
   "cell_type": "markdown",
   "id": "f950a41e",
   "metadata": {},
   "source": [
    "## Introduction"
   ]
  },
  {
   "cell_type": "markdown",
   "id": "950d5ae9",
   "metadata": {},
   "source": [
    "- Wine quality highly depends on its composition of various aromatic compounds. By assessing the content of wines such as their sugar content and pH value, we will be able to determine how good the wine is. \n",
    "- In this project, we will be using the wine quality dataset obtained from a web URL.\n",
    "- We want to solve **regression problem** —- what would be the wine’s quality level given its values on the fixed acidity, volatile acidity, and other variables.\n",
    "-  7 out of the 12 variables are used to predict the **wine quality**, which ranges from 0 to 10, with 10 being the highest quality wine.\n",
    "- We focus on indicating which attributes affect the wine quality and predicting the quality based on each attribute's values. By using the regression method, we create a linear formula and use the coefficients to know how the attribute level influences the wine quality(i.e. it positively/negatively influences the wine quality)."
   ]
  },
  {
   "cell_type": "markdown",
   "id": "584dd883",
   "metadata": {},
   "source": [
    "## Preliminary exploratory data analysis"
   ]
  },
  {
   "cell_type": "markdown",
   "id": "23806459",
   "metadata": {},
   "source": [
    "**1. Data Reading**"
   ]
  },
  {
   "cell_type": "code",
   "execution_count": 2,
   "id": "c35aca2f",
   "metadata": {},
   "outputs": [],
   "source": [
    "temp <- tempfile()\n",
    "download_file <- download.file(\"https://archive.ics.uci.edu/static/public/186/wine+quality.zip\", temp)\n",
    "red_wine <- read.csv2(unz(temp, \"winequality-red.csv\")) |>\n",
    "             mutate(type = 0)\n",
    "white_wine <- read.csv2(unz(temp, \"winequality-white.csv\")) |>\n",
    "              mutate(type = 1)\n",
    "unlink(temp)"
   ]
  },
  {
   "cell_type": "markdown",
   "id": "6c97b72a",
   "metadata": {},
   "source": [
    "**2. Data Wrangling**"
   ]
  },
  {
   "cell_type": "code",
   "execution_count": 3,
   "id": "1c1b6d83",
   "metadata": {},
   "outputs": [],
   "source": [
    "wine_data <- rbind(red_wine, white_wine) |>\n",
    "             mutate(across(fixed.acidity:alcohol, as.numeric), quality = ifelse(quality <= 5, 0, 1),\n",
    "                   type = as_factor(type))\n",
    "\n",
    "write_csv(wine_data, \"../data/wine_data.csv\")"
   ]
  },
  {
   "cell_type": "markdown",
   "id": "7e2efdff",
   "metadata": {},
   "source": [
    "**3. Data Splitting**"
   ]
  },
  {
   "cell_type": "markdown",
   "id": "95f49854-d9b1-4c80-856d-29c1799b5660",
   "metadata": {},
   "source": [
    "To know how good our prediction is, we should split our data into training dataset and testing dataset."
   ]
  },
  {
   "cell_type": "code",
   "execution_count": 4,
   "id": "d0ad9f80",
   "metadata": {},
   "outputs": [],
   "source": [
    "set.seed(2000)\n",
    "wine_split <- initial_split(wine_data, prop = 0.75, strata = quality)\n",
    "wine_training <- training(wine_split)\n",
    "wine_testing <- testing(wine_split)"
   ]
  },
  {
   "cell_type": "markdown",
   "id": "3772976e",
   "metadata": {},
   "source": [
    "**4. Summarization**"
   ]
  },
  {
   "cell_type": "markdown",
   "id": "84a89c4c",
   "metadata": {},
   "source": [
    "**a. The number of observations in each red wine/white wine class**"
   ]
  },
  {
   "cell_type": "code",
   "execution_count": 5,
   "id": "f29506f8",
   "metadata": {},
   "outputs": [],
   "source": [
    "wine_type_number <- wine_training |>\n",
    "                    group_by(type) |>\n",
    "                    summarize(Number = n())\n",
    "wine_type_number"
   ]
  },
  {
   "cell_type": "markdown",
   "id": "e723cd84",
   "metadata": {},
   "source": [
    "- We have 4898 observations for White wine and 1599 observations for Red wine.\n",
    "- There is an imbalance between the types of the wine. "
   ]
  },
  {
   "cell_type": "markdown",
   "id": "3a4d3265",
   "metadata": {},
   "source": [
    "**b. The number of observations for each quality level.**"
   ]
  },
  {
   "cell_type": "code",
   "execution_count": 6,
   "id": "47007e3b",
   "metadata": {},
   "outputs": [],
   "source": [
    "quality_number <- wine_training |>\n",
    "                  group_by(quality) |>\n",
    "                  summarize(Number = n())\n",
    "quality_number"
   ]
  },
  {
   "cell_type": "markdown",
   "id": "6dbb5c8f",
   "metadata": {},
   "source": []
  },
  {
   "cell_type": "markdown",
   "id": "7919f924",
   "metadata": {},
   "source": [
    "**c. Mean value of each measurements for different quality type.**"
   ]
  },
  {
   "cell_type": "code",
   "execution_count": 7,
   "id": "5cf62f46",
   "metadata": {},
   "outputs": [],
   "source": [
    "mean_measurements <- wine_training |>\n",
    "                     group_by(quality) |>\n",
    "                     summarize(mean_fixed_acidity = mean(fixed.acidity),\n",
    "                               mean_volatile_acidity = mean(volatile.acidity),\n",
    "                               mean_citric_acid = mean(citric.acid),\n",
    "                               mean_residual_sugar = mean(residual.sugar),\n",
    "                               mean_chlorides = mean(chlorides),\n",
    "                               mean_free_sufdioxide = mean(free.sulfur.dioxide),\n",
    "                               mean_tot_sufdioxide = mean(total.sulfur.dioxide),\n",
    "                               mean_density = mean(density),\n",
    "                               mean_ph = mean(pH),\n",
    "                               mean_sulphates = mean(sulphates),\n",
    "                               mean_alcohol = mean(alcohol))\n",
    "mean_measurements"
   ]
  },
  {
   "cell_type": "markdown",
   "id": "0f883acd",
   "metadata": {},
   "source": [
    "The ranges of the mean are different across different columns hence the variables will need to be scaled "
   ]
  },
  {
   "cell_type": "markdown",
   "id": "8057b947",
   "metadata": {},
   "source": [
    "**d. Missing data - We have no missing data in this dataset.**"
   ]
  },
  {
   "cell_type": "markdown",
   "id": "b57265bb",
   "metadata": {},
   "source": [
    "**4. Visualization: histogram between quality and other numeric variables**"
   ]
  },
  {
   "cell_type": "code",
   "execution_count": 8,
   "id": "8a520122",
   "metadata": {
    "scrolled": true
   },
   "outputs": [],
   "source": [
    "wine_visualization <- wine_training |>\n",
    "                      mutate(quality = as.factor(quality))  \n",
    "histograms <- lapply(names(wine_visualization)[!names(wine_visualization) %in% c(\"quality\", \"type\")], function(col) {\n",
    "  ggplot(wine_visualization, aes(x = !!sym(col), fill = quality)) +\n",
    "    geom_histogram(position = \"dodge\", bins = 100, binwidth = 2) +\n",
    "    labs(title = paste(\"Histogram of\", col), x = col, y = \"Counts\", fill = \"Quality\") +\n",
    "    theme_minimal()\n",
    "})\n",
    "\n",
    "histograms"
   ]
  },
  {
   "cell_type": "markdown",
   "id": "0ed63094",
   "metadata": {},
   "source": [
    "- Most variables have a linear negative correlation to quality\n",
    "- free.sulfur.dioxide and total.sulfur. dioxide seems to have no correlation with quality as the categories' bins are layered in the histogram.\n",
    "- alcohol and residual.sugar have a non-linear relationship with quality"
   ]
  },
  {
   "cell_type": "markdown",
   "id": "0025cb54",
   "metadata": {},
   "source": [
    "## Training & Evaluation"
   ]
  },
  {
   "cell_type": "markdown",
   "id": "defe063c",
   "metadata": {},
   "source": [
    "### 1. The multivariable Linear regression Model"
   ]
  },
  {
   "cell_type": "code",
   "execution_count": 9,
   "id": "cb3aead3-c290-4974-aed0-5a43e22d3550",
   "metadata": {},
   "outputs": [],
   "source": [
    "set.seed(1)\n",
    "wine_data_reg <- wine_training |>\n",
    "                  mutate(quality = as.numeric(quality)) |>\n",
    "                  select(alcohol, chlorides, citric.acid, sulphates, type, quality)\n",
    "head(wine_data_reg)"
   ]
  },
  {
   "cell_type": "code",
   "execution_count": 10,
   "id": "9c71eb21-5497-4192-a416-82c9c92f30ed",
   "metadata": {},
   "outputs": [],
   "source": [
    "lm_recipe <- recipe(quality ~ .,\n",
    "                     data = wine_data_reg)\n",
    "\n",
    "lm_spec <- linear_reg() |>\n",
    "   set_engine(\"lm\") |>\n",
    "   set_mode(\"regression\")\n",
    "\n",
    "lm_fit <- workflow() |>\n",
    "   add_recipe(lm_recipe) |>\n",
    "   add_model(lm_spec) |>\n",
    "   fit(data = wine_data_reg)\n",
    "\n",
    " lm_fit"
   ]
  },
  {
   "cell_type": "code",
   "execution_count": 11,
   "id": "25f47d00",
   "metadata": {},
   "outputs": [],
   "source": [
    "lm_test_results <- lm_fit |>\n",
    "   predict(wine_testing) |>\n",
    "   bind_cols(wine_testing) |>\n",
    "   metrics(truth = quality, estimate = .pred)\n",
    "\n",
    " lm_test_results\n",
    "\n",
    " lm_coeffs <- lm_fit |>\n",
    "              extract_fit_parsnip() |>\n",
    "              tidy()\n",
    " lm_coeffs"
   ]
  },
  {
   "cell_type": "markdown",
   "id": "ad161fdb-37ee-4166-98a5-0c727153d0d9",
   "metadata": {},
   "source": [
    "The RMSPE of this linear regression model is 0.7961641"
   ]
  },
  {
   "cell_type": "markdown",
   "id": "2f47e377",
   "metadata": {},
   "source": [
    "The mathematical expression to describe this linear regression model is:\n",
    "$quality = 3.81887647 + 0.09180436 \\cdot (fixed.acidity) - 0.19801129 \\cdot (volatile.acidity) + 0.01694675 \\cdot (citric.acid) - 0.08928023 \\cdot (chlorides) - 0.08928023 \\cdot (density) + 0.07583322 \\cdot (pH) + 0.13697853 \\cdot (sulphates)$"
   ]
  },
  {
   "cell_type": "markdown",
   "id": "3f5ece63-5bee-4737-abf8-b871f7c19512",
   "metadata": {},
   "source": [
    "### Visualization of the result"
   ]
  },
  {
   "cell_type": "code",
   "execution_count": null,
   "id": "baaa66b0-c147-4c0d-850b-485a7650bb29",
   "metadata": {},
   "outputs": [],
   "source": []
  },
  {
   "cell_type": "markdown",
   "id": "df8956f8-29b3-4d9a-9f7e-02a32c92511a",
   "metadata": {},
   "source": [
    "### 2. K-nn regression Model"
   ]
  },
  {
   "cell_type": "code",
   "execution_count": 12,
   "id": "8c6ce813-9ac9-4ee4-bec1-ecf5297bad08",
   "metadata": {},
   "outputs": [],
   "source": [
    "# knn_recipe <- recipe(quality ~ ., data = wine_data_reg) |>\n",
    "#   step_scale(all_numeric_predictors()) |>\n",
    "#   step_center(all_numeric_predictors())"
   ]
  },
  {
   "cell_type": "code",
   "execution_count": 13,
   "id": "5b834aa5-1246-48b0-8b9d-c25e7d3bcf19",
   "metadata": {},
   "outputs": [],
   "source": [
    "# wine_knnreg_spec <- nearest_neighbor(weight_func = \"rectangular\",\n",
    "#                                      neighbors = tune()) |>\n",
    "#                     set_engine(\"kknn\") |>\n",
    "#                     set_mode(\"regression\")"
   ]
  },
  {
   "cell_type": "code",
   "execution_count": 14,
   "id": "def48e40-915e-400d-803e-44cc9ab9f6d5",
   "metadata": {},
   "outputs": [],
   "source": [
    "# knn_vfold <- vfold_cv(wine_training, v = 5, strata = quality)\n",
    "\n",
    "# knn_workflow <- workflow() |>\n",
    "#     add_recipe(knn_recipe) |>\n",
    "#     add_model(wine_knnreg_spec)\n",
    "\n",
    "# knn_workflow"
   ]
  },
  {
   "cell_type": "code",
   "execution_count": 15,
   "id": "d7b850f8-c6f7-4643-81a3-7eff59a82b77",
   "metadata": {},
   "outputs": [],
   "source": [
    "# gridvals <- tibble(neighbors = seq(from = 10, to = 100, by = 10))\n",
    "\n",
    "# knn_reg_results <- knn_workflow |>\n",
    "#   tune_grid(resamples = knn_vfold, grid = gridvals)\n",
    "#show the results\n",
    "#head(knn_reg_results)"
   ]
  },
  {
   "cell_type": "code",
   "execution_count": 16,
   "id": "5597a612-5c39-40b3-8ce1-4bdf414cc603",
   "metadata": {},
   "outputs": [],
   "source": [
    "# knn_min <- knn_reg_results |>\n",
    "#     filter(mean == min(mean))\n",
    "# knn_min"
   ]
  },
  {
   "cell_type": "markdown",
   "id": "7b3cd486-f24c-4333-a391-998c37bddf9d",
   "metadata": {},
   "source": [
    "The smallest RMSPE occurs when K = 19."
   ]
  },
  {
   "cell_type": "code",
   "execution_count": 17,
   "id": "c308dbe9-72ff-46e0-acd0-4a9c12bdbfbf",
   "metadata": {},
   "outputs": [],
   "source": [
    "# kmin <- knn_min |> pull(neighbors)\n",
    "\n",
    "# knn_reg_spec <- nearest_neighbor(weight_func = \"rectangular\", neighbors = kmin) |>\n",
    "#   set_engine(\"kknn\") |>\n",
    "#   set_mode(\"regression\")\n",
    "\n",
    "# knn_reg_fit <- workflow() |>\n",
    "#   add_recipe(knn_recipe) |>\n",
    "#   add_model(knn_reg_spec) |>\n",
    "#   fit(data = wine_reg_training)\n",
    "\n",
    "# knn_reg_summary <- knn_reg_fit |>\n",
    "#   predict(wine_reg_testing) |>\n",
    "#   bind_cols(wine_reg_testing) |>\n",
    "#   metrics(truth = quality, estimate = .pred) |>\n",
    "#   filter(.metric == 'rmse')\n",
    "\n",
    "# knn_reg_summary"
   ]
  },
  {
   "cell_type": "code",
   "execution_count": null,
   "id": "885ed725-778d-4a7a-8783-67678a747b58",
   "metadata": {},
   "outputs": [],
   "source": []
  },
  {
   "cell_type": "markdown",
   "id": "9c90c879",
   "metadata": {},
   "source": [
    "### 2. Classification Model"
   ]
  },
  {
   "cell_type": "code",
   "execution_count": 18,
   "id": "28936c88",
   "metadata": {},
   "outputs": [],
   "source": [
    "wine_data_class <- wine_data |>\n",
    "    select(alcohol, chlorides, citric.acid, sulphates, type, quality)\n",
    "\n",
    "wine_data_class$quality <- as.factor(wine_data_class$quality)"
   ]
  },
  {
   "cell_type": "markdown",
   "id": "1e10121e-0a0a-4f71-9300-4687e89892f4",
   "metadata": {},
   "source": [
    "Before doing the classification model, we need to centering, scaling, and balance the data first."
   ]
  },
  {
   "cell_type": "code",
   "execution_count": 19,
   "id": "c28da9c4",
   "metadata": {},
   "outputs": [],
   "source": [
    "# Split the data\n",
    "wine_class_split <- initial_split(wine_data_class, prop = 0.6, strata = quality)\n",
    "wine_class_training <- training(wine_class_split)\n",
    "wine_class_testing <- testing(wine_class_split)"
   ]
  },
  {
   "cell_type": "code",
   "execution_count": 20,
   "id": "ff9a52ed-801b-4162-bb8f-02bae39d2f83",
   "metadata": {},
   "outputs": [],
   "source": [
    "# Create a recipe\n",
    "knn_recipe <- recipe(quality ~ ., data = wine_class_training) |>\n",
    "    step_scale(all_numeric_predictors()) |>\n",
    "    step_center(all_numeric_predictors()) |>\n",
    "    step_upsample(quality, over_ratio = 1, skip = TRUE) "
   ]
  },
  {
   "cell_type": "code",
   "execution_count": 21,
   "id": "f06212de-ff38-48e2-b68e-e3c9c3906541",
   "metadata": {},
   "outputs": [
    {
     "ename": "ERROR",
     "evalue": "\u001b[1m\u001b[33mError\u001b[39m in `step_scale()`:\u001b[22m\n\u001b[1mCaused by error in `prep()`:\u001b[22m\n\u001b[33m!\u001b[39m Can't subset columns that don't exist.\n\u001b[31m✖\u001b[39m Column `all_numeric_predictors` doesn't exist.\n",
     "output_type": "error",
     "traceback": [
      "\u001b[1m\u001b[33mError\u001b[39m in `step_scale()`:\u001b[22m\n\u001b[1mCaused by error in `prep()`:\u001b[22m\n\u001b[33m!\u001b[39m Can't subset columns that don't exist.\n\u001b[31m✖\u001b[39m Column `all_numeric_predictors` doesn't exist.\nTraceback:\n",
      "1. bake(prep(knn_recipe, data = wine_class_training), new_data = wine_class_training)",
      "2. prep(knn_recipe, data = wine_class_training)",
      "3. prep.recipe(knn_recipe, data = wine_class_training)",
      "4. recipes_error_context(prep(x$steps[[i]], training = training, \n .     info = x$term_info), step_name = class(x$steps[[i]])[[1L]])",
      "5. withCallingHandlers(expr = force(expr), error = function(cnd) {\n .     stop_recipes_step(call = call(step_name), parent = cnd)\n . })",
      "6. force(expr)",
      "7. prep(x$steps[[i]], training = training, info = x$term_info)",
      "8. prep.step_scale(x$steps[[i]], training = training, info = x$term_info)",
      "9. recipes_eval_select(x$terms, training, info)",
      "10. tidyselect::eval_select(expr = expr, data = data, allow_rename = allow_rename, \n  .     error_call = call)",
      "11. eval_select_impl(data, names(data), as_quosure(expr, env), include = include, \n  .     exclude = exclude, strict = strict, name_spec = name_spec, \n  .     allow_rename = allow_rename, allow_empty = allow_empty, allow_predicates = allow_predicates, \n  .     error_call = error_call, )",
      "12. with_subscript_errors(out <- vars_select_eval(vars, expr, strict = strict, \n  .     data = x, name_spec = name_spec, uniquely_named = uniquely_named, \n  .     allow_rename = allow_rename, allow_empty = allow_empty, allow_predicates = allow_predicates, \n  .     type = type, error_call = error_call), type = type)",
      "13. try_fetch(expr, vctrs_error_subscript = function(cnd) {\n  .     cnd$subscript_action <- subscript_action(type)\n  .     cnd$subscript_elt <- \"column\"\n  .     cnd_signal(cnd)\n  . })",
      "14. withCallingHandlers(expr, condition = function(cnd) {\n  .     {\n  .         .__handler_frame__. <- TRUE\n  .         .__setup_frame__. <- frame\n  .         if (inherits(cnd, \"message\")) {\n  .             except <- c(\"warning\", \"error\")\n  .         }\n  .         else if (inherits(cnd, \"warning\")) {\n  .             except <- \"error\"\n  .         }\n  .         else {\n  .             except <- \"\"\n  .         }\n  .     }\n  .     while (!is_null(cnd)) {\n  .         if (inherits(cnd, \"vctrs_error_subscript\")) {\n  .             out <- handlers[[1L]](cnd)\n  .             if (!inherits(out, \"rlang_zap\")) \n  .                 throw(out)\n  .         }\n  .         inherit <- .subset2(.subset2(cnd, \"rlang\"), \"inherit\")\n  .         if (is_false(inherit)) {\n  .             return()\n  .         }\n  .         cnd <- .subset2(cnd, \"parent\")\n  .     }\n  . })",
      "15. vars_select_eval(vars, expr, strict = strict, data = x, name_spec = name_spec, \n  .     uniquely_named = uniquely_named, allow_rename = allow_rename, \n  .     allow_empty = allow_empty, allow_predicates = allow_predicates, \n  .     type = type, error_call = error_call)",
      "16. walk_data_tree(expr, data_mask, context_mask)",
      "17. eval_c(expr, data_mask, context_mask)",
      "18. reduce_sels(node, data_mask, context_mask, init = init)",
      "19. walk_data_tree(new, data_mask, context_mask)",
      "20. as_indices_sel_impl(out, vars = vars, strict = strict, data = data, \n  .     allow_predicates = allow_predicates, call = error_call, arg = as_label(expr))",
      "21. as_indices_impl(x, vars, call = call, arg = arg, strict = strict)",
      "22. chr_as_locations(x, vars, call = call, arg = arg)",
      "23. vctrs::vec_as_location(x, n = length(vars), names = vars, call = call, \n  .     arg = arg)",
      "24. (function () \n  . stop_subscript_oob(i = i, subscript_type = subscript_type, names = names, \n  .     subscript_action = subscript_action, subscript_arg = subscript_arg, \n  .     call = call))()",
      "25. stop_subscript_oob(i = i, subscript_type = subscript_type, names = names, \n  .     subscript_action = subscript_action, subscript_arg = subscript_arg, \n  .     call = call)",
      "26. stop_subscript(class = \"vctrs_error_subscript_oob\", i = i, subscript_type = subscript_type, \n  .     ..., call = call)",
      "27. abort(class = c(class, \"vctrs_error_subscript\"), i = i, ..., \n  .     call = call)",
      "28. signal_abort(cnd, .file)",
      "29. signalCondition(cnd)",
      "30. (function (cnd) \n  . {\n  .     {\n  .         .__handler_frame__. <- TRUE\n  .         .__setup_frame__. <- frame\n  .         if (inherits(cnd, \"message\")) {\n  .             except <- c(\"warning\", \"error\")\n  .         }\n  .         else if (inherits(cnd, \"warning\")) {\n  .             except <- \"error\"\n  .         }\n  .         else {\n  .             except <- \"\"\n  .         }\n  .     }\n  .     while (!is_null(cnd)) {\n  .         if (inherits(cnd, \"vctrs_error_subscript\")) {\n  .             out <- handlers[[1L]](cnd)\n  .             if (!inherits(out, \"rlang_zap\")) \n  .                 throw(out)\n  .         }\n  .         inherit <- .subset2(.subset2(cnd, \"rlang\"), \"inherit\")\n  .         if (is_false(inherit)) {\n  .             return()\n  .         }\n  .         cnd <- .subset2(cnd, \"parent\")\n  .     }\n  . })(structure(list(message = \"\", trace = structure(list(call = list(\n  .     IRkernel::main(), kernel$run(), handle_shell(), executor$execute(msg), \n  .     tryCatch(evaluate(request$content$code, envir = .GlobalEnv, \n  .         output_handler = oh, stop_on_error = 1L), interrupt = function(cond) {\n  .         log_debug(\"Interrupt during execution\")\n  .         interrupted <<- TRUE\n  .     }, error = .self$handle_error), tryCatchList(expr, classes, \n  .         parentenv, handlers), tryCatchOne(tryCatchList(expr, \n  .         names[-nh], parentenv, handlers[-nh]), names[nh], parentenv, \n  .         handlers[[nh]]), doTryCatch(return(expr), name, parentenv, \n  .         handler), tryCatchList(expr, names[-nh], parentenv, handlers[-nh]), \n  .     tryCatchOne(expr, names, parentenv, handlers[[1L]]), doTryCatch(return(expr), \n  .         name, parentenv, handler), evaluate(request$content$code, \n  .         envir = .GlobalEnv, output_handler = oh, stop_on_error = 1L), \n  .     evaluate_call(expr, parsed$src[[i]], envir = envir, enclos = enclos, \n  .         debug = debug, last = i == length(out), use_try = stop_on_error != \n  .             2L, keep_warning = keep_warning, keep_message = keep_message, \n  .         log_echo = log_echo, log_warning = log_warning, output_handler = output_handler, \n  .         include_timing = include_timing), timing_fn(handle(ev <- withCallingHandlers(withVisible(eval_with_user_handlers(expr, \n  .         envir, enclos, user_handlers)), warning = wHandler, error = eHandler, \n  .         message = mHandler))), handle(ev <- withCallingHandlers(withVisible(eval_with_user_handlers(expr, \n  .         envir, enclos, user_handlers)), warning = wHandler, error = eHandler, \n  .         message = mHandler)), try(f, silent = TRUE), tryCatch(expr, \n  .         error = function(e) {\n  .             call <- conditionCall(e)\n  .             if (!is.null(call)) {\n  .                 if (identical(call[[1L]], quote(doTryCatch))) \n  .                   call <- sys.call(-4L)\n  .                 dcall <- deparse(call, nlines = 1L)\n  .                 prefix <- paste(\"Error in\", dcall, \": \")\n  .                 LONG <- 75L\n  .                 sm <- strsplit(conditionMessage(e), \"\\n\")[[1L]]\n  .                 w <- 14L + nchar(dcall, type = \"w\") + nchar(sm[1L], \n  .                   type = \"w\")\n  .                 if (is.na(w)) \n  .                   w <- 14L + nchar(dcall, type = \"b\") + nchar(sm[1L], \n  .                     type = \"b\")\n  .                 if (w > LONG) \n  .                   prefix <- paste0(prefix, \"\\n  \")\n  .             }\n  .             else prefix <- \"Error : \"\n  .             msg <- paste0(prefix, conditionMessage(e), \"\\n\")\n  .             .Internal(seterrmessage(msg[1L]))\n  .             if (!silent && isTRUE(getOption(\"show.error.messages\"))) {\n  .                 cat(msg, file = outFile)\n  .                 .Internal(printDeferredWarnings())\n  .             }\n  .             invisible(structure(msg, class = \"try-error\", condition = e))\n  .         }), tryCatchList(expr, classes, parentenv, handlers), \n  .     tryCatchOne(expr, names, parentenv, handlers[[1L]]), doTryCatch(return(expr), \n  .         name, parentenv, handler), withCallingHandlers(withVisible(eval_with_user_handlers(expr, \n  .         envir, enclos, user_handlers)), warning = wHandler, error = eHandler, \n  .         message = mHandler), withVisible(eval_with_user_handlers(expr, \n  .         envir, enclos, user_handlers)), eval_with_user_handlers(expr, \n  .         envir, enclos, user_handlers), eval(expr, envir, enclos), \n  .     eval(expr, envir, enclos), bake(prep(knn_recipe, data = wine_class_training), \n  .         new_data = wine_class_training), prep(knn_recipe, data = wine_class_training), \n  .     prep.recipe(knn_recipe, data = wine_class_training), recipes_error_context(prep(x$steps[[i]], \n  .         training = training, info = x$term_info), step_name = class(x$steps[[i]])[[1L]]), \n  .     withCallingHandlers(expr = force(expr), error = function(cnd) {\n  .         stop_recipes_step(call = call(step_name), parent = cnd)\n  .     }), force(expr), prep(x$steps[[i]], training = training, \n  .         info = x$term_info), prep.step_scale(x$steps[[i]], training = training, \n  .         info = x$term_info), recipes_eval_select(x$terms, training, \n  .         info), tidyselect::eval_select(expr = expr, data = data, \n  .         allow_rename = allow_rename, error_call = call), eval_select_impl(data, \n  .         names(data), as_quosure(expr, env), include = include, \n  .         exclude = exclude, strict = strict, name_spec = name_spec, \n  .         allow_rename = allow_rename, allow_empty = allow_empty, \n  .         allow_predicates = allow_predicates, error_call = error_call, \n  .         ), with_subscript_errors(out <- vars_select_eval(vars, \n  .         expr, strict = strict, data = x, name_spec = name_spec, \n  .         uniquely_named = uniquely_named, allow_rename = allow_rename, \n  .         allow_empty = allow_empty, allow_predicates = allow_predicates, \n  .         type = type, error_call = error_call), type = type), \n  .     try_fetch(expr, vctrs_error_subscript = function(cnd) {\n  .         cnd$subscript_action <- subscript_action(type)\n  .         cnd$subscript_elt <- \"column\"\n  .         cnd_signal(cnd)\n  .     }), withCallingHandlers(expr, condition = function(cnd) {\n  .         {\n  .             .__handler_frame__. <- TRUE\n  .             .__setup_frame__. <- frame\n  .             if (inherits(cnd, \"message\")) {\n  .                 except <- c(\"warning\", \"error\")\n  .             }\n  .             else if (inherits(cnd, \"warning\")) {\n  .                 except <- \"error\"\n  .             }\n  .             else {\n  .                 except <- \"\"\n  .             }\n  .         }\n  .         while (!is_null(cnd)) {\n  .             if (inherits(cnd, \"vctrs_error_subscript\")) {\n  .                 out <- handlers[[1L]](cnd)\n  .                 if (!inherits(out, \"rlang_zap\")) \n  .                   throw(out)\n  .             }\n  .             inherit <- .subset2(.subset2(cnd, \"rlang\"), \"inherit\")\n  .             if (is_false(inherit)) {\n  .                 return()\n  .             }\n  .             cnd <- .subset2(cnd, \"parent\")\n  .         }\n  .     }), vars_select_eval(vars, expr, strict = strict, data = x, \n  .         name_spec = name_spec, uniquely_named = uniquely_named, \n  .         allow_rename = allow_rename, allow_empty = allow_empty, \n  .         allow_predicates = allow_predicates, type = type, error_call = error_call), \n  .     walk_data_tree(expr, data_mask, context_mask), eval_c(expr, \n  .         data_mask, context_mask), reduce_sels(node, data_mask, \n  .         context_mask, init = init), walk_data_tree(new, data_mask, \n  .         context_mask), as_indices_sel_impl(out, vars = vars, \n  .         strict = strict, data = data, allow_predicates = allow_predicates, \n  .         call = error_call, arg = as_label(expr)), as_indices_impl(x, \n  .         vars, call = call, arg = arg, strict = strict), chr_as_locations(x, \n  .         vars, call = call, arg = arg), vctrs::vec_as_location(x, \n  .         n = length(vars), names = vars, call = call, arg = arg), \n  .     `<fn>`(), stop_subscript_oob(i = i, subscript_type = subscript_type, \n  .         names = names, subscript_action = subscript_action, subscript_arg = subscript_arg, \n  .         call = call), stop_subscript(class = \"vctrs_error_subscript_oob\", \n  .         i = i, subscript_type = subscript_type, ..., call = call), \n  .     abort(class = c(class, \"vctrs_error_subscript\"), i = i, ..., \n  .         call = call)), parent = c(0L, 1L, 2L, 3L, 4L, 5L, 6L, \n  . 7L, 6L, 9L, 10L, 4L, 12L, 13L, 13L, 15L, 16L, 17L, 18L, 19L, \n  . 13L, 13L, 13L, 23L, 24L, 0L, 0L, 0L, 28L, 29L, 29L, 28L, 28L, \n  . 33L, 34L, 35L, 36L, 37L, 38L, 36L, 40L, 41L, 42L, 43L, 44L, 45L, \n  . 46L, 47L, 0L, 49L, 50L, 51L), visible = c(TRUE, TRUE, TRUE, TRUE, \n  . TRUE, TRUE, TRUE, TRUE, TRUE, TRUE, TRUE, TRUE, TRUE, TRUE, TRUE, \n  . TRUE, TRUE, TRUE, TRUE, TRUE, TRUE, TRUE, TRUE, TRUE, TRUE, TRUE, \n  . TRUE, TRUE, TRUE, TRUE, TRUE, TRUE, TRUE, FALSE, FALSE, FALSE, \n  . FALSE, FALSE, FALSE, FALSE, FALSE, FALSE, FALSE, FALSE, FALSE, \n  . FALSE, FALSE, FALSE, FALSE, FALSE, FALSE, FALSE), namespace = c(\"IRkernel\", \n  . NA, \"IRkernel\", NA, \"base\", \"base\", \"base\", \"base\", \"base\", \"base\", \n  . \"base\", \"evaluate\", \"evaluate\", \"evaluate\", \"evaluate\", \"base\", \n  . \"base\", \"base\", \"base\", \"base\", \"base\", \"base\", \"evaluate\", \"base\", \n  . \"base\", \"recipes\", \"recipes\", \"recipes\", \"recipes\", \"base\", \"base\", \n  . \"recipes\", \"recipes\", \"recipes\", \"tidyselect\", \"tidyselect\", \n  . \"tidyselect\", \"rlang\", \"base\", \"tidyselect\", \"tidyselect\", \"tidyselect\", \n  . \"tidyselect\", \"tidyselect\", \"tidyselect\", \"tidyselect\", \"tidyselect\", \n  . \"vctrs\", \"vctrs\", \"vctrs\", \"vctrs\", \"rlang\"), scope = c(\"::\", \n  . NA, \"local\", NA, \"::\", \"local\", \"local\", \"local\", \"local\", \"local\", \n  . \"local\", \"::\", \":::\", \"local\", \"local\", \"::\", \"::\", \"local\", \n  . \"local\", \"local\", \"::\", \"::\", \":::\", \"::\", \"::\", \"::\", \"::\", \n  . \":::\", \":::\", \"::\", \"::\", \"::\", \":::\", \"::\", \"::\", \":::\", \":::\", \n  . \"::\", \"::\", \":::\", \":::\", \":::\", \":::\", \":::\", \":::\", \":::\", \n  . \":::\", \"::\", \"local\", \":::\", \":::\", \"::\"), error_frame = c(FALSE, \n  . FALSE, FALSE, FALSE, FALSE, FALSE, FALSE, FALSE, FALSE, FALSE, \n  . FALSE, FALSE, FALSE, FALSE, FALSE, FALSE, FALSE, FALSE, FALSE, \n  . FALSE, FALSE, FALSE, FALSE, FALSE, FALSE, FALSE, FALSE, FALSE, \n  . FALSE, FALSE, FALSE, FALSE, TRUE, FALSE, FALSE, FALSE, FALSE, \n  . FALSE, FALSE, FALSE, FALSE, FALSE, FALSE, FALSE, FALSE, FALSE, \n  . FALSE, FALSE, FALSE, FALSE, FALSE, FALSE)), row.names = c(NA, \n  . -52L), version = 2L, class = c(\"rlang_trace\", \"rlib_trace\", \"tbl\", \n  . \"data.frame\")), parent = NULL, i = \"all_numeric_predictors\", \n  .     subscript_type = \"character\", names = c(\"alcohol\", \"chlorides\", \n  .     \"citric.acid\", \"sulphates\", \"type\", \"quality\"), subscript_action = NULL, \n  .     subscript_arg = \"all_numeric_predictors\", rlang = list(inherit = TRUE), \n  .     call = prep(x$steps[[i]], training = training, info = x$term_info)), class = c(\"vctrs_error_subscript_oob\", \n  . \"vctrs_error_subscript\", \"rlang_error\", \"error\", \"condition\")))",
      "31. handlers[[1L]](cnd)",
      "32. cnd_signal(cnd)",
      "33. signal_abort(cnd)",
      "34. signalCondition(cnd)",
      "35. (function (cnd) \n  . {\n  .     stop_recipes_step(call = call(step_name), parent = cnd)\n  . })(structure(list(message = \"\", trace = structure(list(call = list(\n  .     IRkernel::main(), kernel$run(), handle_shell(), executor$execute(msg), \n  .     tryCatch(evaluate(request$content$code, envir = .GlobalEnv, \n  .         output_handler = oh, stop_on_error = 1L), interrupt = function(cond) {\n  .         log_debug(\"Interrupt during execution\")\n  .         interrupted <<- TRUE\n  .     }, error = .self$handle_error), tryCatchList(expr, classes, \n  .         parentenv, handlers), tryCatchOne(tryCatchList(expr, \n  .         names[-nh], parentenv, handlers[-nh]), names[nh], parentenv, \n  .         handlers[[nh]]), doTryCatch(return(expr), name, parentenv, \n  .         handler), tryCatchList(expr, names[-nh], parentenv, handlers[-nh]), \n  .     tryCatchOne(expr, names, parentenv, handlers[[1L]]), doTryCatch(return(expr), \n  .         name, parentenv, handler), evaluate(request$content$code, \n  .         envir = .GlobalEnv, output_handler = oh, stop_on_error = 1L), \n  .     evaluate_call(expr, parsed$src[[i]], envir = envir, enclos = enclos, \n  .         debug = debug, last = i == length(out), use_try = stop_on_error != \n  .             2L, keep_warning = keep_warning, keep_message = keep_message, \n  .         log_echo = log_echo, log_warning = log_warning, output_handler = output_handler, \n  .         include_timing = include_timing), timing_fn(handle(ev <- withCallingHandlers(withVisible(eval_with_user_handlers(expr, \n  .         envir, enclos, user_handlers)), warning = wHandler, error = eHandler, \n  .         message = mHandler))), handle(ev <- withCallingHandlers(withVisible(eval_with_user_handlers(expr, \n  .         envir, enclos, user_handlers)), warning = wHandler, error = eHandler, \n  .         message = mHandler)), try(f, silent = TRUE), tryCatch(expr, \n  .         error = function(e) {\n  .             call <- conditionCall(e)\n  .             if (!is.null(call)) {\n  .                 if (identical(call[[1L]], quote(doTryCatch))) \n  .                   call <- sys.call(-4L)\n  .                 dcall <- deparse(call, nlines = 1L)\n  .                 prefix <- paste(\"Error in\", dcall, \": \")\n  .                 LONG <- 75L\n  .                 sm <- strsplit(conditionMessage(e), \"\\n\")[[1L]]\n  .                 w <- 14L + nchar(dcall, type = \"w\") + nchar(sm[1L], \n  .                   type = \"w\")\n  .                 if (is.na(w)) \n  .                   w <- 14L + nchar(dcall, type = \"b\") + nchar(sm[1L], \n  .                     type = \"b\")\n  .                 if (w > LONG) \n  .                   prefix <- paste0(prefix, \"\\n  \")\n  .             }\n  .             else prefix <- \"Error : \"\n  .             msg <- paste0(prefix, conditionMessage(e), \"\\n\")\n  .             .Internal(seterrmessage(msg[1L]))\n  .             if (!silent && isTRUE(getOption(\"show.error.messages\"))) {\n  .                 cat(msg, file = outFile)\n  .                 .Internal(printDeferredWarnings())\n  .             }\n  .             invisible(structure(msg, class = \"try-error\", condition = e))\n  .         }), tryCatchList(expr, classes, parentenv, handlers), \n  .     tryCatchOne(expr, names, parentenv, handlers[[1L]]), doTryCatch(return(expr), \n  .         name, parentenv, handler), withCallingHandlers(withVisible(eval_with_user_handlers(expr, \n  .         envir, enclos, user_handlers)), warning = wHandler, error = eHandler, \n  .         message = mHandler), withVisible(eval_with_user_handlers(expr, \n  .         envir, enclos, user_handlers)), eval_with_user_handlers(expr, \n  .         envir, enclos, user_handlers), eval(expr, envir, enclos), \n  .     eval(expr, envir, enclos), bake(prep(knn_recipe, data = wine_class_training), \n  .         new_data = wine_class_training), prep(knn_recipe, data = wine_class_training), \n  .     prep.recipe(knn_recipe, data = wine_class_training), recipes_error_context(prep(x$steps[[i]], \n  .         training = training, info = x$term_info), step_name = class(x$steps[[i]])[[1L]]), \n  .     withCallingHandlers(expr = force(expr), error = function(cnd) {\n  .         stop_recipes_step(call = call(step_name), parent = cnd)\n  .     }), force(expr), prep(x$steps[[i]], training = training, \n  .         info = x$term_info), prep.step_scale(x$steps[[i]], training = training, \n  .         info = x$term_info), recipes_eval_select(x$terms, training, \n  .         info), tidyselect::eval_select(expr = expr, data = data, \n  .         allow_rename = allow_rename, error_call = call), eval_select_impl(data, \n  .         names(data), as_quosure(expr, env), include = include, \n  .         exclude = exclude, strict = strict, name_spec = name_spec, \n  .         allow_rename = allow_rename, allow_empty = allow_empty, \n  .         allow_predicates = allow_predicates, error_call = error_call, \n  .         ), with_subscript_errors(out <- vars_select_eval(vars, \n  .         expr, strict = strict, data = x, name_spec = name_spec, \n  .         uniquely_named = uniquely_named, allow_rename = allow_rename, \n  .         allow_empty = allow_empty, allow_predicates = allow_predicates, \n  .         type = type, error_call = error_call), type = type), \n  .     try_fetch(expr, vctrs_error_subscript = function(cnd) {\n  .         cnd$subscript_action <- subscript_action(type)\n  .         cnd$subscript_elt <- \"column\"\n  .         cnd_signal(cnd)\n  .     }), withCallingHandlers(expr, condition = function(cnd) {\n  .         {\n  .             .__handler_frame__. <- TRUE\n  .             .__setup_frame__. <- frame\n  .             if (inherits(cnd, \"message\")) {\n  .                 except <- c(\"warning\", \"error\")\n  .             }\n  .             else if (inherits(cnd, \"warning\")) {\n  .                 except <- \"error\"\n  .             }\n  .             else {\n  .                 except <- \"\"\n  .             }\n  .         }\n  .         while (!is_null(cnd)) {\n  .             if (inherits(cnd, \"vctrs_error_subscript\")) {\n  .                 out <- handlers[[1L]](cnd)\n  .                 if (!inherits(out, \"rlang_zap\")) \n  .                   throw(out)\n  .             }\n  .             inherit <- .subset2(.subset2(cnd, \"rlang\"), \"inherit\")\n  .             if (is_false(inherit)) {\n  .                 return()\n  .             }\n  .             cnd <- .subset2(cnd, \"parent\")\n  .         }\n  .     }), vars_select_eval(vars, expr, strict = strict, data = x, \n  .         name_spec = name_spec, uniquely_named = uniquely_named, \n  .         allow_rename = allow_rename, allow_empty = allow_empty, \n  .         allow_predicates = allow_predicates, type = type, error_call = error_call), \n  .     walk_data_tree(expr, data_mask, context_mask), eval_c(expr, \n  .         data_mask, context_mask), reduce_sels(node, data_mask, \n  .         context_mask, init = init), walk_data_tree(new, data_mask, \n  .         context_mask), as_indices_sel_impl(out, vars = vars, \n  .         strict = strict, data = data, allow_predicates = allow_predicates, \n  .         call = error_call, arg = as_label(expr)), as_indices_impl(x, \n  .         vars, call = call, arg = arg, strict = strict), chr_as_locations(x, \n  .         vars, call = call, arg = arg), vctrs::vec_as_location(x, \n  .         n = length(vars), names = vars, call = call, arg = arg), \n  .     `<fn>`(), stop_subscript_oob(i = i, subscript_type = subscript_type, \n  .         names = names, subscript_action = subscript_action, subscript_arg = subscript_arg, \n  .         call = call), stop_subscript(class = \"vctrs_error_subscript_oob\", \n  .         i = i, subscript_type = subscript_type, ..., call = call), \n  .     abort(class = c(class, \"vctrs_error_subscript\"), i = i, ..., \n  .         call = call)), parent = c(0L, 1L, 2L, 3L, 4L, 5L, 6L, \n  . 7L, 6L, 9L, 10L, 4L, 12L, 13L, 13L, 15L, 16L, 17L, 18L, 19L, \n  . 13L, 13L, 13L, 23L, 24L, 0L, 0L, 0L, 28L, 29L, 29L, 28L, 28L, \n  . 33L, 34L, 35L, 36L, 37L, 38L, 36L, 40L, 41L, 42L, 43L, 44L, 45L, \n  . 46L, 47L, 0L, 49L, 50L, 51L), visible = c(TRUE, TRUE, TRUE, TRUE, \n  . TRUE, TRUE, TRUE, TRUE, TRUE, TRUE, TRUE, TRUE, TRUE, TRUE, TRUE, \n  . TRUE, TRUE, TRUE, TRUE, TRUE, TRUE, TRUE, TRUE, TRUE, TRUE, TRUE, \n  . TRUE, TRUE, TRUE, TRUE, TRUE, TRUE, TRUE, FALSE, FALSE, FALSE, \n  . FALSE, FALSE, FALSE, FALSE, FALSE, FALSE, FALSE, FALSE, FALSE, \n  . FALSE, FALSE, FALSE, FALSE, FALSE, FALSE, FALSE), namespace = c(\"IRkernel\", \n  . NA, \"IRkernel\", NA, \"base\", \"base\", \"base\", \"base\", \"base\", \"base\", \n  . \"base\", \"evaluate\", \"evaluate\", \"evaluate\", \"evaluate\", \"base\", \n  . \"base\", \"base\", \"base\", \"base\", \"base\", \"base\", \"evaluate\", \"base\", \n  . \"base\", \"recipes\", \"recipes\", \"recipes\", \"recipes\", \"base\", \"base\", \n  . \"recipes\", \"recipes\", \"recipes\", \"tidyselect\", \"tidyselect\", \n  . \"tidyselect\", \"rlang\", \"base\", \"tidyselect\", \"tidyselect\", \"tidyselect\", \n  . \"tidyselect\", \"tidyselect\", \"tidyselect\", \"tidyselect\", \"tidyselect\", \n  . \"vctrs\", \"vctrs\", \"vctrs\", \"vctrs\", \"rlang\"), scope = c(\"::\", \n  . NA, \"local\", NA, \"::\", \"local\", \"local\", \"local\", \"local\", \"local\", \n  . \"local\", \"::\", \":::\", \"local\", \"local\", \"::\", \"::\", \"local\", \n  . \"local\", \"local\", \"::\", \"::\", \":::\", \"::\", \"::\", \"::\", \"::\", \n  . \":::\", \":::\", \"::\", \"::\", \"::\", \":::\", \"::\", \"::\", \":::\", \":::\", \n  . \"::\", \"::\", \":::\", \":::\", \":::\", \":::\", \":::\", \":::\", \":::\", \n  . \":::\", \"::\", \"local\", \":::\", \":::\", \"::\"), error_frame = c(FALSE, \n  . FALSE, FALSE, FALSE, FALSE, FALSE, FALSE, FALSE, FALSE, FALSE, \n  . FALSE, FALSE, FALSE, FALSE, FALSE, FALSE, FALSE, FALSE, FALSE, \n  . FALSE, FALSE, FALSE, FALSE, FALSE, FALSE, FALSE, FALSE, FALSE, \n  . FALSE, FALSE, FALSE, FALSE, TRUE, FALSE, FALSE, FALSE, FALSE, \n  . FALSE, FALSE, FALSE, FALSE, FALSE, FALSE, FALSE, FALSE, FALSE, \n  . FALSE, FALSE, FALSE, FALSE, FALSE, FALSE)), row.names = c(NA, \n  . -52L), version = 2L, class = c(\"rlang_trace\", \"rlib_trace\", \"tbl\", \n  . \"data.frame\")), parent = NULL, i = \"all_numeric_predictors\", \n  .     subscript_type = \"character\", names = c(\"alcohol\", \"chlorides\", \n  .     \"citric.acid\", \"sulphates\", \"type\", \"quality\"), subscript_action = \"subset\", \n  .     subscript_arg = \"all_numeric_predictors\", rlang = list(inherit = TRUE), \n  .     call = prep(x$steps[[i]], training = training, info = x$term_info), \n  .     subscript_elt = \"column\"), class = c(\"vctrs_error_subscript_oob\", \n  . \"vctrs_error_subscript\", \"rlang_error\", \"error\", \"condition\")))",
      "36. stop_recipes_step(call = call(step_name), parent = cnd)",
      "37. stop_recipes(class = \"recipes_error_step\", call = call, parent = parent)",
      "38. rlang::abort(class = c(class, \"recipes_error\"), call = call, \n  .     parent = parent)",
      "39. signal_abort(cnd, .file)"
     ]
    }
   ],
   "source": [
    "prepped_train_wine <- knn_recipe |> \n",
    "                      prep(data = wine_class_training) |> \n",
    "                      bake(new_data = wine_class_training)"
   ]
  },
  {
   "cell_type": "code",
   "execution_count": null,
   "id": "dec9f9d5-9387-4cc9-aa58-daea063f4a72",
   "metadata": {},
   "outputs": [],
   "source": [
    "knn_spec <- nearest_neighbor(weight_func = \"rectangular\", neighbors = tune()) |>\n",
    "            set_engine(\"kknn\") |>\n",
    "            set_mode(\"classification\")"
   ]
  },
  {
   "cell_type": "code",
   "execution_count": null,
   "id": "ad80cef9-3371-4c5d-8e71-66944b9f9f34",
   "metadata": {},
   "outputs": [],
   "source": [
    "knn_recipe_final <- recipe(quality ~ ., data = prepped_train_wine) "
   ]
  },
  {
   "cell_type": "code",
   "execution_count": null,
   "id": "e9c362bf-c0fc-4254-bd77-1f95be53c55c",
   "metadata": {},
   "outputs": [],
   "source": [
    "wine_vfold <- vfold_cv(wine_class_training, v = 5, strata = quality)"
   ]
  },
  {
   "cell_type": "code",
   "execution_count": null,
   "id": "8c4370a7-2dd8-4486-a9a5-8861fd0f5271",
   "metadata": {},
   "outputs": [],
   "source": [
    "gridvals <- tibble(neighbors = seq(from = 10, to = 50, by = 10))"
   ]
  },
  {
   "cell_type": "code",
   "execution_count": null,
   "id": "38ebd035-1402-4d45-8989-9787f5f73342",
   "metadata": {},
   "outputs": [],
   "source": [
    "knn_fit <- workflow() |>\n",
    "                add_recipe(knn_recipe_final) |>\n",
    "                add_model(knn_spec) |>\n",
    "                tune_grid(resamples = wine_vfold, grid = gridvals)"
   ]
  },
  {
   "cell_type": "code",
   "execution_count": null,
   "id": "5028d24f-14d9-402d-9d0c-6b737c697a85",
   "metadata": {},
   "outputs": [],
   "source": [
    "best_k <- knn_fit |>\n",
    "          select_best(\"accuracy\") |>\n",
    "          pull(neighbors)  "
   ]
  },
  {
   "cell_type": "code",
   "execution_count": null,
   "id": "bac45a23-d369-4281-a6a3-7fe107b186c6",
   "metadata": {},
   "outputs": [],
   "source": [
    "knn_spec_final <- nearest_neighbor(weight_func = \"rectangular\", neighbors = 10) |>\n",
    "             set_engine(\"kknn\") |>\n",
    "             set_mode(\"classification\")"
   ]
  },
  {
   "cell_type": "code",
   "execution_count": null,
   "id": "33336602-ae1f-4749-8fa4-854dc1bfc9ca",
   "metadata": {},
   "outputs": [],
   "source": [
    "knn_fit_final <- workflow() |>\n",
    "          add_recipe(knn_recipe_final) |>\n",
    "          add_model(knn_spec_final) |>\n",
    "          fit(data = prepped_train_wine)"
   ]
  },
  {
   "cell_type": "code",
   "execution_count": null,
   "id": "7159bc2a-500c-4818-9736-37df8c577c7c",
   "metadata": {},
   "outputs": [],
   "source": [
    "knn_pred <- predict(knn_fit_final, new_data = wine_class_testing) |>\n",
    "            bind_cols(wine_class_testing)"
   ]
  },
  {
   "cell_type": "code",
   "execution_count": null,
   "id": "3e0c151d-c023-4a3a-8c40-533ad2018291",
   "metadata": {},
   "outputs": [],
   "source": [
    "knn_pred_numeric <- knn_pred |>\n",
    "                      mutate(.pred_class = as.numeric(as.character(.pred_class)), quality = as.numeric(quality) - 1)\n",
    "knn_pred_numeric\n",
    "rmse <- knn_pred_numeric |>\n",
    "        metrics(truth = quality, estimate = .pred_class) \n",
    "rmse"
   ]
  },
  {
   "cell_type": "markdown",
   "id": "f08aaed4-8fbb-4a85-8dd9-d707a064827f",
   "metadata": {},
   "source": [
    "The accuracy observed in this classification model is 0.603936, and the RMSE in this classificaiton model is 0.849354"
   ]
  },
  {
   "cell_type": "markdown",
   "id": "da25146f",
   "metadata": {},
   "source": [
    "## Methods"
   ]
  },
  {
   "cell_type": "markdown",
   "id": "cae79247",
   "metadata": {},
   "source": [
    "- After data reading and wrangling, we used all 12 variables for preliminary data summarization and visualization. We then compared the number of observations in each red/ white wine class, the number of observations in each quality level for red and white wine respectively, and the mean value of each feature for each quality level. "
   ]
  },
  {
   "cell_type": "markdown",
   "id": "c737aa48",
   "metadata": {},
   "source": [
    "- Multi-histogram is used to visualize the relationship between each variable and the wine quality, each with one predictor on the x axis, counts on the y axis, and color indicating the different quality levels. If each quality level tends to show up on a certain value of the x axis, we can conclude that there is linear correlation between the wine quality and that predictor. Otherwise, there is no correlation or non-linear correlation. "
   ]
  },
  {
   "cell_type": "markdown",
   "id": "73d404c5",
   "metadata": {},
   "source": [
    "- **We will only use 7 numeric variables excluding type total.sulfur.dioxide, free.sulfur.dioxide, residual sugar and alcohol** "
   ]
  },
  {
   "cell_type": "markdown",
   "id": "c2da4642",
   "metadata": {},
   "source": [
    "## Expected outcomes and significance"
   ]
  },
  {
   "cell_type": "markdown",
   "id": "68b0ccc6",
   "metadata": {},
   "source": [
    "- Due to class imbalance in the categories of the target column (quality): some of the categories are missing. We expect the model will be less precise for the level from 0 to 2 and the level 10.\n",
    "- However, we hope the model will be able to predict correctly the quality from 3 - 8"
   ]
  },
  {
   "cell_type": "markdown",
   "id": "62f08923",
   "metadata": {},
   "source": [
    "- These findings will allow a more efficient and more systematic wine quality assessment as we will be able assess the quality of the wines not only by its age or individual tastes, but also the actual content in the wine itself.\n",
    "-  The findings can also lead to further discoveries such as how different environments in which the grapes grew in would affect the quality of the wines, in which they can be used to optimize the wine development.\n"
   ]
  },
  {
   "cell_type": "code",
   "execution_count": null,
   "id": "cf7cef53-dcb7-48f5-8aeb-04e333877e8c",
   "metadata": {},
   "outputs": [],
   "source": []
  }
 ],
 "metadata": {
  "kernelspec": {
   "display_name": "R",
   "language": "R",
   "name": "ir"
  },
  "language_info": {
   "codemirror_mode": "r",
   "file_extension": ".r",
   "mimetype": "text/x-r-source",
   "name": "R",
   "pygments_lexer": "r",
   "version": "4.3.1"
  }
 },
 "nbformat": 4,
 "nbformat_minor": 5
}
