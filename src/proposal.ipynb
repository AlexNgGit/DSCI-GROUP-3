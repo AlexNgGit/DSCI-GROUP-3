{
 "cells": [
  {
   "cell_type": "code",
   "execution_count": 3,
   "id": "34fb8383",
   "metadata": {},
   "outputs": [
    {
     "name": "stderr",
     "output_type": "stream",
     "text": [
      "\u001b[1mRows: \u001b[22m\u001b[34m2986\u001b[39m \u001b[1mColumns: \u001b[22m\u001b[34m49\u001b[39m\n",
      "\u001b[36m──\u001b[39m \u001b[1mColumn specification\u001b[22m \u001b[36m────────────────────────────────────────────────────────\u001b[39m\n",
      "\u001b[1mDelimiter:\u001b[22m \",\"\n",
      "\u001b[31mchr\u001b[39m (14): tourney_id, tourney_name, surface, tourney_level, winner_entry, wi...\n",
      "\u001b[32mdbl\u001b[39m (35): draw_size, tourney_date, match_num, winner_id, winner_seed, winner...\n",
      "\n",
      "\u001b[36mℹ\u001b[39m Use `spec()` to retrieve the full column specification for this data.\n",
      "\u001b[36mℹ\u001b[39m Specify the column types or set `show_col_types = FALSE` to quiet this message.\n"
     ]
    },
    {
     "data": {
      "text/html": [
       "<table class=\"dataframe\">\n",
       "<caption>A tibble: 6 × 49</caption>\n",
       "<thead>\n",
       "\t<tr><th scope=col>tourney_id</th><th scope=col>tourney_name</th><th scope=col>surface</th><th scope=col>draw_size</th><th scope=col>tourney_level</th><th scope=col>tourney_date</th><th scope=col>match_num</th><th scope=col>winner_id</th><th scope=col>winner_seed</th><th scope=col>winner_entry</th><th scope=col>⋯</th><th scope=col>l_1stIn</th><th scope=col>l_1stWon</th><th scope=col>l_2ndWon</th><th scope=col>l_SvGms</th><th scope=col>l_bpSaved</th><th scope=col>l_bpFaced</th><th scope=col>winner_rank</th><th scope=col>winner_rank_points</th><th scope=col>loser_rank</th><th scope=col>loser_rank_points</th></tr>\n",
       "\t<tr><th scope=col>&lt;chr&gt;</th><th scope=col>&lt;chr&gt;</th><th scope=col>&lt;chr&gt;</th><th scope=col>&lt;dbl&gt;</th><th scope=col>&lt;chr&gt;</th><th scope=col>&lt;dbl&gt;</th><th scope=col>&lt;dbl&gt;</th><th scope=col>&lt;dbl&gt;</th><th scope=col>&lt;dbl&gt;</th><th scope=col>&lt;chr&gt;</th><th scope=col>⋯</th><th scope=col>&lt;dbl&gt;</th><th scope=col>&lt;dbl&gt;</th><th scope=col>&lt;dbl&gt;</th><th scope=col>&lt;dbl&gt;</th><th scope=col>&lt;dbl&gt;</th><th scope=col>&lt;dbl&gt;</th><th scope=col>&lt;dbl&gt;</th><th scope=col>&lt;dbl&gt;</th><th scope=col>&lt;dbl&gt;</th><th scope=col>&lt;dbl&gt;</th></tr>\n",
       "</thead>\n",
       "<tbody>\n",
       "\t<tr><td>2023-M-DC-2023-WG2-PO-RSA-LUX-01</td><td>Davis Cup WG2 PO: RSA vs LUX</td><td>NA</td><td>4</td><td>D</td><td>20230204</td><td>4</td><td>200270</td><td>NA</td><td>NA</td><td>⋯</td><td>NA</td><td>NA</td><td>NA</td><td>NA</td><td>NA</td><td>NA</td><td>608</td><td> 48</td><td> 516</td><td> 67</td></tr>\n",
       "\t<tr><td>2023-M-DC-2023-WG2-PO-RSA-LUX-01</td><td>Davis Cup WG2 PO: RSA vs LUX</td><td>NA</td><td>4</td><td>D</td><td>20230204</td><td>5</td><td>202335</td><td>NA</td><td>NA</td><td>⋯</td><td>NA</td><td>NA</td><td>NA</td><td>NA</td><td>NA</td><td>NA</td><td> NA</td><td> NA</td><td>1717</td><td>  1</td></tr>\n",
       "\t<tr><td>2023-M-DC-2023-WG2-PO-TUN-CYP-01</td><td>Davis Cup WG2 PO: TUN vs CYP</td><td>NA</td><td>4</td><td>D</td><td>20230203</td><td>1</td><td>117365</td><td>NA</td><td>NA</td><td>⋯</td><td>NA</td><td>NA</td><td>NA</td><td>NA</td><td>NA</td><td>NA</td><td>990</td><td> 11</td><td> 279</td><td>190</td></tr>\n",
       "\t<tr><td>2023-M-DC-2023-WG2-PO-TUN-CYP-01</td><td>Davis Cup WG2 PO: TUN vs CYP</td><td>NA</td><td>4</td><td>D</td><td>20230203</td><td>2</td><td>121411</td><td>NA</td><td>NA</td><td>⋯</td><td>NA</td><td>NA</td><td>NA</td><td>NA</td><td>NA</td><td>NA</td><td>364</td><td>131</td><td> 894</td><td> 15</td></tr>\n",
       "\t<tr><td>2023-M-DC-2023-WG2-PO-TUN-CYP-01</td><td>Davis Cup WG2 PO: TUN vs CYP</td><td>NA</td><td>4</td><td>D</td><td>20230203</td><td>4</td><td>144949</td><td>NA</td><td>NA</td><td>⋯</td><td>NA</td><td>NA</td><td>NA</td><td>NA</td><td>NA</td><td>NA</td><td>894</td><td> 15</td><td> 285</td><td>184</td></tr>\n",
       "\t<tr><td>2023-M-DC-2023-WG2-PO-TUN-CYP-01</td><td>Davis Cup WG2 PO: TUN vs CYP</td><td>NA</td><td>4</td><td>D</td><td>20230203</td><td>5</td><td>121411</td><td>NA</td><td>NA</td><td>⋯</td><td>NA</td><td>NA</td><td>NA</td><td>NA</td><td>NA</td><td>NA</td><td>364</td><td>131</td><td> 990</td><td> 11</td></tr>\n",
       "</tbody>\n",
       "</table>\n"
      ],
      "text/latex": [
       "A tibble: 6 × 49\n",
       "\\begin{tabular}{lllllllllllllllllllll}\n",
       " tourney\\_id & tourney\\_name & surface & draw\\_size & tourney\\_level & tourney\\_date & match\\_num & winner\\_id & winner\\_seed & winner\\_entry & ⋯ & l\\_1stIn & l\\_1stWon & l\\_2ndWon & l\\_SvGms & l\\_bpSaved & l\\_bpFaced & winner\\_rank & winner\\_rank\\_points & loser\\_rank & loser\\_rank\\_points\\\\\n",
       " <chr> & <chr> & <chr> & <dbl> & <chr> & <dbl> & <dbl> & <dbl> & <dbl> & <chr> & ⋯ & <dbl> & <dbl> & <dbl> & <dbl> & <dbl> & <dbl> & <dbl> & <dbl> & <dbl> & <dbl>\\\\\n",
       "\\hline\n",
       "\t 2023-M-DC-2023-WG2-PO-RSA-LUX-01 & Davis Cup WG2 PO: RSA vs LUX & NA & 4 & D & 20230204 & 4 & 200270 & NA & NA & ⋯ & NA & NA & NA & NA & NA & NA & 608 &  48 &  516 &  67\\\\\n",
       "\t 2023-M-DC-2023-WG2-PO-RSA-LUX-01 & Davis Cup WG2 PO: RSA vs LUX & NA & 4 & D & 20230204 & 5 & 202335 & NA & NA & ⋯ & NA & NA & NA & NA & NA & NA &  NA &  NA & 1717 &   1\\\\\n",
       "\t 2023-M-DC-2023-WG2-PO-TUN-CYP-01 & Davis Cup WG2 PO: TUN vs CYP & NA & 4 & D & 20230203 & 1 & 117365 & NA & NA & ⋯ & NA & NA & NA & NA & NA & NA & 990 &  11 &  279 & 190\\\\\n",
       "\t 2023-M-DC-2023-WG2-PO-TUN-CYP-01 & Davis Cup WG2 PO: TUN vs CYP & NA & 4 & D & 20230203 & 2 & 121411 & NA & NA & ⋯ & NA & NA & NA & NA & NA & NA & 364 & 131 &  894 &  15\\\\\n",
       "\t 2023-M-DC-2023-WG2-PO-TUN-CYP-01 & Davis Cup WG2 PO: TUN vs CYP & NA & 4 & D & 20230203 & 4 & 144949 & NA & NA & ⋯ & NA & NA & NA & NA & NA & NA & 894 &  15 &  285 & 184\\\\\n",
       "\t 2023-M-DC-2023-WG2-PO-TUN-CYP-01 & Davis Cup WG2 PO: TUN vs CYP & NA & 4 & D & 20230203 & 5 & 121411 & NA & NA & ⋯ & NA & NA & NA & NA & NA & NA & 364 & 131 &  990 &  11\\\\\n",
       "\\end{tabular}\n"
      ],
      "text/markdown": [
       "\n",
       "A tibble: 6 × 49\n",
       "\n",
       "| tourney_id &lt;chr&gt; | tourney_name &lt;chr&gt; | surface &lt;chr&gt; | draw_size &lt;dbl&gt; | tourney_level &lt;chr&gt; | tourney_date &lt;dbl&gt; | match_num &lt;dbl&gt; | winner_id &lt;dbl&gt; | winner_seed &lt;dbl&gt; | winner_entry &lt;chr&gt; | ⋯ ⋯ | l_1stIn &lt;dbl&gt; | l_1stWon &lt;dbl&gt; | l_2ndWon &lt;dbl&gt; | l_SvGms &lt;dbl&gt; | l_bpSaved &lt;dbl&gt; | l_bpFaced &lt;dbl&gt; | winner_rank &lt;dbl&gt; | winner_rank_points &lt;dbl&gt; | loser_rank &lt;dbl&gt; | loser_rank_points &lt;dbl&gt; |\n",
       "|---|---|---|---|---|---|---|---|---|---|---|---|---|---|---|---|---|---|---|---|---|\n",
       "| 2023-M-DC-2023-WG2-PO-RSA-LUX-01 | Davis Cup WG2 PO: RSA vs LUX | NA | 4 | D | 20230204 | 4 | 200270 | NA | NA | ⋯ | NA | NA | NA | NA | NA | NA | 608 |  48 |  516 |  67 |\n",
       "| 2023-M-DC-2023-WG2-PO-RSA-LUX-01 | Davis Cup WG2 PO: RSA vs LUX | NA | 4 | D | 20230204 | 5 | 202335 | NA | NA | ⋯ | NA | NA | NA | NA | NA | NA |  NA |  NA | 1717 |   1 |\n",
       "| 2023-M-DC-2023-WG2-PO-TUN-CYP-01 | Davis Cup WG2 PO: TUN vs CYP | NA | 4 | D | 20230203 | 1 | 117365 | NA | NA | ⋯ | NA | NA | NA | NA | NA | NA | 990 |  11 |  279 | 190 |\n",
       "| 2023-M-DC-2023-WG2-PO-TUN-CYP-01 | Davis Cup WG2 PO: TUN vs CYP | NA | 4 | D | 20230203 | 2 | 121411 | NA | NA | ⋯ | NA | NA | NA | NA | NA | NA | 364 | 131 |  894 |  15 |\n",
       "| 2023-M-DC-2023-WG2-PO-TUN-CYP-01 | Davis Cup WG2 PO: TUN vs CYP | NA | 4 | D | 20230203 | 4 | 144949 | NA | NA | ⋯ | NA | NA | NA | NA | NA | NA | 894 |  15 |  285 | 184 |\n",
       "| 2023-M-DC-2023-WG2-PO-TUN-CYP-01 | Davis Cup WG2 PO: TUN vs CYP | NA | 4 | D | 20230203 | 5 | 121411 | NA | NA | ⋯ | NA | NA | NA | NA | NA | NA | 364 | 131 |  990 |  11 |\n",
       "\n"
      ],
      "text/plain": [
       "  tourney_id                       tourney_name                 surface\n",
       "1 2023-M-DC-2023-WG2-PO-RSA-LUX-01 Davis Cup WG2 PO: RSA vs LUX NA     \n",
       "2 2023-M-DC-2023-WG2-PO-RSA-LUX-01 Davis Cup WG2 PO: RSA vs LUX NA     \n",
       "3 2023-M-DC-2023-WG2-PO-TUN-CYP-01 Davis Cup WG2 PO: TUN vs CYP NA     \n",
       "4 2023-M-DC-2023-WG2-PO-TUN-CYP-01 Davis Cup WG2 PO: TUN vs CYP NA     \n",
       "5 2023-M-DC-2023-WG2-PO-TUN-CYP-01 Davis Cup WG2 PO: TUN vs CYP NA     \n",
       "6 2023-M-DC-2023-WG2-PO-TUN-CYP-01 Davis Cup WG2 PO: TUN vs CYP NA     \n",
       "  draw_size tourney_level tourney_date match_num winner_id winner_seed\n",
       "1 4         D             20230204     4         200270    NA         \n",
       "2 4         D             20230204     5         202335    NA         \n",
       "3 4         D             20230203     1         117365    NA         \n",
       "4 4         D             20230203     2         121411    NA         \n",
       "5 4         D             20230203     4         144949    NA         \n",
       "6 4         D             20230203     5         121411    NA         \n",
       "  winner_entry ⋯ l_1stIn l_1stWon l_2ndWon l_SvGms l_bpSaved l_bpFaced\n",
       "1 NA           ⋯ NA      NA       NA       NA      NA        NA       \n",
       "2 NA           ⋯ NA      NA       NA       NA      NA        NA       \n",
       "3 NA           ⋯ NA      NA       NA       NA      NA        NA       \n",
       "4 NA           ⋯ NA      NA       NA       NA      NA        NA       \n",
       "5 NA           ⋯ NA      NA       NA       NA      NA        NA       \n",
       "6 NA           ⋯ NA      NA       NA       NA      NA        NA       \n",
       "  winner_rank winner_rank_points loser_rank loser_rank_points\n",
       "1 608          48                 516        67              \n",
       "2  NA          NA                1717         1              \n",
       "3 990          11                 279       190              \n",
       "4 364         131                 894        15              \n",
       "5 894          15                 285       184              \n",
       "6 364         131                 990        11              "
      ]
     },
     "metadata": {},
     "output_type": "display_data"
    }
   ],
   "source": [
    "tennis_data <- read_csv(url(\"https://raw.githubusercontent.com/JeffSackmann/tennis_atp/master/atp_matches_2023.csv\"))\n",
    "tail(tennis_data)"
   ]
  },
  {
   "cell_type": "code",
   "execution_count": 22,
   "id": "13169778",
   "metadata": {},
   "outputs": [],
   "source": [
    "temp <- tempfile()\n",
    "download_file <- download.file(\"https://archive.ics.uci.edu/static/public/186/wine+quality.zip\", temp)\n",
    "red_wine <- read.csv2(unz(temp, \"winequality-red.csv\"))\n",
    "white_wine <- read.csv2(unz(temp, \"winequality-white.csv\"))\n",
    "unlink(temp)"
   ]
  }
 ],
 "metadata": {
  "kernelspec": {
   "display_name": "R",
   "language": "R",
   "name": "ir"
  },
  "language_info": {
   "codemirror_mode": "r",
   "file_extension": ".r",
   "mimetype": "text/x-r-source",
   "name": "R",
   "pygments_lexer": "r",
   "version": "4.3.1"
  }
 },
 "nbformat": 4,
 "nbformat_minor": 5
}
