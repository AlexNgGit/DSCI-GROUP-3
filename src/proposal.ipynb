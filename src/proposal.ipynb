{
 "cells": [
  {
   "cell_type": "code",
   "execution_count": null,
   "id": "ef222d3e-58ab-4ed5-9108-147de9c1b468",
   "metadata": {},
   "outputs": [],
   "source": [
    "library(tidyverse)\n",
    "library(dplyr)\n",
    "library(repr)\n",
    "library(tidymodels)"
   ]
  },
  {
   "cell_type": "markdown",
   "id": "b6baa583-ce8f-403c-a0ca-75e000ea9597",
   "metadata": {},
   "source": [
    "# GROUP PROPOSAL: WINE TASTING"
   ]
  },
  {
   "cell_type": "markdown",
   "id": "bb0ff985-4d95-4284-85f2-e141d253e792",
   "metadata": {},
   "source": [
    "## Introduction"
   ]
  },
  {
   "cell_type": "markdown",
   "id": "7990de72-3fac-4484-bf2e-cf8b67af400c",
   "metadata": {},
   "source": [
    "- Wine quality highly depends on its composition of various aromatic compounds. By assessing the content of wines such as their sugar content and pH value, we will be able to determine how good the wine is. \n",
    "- In this project, we will be using the wine quality dataset obtained from a web URL.\n",
    "- We want to solve **classification problem** —- what would be the wine’s quality level given its values on the fixed acidity, volatile acidity, and other variables.\n",
    "-  7 out of the 12 variables are used to predict the **wine quality**, which ranges from 0 to 10, with 10 being the highest quality wine.\n"
   ]
  },
  {
   "cell_type": "markdown",
   "id": "d1f4bdac-2c34-4d94-b6fa-c53f62d4b0f8",
   "metadata": {},
   "source": [
    "## Preliminary exploratory data analysis"
   ]
  },
  {
   "cell_type": "markdown",
   "id": "ab509b3a-5e2b-42af-9f0c-64178c02430c",
   "metadata": {},
   "source": [
    "**1. Data Reading**"
   ]
  },
  {
   "cell_type": "code",
   "execution_count": null,
   "id": "ebc566b4-be56-4a32-9b03-acf4e4621310",
   "metadata": {},
   "outputs": [],
   "source": [
    "temp <- tempfile()\n",
    "download_file <- download.file(\"https://archive.ics.uci.edu/static/public/186/wine+quality.zip\", temp)\n",
    "red_wine <- read.csv2(unz(temp, \"winequality-red.csv\")) |>\n",
    "             mutate(type = \"Red\")\n",
    "white_wine <- read.csv2(unz(temp, \"winequality-white.csv\")) |>\n",
    "              mutate(type =\"White\")\n",
    "head(red_wine)\n",
    "head(white_wine)\n",
    "unlink(temp)"
   ]
  },
  {
   "cell_type": "markdown",
   "id": "06bb5666-1f8e-4280-a1b1-36ab671a7d90",
   "metadata": {},
   "source": [
    "**2. Data Wrangling**"
   ]
  },
  {
   "cell_type": "code",
   "execution_count": null,
   "id": "3567dca4-45a2-44a9-9594-f67eb1322f2a",
   "metadata": {},
   "outputs": [],
   "source": [
    "wine_data <- rbind(red_wine, white_wine) |>\n",
    "             mutate(across(fixed.acidity:alcohol, as.numeric), quality = as_factor(quality),\n",
    "                   type = as_factor(type))\n",
    "write_csv(wine_data, \"../data/wine_data.csv\")\n",
    "head(wine_data)"
   ]
  },
  {
   "cell_type": "markdown",
   "id": "fd853e8f-6cec-43f7-af32-2f2a1100df96",
   "metadata": {},
   "source": [
    "**3. Data Splitting**"
   ]
  },
  {
   "cell_type": "code",
   "execution_count": null,
   "id": "00bee748-952f-4f12-81f8-3447ed88224f",
   "metadata": {},
   "outputs": [],
   "source": [
    "set.seed(2000)\n",
    "wine_split <- initial_split(wine_data, prop = 0.75, strata = quality)\n",
    "wine_training <- training(wine_split)\n",
    "wine_testing <- testing(wine_split)"
   ]
  },
  {
   "cell_type": "markdown",
   "id": "98e6f271-ad57-41ec-97de-656f0edf8128",
   "metadata": {},
   "source": [
    "**4. Summarization**"
   ]
  },
  {
   "cell_type": "markdown",
   "id": "752d4bf0-f997-434a-b1d5-49f2a405b522",
   "metadata": {},
   "source": [
    "**a. The number of observations in each red wine/white wine class**"
   ]
  },
  {
   "cell_type": "code",
   "execution_count": null,
   "id": "fccb93e3-1e49-4123-96e8-9403dec8920e",
   "metadata": {},
   "outputs": [],
   "source": [
    "wine_type_number <- wine_training |>\n",
    "                    group_by(type) |>\n",
    "                    summarize(Number = n())\n",
    "wine_type_number"
   ]
  },
  {
   "cell_type": "markdown",
   "id": "36fb5ada-43b1-4858-8744-db74f2f0d2f7",
   "metadata": {},
   "source": [
    "- We have 4898 observations for White wine and 1599 observations for Red wine.\n",
    "- There is an imbalance between the types of the wine. "
   ]
  },
  {
   "cell_type": "markdown",
   "id": "b6eefbd1-22af-4109-ac35-02c591c82664",
   "metadata": {},
   "source": [
    "**b. The number of observations for each quality level.**"
   ]
  },
  {
   "cell_type": "code",
   "execution_count": null,
   "id": "1b169892-6614-41bc-b4d2-b302944bd0e4",
   "metadata": {},
   "outputs": [],
   "source": [
    "quality_number <- wine_training |>\n",
    "                  group_by(quality) |>\n",
    "                  summarize(Number = n())\n",
    "quality_number"
   ]
  },
  {
   "cell_type": "markdown",
   "id": "3bbd62e5-fc04-4936-8b28-a765a71e1261",
   "metadata": {},
   "source": [
    "- We are missing two classes: 0, 1, 2 and 10.\n",
    "- This is another class imbalance existed within the class"
   ]
  },
  {
   "cell_type": "markdown",
   "id": "15128bf7-bf62-4042-b031-59b1042935d6",
   "metadata": {},
   "source": [
    "**c. Mean value of each measurements for different quality type.**"
   ]
  },
  {
   "cell_type": "code",
   "execution_count": null,
   "id": "f9f4ed16-f9d2-400d-b8ab-bc8ebf5c057a",
   "metadata": {},
   "outputs": [],
   "source": [
    "mean_measurements <- wine_training |>\n",
    "                     group_by(quality) |>\n",
    "                     summarize(mean_fixed_acidity = mean(fixed.acidity),\n",
    "                               mean_volatile_acidity = mean(volatile.acidity),\n",
    "                               mean_citric_acid = mean(citric.acid),\n",
    "                               mean_residual_sugar = mean(residual.sugar),\n",
    "                               mean_chlorides = mean(chlorides),\n",
    "                               mean_free_sufdioxide = mean(free.sulfur.dioxide),\n",
    "                               mean_tot_sufdioxide = mean(total.sulfur.dioxide),\n",
    "                               mean_density = mean(density),\n",
    "                               mean_ph = mean(pH),\n",
    "                               mean_sulphates = mean(sulphates),\n",
    "                               mean_alcohol = mean(alcohol))\n",
    "mean_measurements"
   ]
  },
  {
   "cell_type": "markdown",
   "id": "b0d7bd8d-bf33-41b7-864e-41f45a65c9af",
   "metadata": {},
   "source": [
    "The ranges of the mean are different across different columns hence the variables will need to be scaled "
   ]
  },
  {
   "cell_type": "markdown",
   "id": "61788774-f8d1-4a2b-8347-accd1260d776",
   "metadata": {},
   "source": [
    "**d. Missing data - We have no missing data in this dataset.**"
   ]
  },
  {
   "cell_type": "markdown",
   "id": "4544032c-4a82-4d21-b29c-08918e18e0d3",
   "metadata": {},
   "source": [
    "**4. Visualization: histogram between quality and other numeric variables**"
   ]
  },
  {
   "cell_type": "code",
   "execution_count": null,
   "id": "5c41a8f5-ca79-4c73-96d5-dc2bdefd0176",
   "metadata": {
    "scrolled": true
   },
   "outputs": [],
   "source": [
    "wine_filter <- wine_training |>\n",
    "               select(-type)\n",
    "\n",
    "histograms <- lapply(names(wine_filter)[!names(wine_filter) %in% c(\"quality\")], function(col) {\n",
    "  ggplot(wine_filter, aes(x = !!sym(col), fill = quality)) +\n",
    "    geom_histogram(position = \"dodge\", bins = 100, binwidth = 2) +\n",
    "    labs(title = paste(\"Histogram of\", col), x = col, y = \"Counts\", fill = \"Quality\") +\n",
    "    theme_minimal()\n",
    "})\n",
    "\n",
    "histograms"
   ]
  },
  {
   "cell_type": "markdown",
   "id": "4300953d-7463-4742-b3f4-2ca8143c1933",
   "metadata": {},
   "source": [
    "- Most variables have a linear negative correlation to quality\n",
    "- free.sulfur.dioxide and total.sulfur. dioxide seems to have no correlation with quality as the categories' bins are layered in the histogram.\n",
    "- alcohol and residual.sugar have a non-linear relationship with quality"
   ]
  },
  {
   "cell_type": "markdown",
   "id": "df455a66-1f24-4b1d-97cc-d5a516e51728",
   "metadata": {},
   "source": [
    "## Methods"
   ]
  },
  {
   "cell_type": "markdown",
   "id": "065563af-6add-4ec7-8e18-bbd1fb2cd304",
   "metadata": {},
   "source": [
    "- After data reading and wrangling, we used all 12 variables for preliminary data summarization and visualization. We then compared the number of observations in each red/ white wine class, the number of observations in each quality level for red and white wine respectively, and the mean value of each feature for each quality level. "
   ]
  },
  {
   "cell_type": "markdown",
   "id": "b99fa57d-5dc1-46e7-8311-958fe16da6b1",
   "metadata": {},
   "source": [
    "- Multi-histogram is used to visualize the relationship between each variable and the wine quality, each with one predictor on the x axis, counts on the y axis, and color indicating the different quality levels. If each quality level tends to show up on a certain value of the x axis, we can conclude that there is linear correlation between the wine quality and that predictor. Otherwise, there is no correlation or non-linear correlation. "
   ]
  },
  {
   "cell_type": "markdown",
   "id": "d96efd7f-9414-4c73-80ef-11846ce9c3a1",
   "metadata": {},
   "source": [
    "- **We will only use 7 numeric variables excluding type total.sulfur.dioxide, free.sulfur.dioxide, residual sugar and alcohol** "
   ]
  },
  {
   "cell_type": "markdown",
   "id": "45243fdc-153c-46c3-8418-0b86f4d073e1",
   "metadata": {},
   "source": [
    "## Expected outcomes and significance"
   ]
  },
  {
   "cell_type": "markdown",
   "id": "cbb9034f-7381-4817-841f-a393adb4bcf3",
   "metadata": {},
   "source": [
    "- Due to class imbalance in the categories of the target column (quality): some of the categories are missing. We expect the model will be less precise for the level from 0 to 2 and the level 10.\n",
    "- However, we hope the model will be able to predict correctly the quality from 3 - 8"
   ]
  },
  {
   "cell_type": "markdown",
   "id": "7d50e8a9-8748-4f52-b59e-9fb04a055046",
   "metadata": {},
   "source": [
    "- These findings will allow a more efficient and more systematic wine quality assessment as we will be able assess the quality of the wines not only by its age or individual tastes, but also the actual content in the wine itself.\n",
    "-  The findings can also lead to further discoveries such as how different environments in which the grapes grew in would affect the quality of the wines, in which they can be used to optimize the wine development.\n"
   ]
  },
  {
   "cell_type": "code",
   "execution_count": null,
   "id": "67b6990d-9ba9-4d86-8222-a5c20540a1d6",
   "metadata": {},
   "outputs": [],
   "source": []
  }
 ],
 "metadata": {
  "kernelspec": {
   "display_name": "R",
   "language": "R",
   "name": "ir"
  },
  "language_info": {
   "codemirror_mode": "r",
   "file_extension": ".r",
   "mimetype": "text/x-r-source",
   "name": "R",
   "pygments_lexer": "r",
   "version": "4.3.1"
  }
 },
 "nbformat": 4,
 "nbformat_minor": 5
}
