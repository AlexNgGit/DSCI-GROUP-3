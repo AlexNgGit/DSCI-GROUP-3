{
 "cells": [
  {
   "cell_type": "code",
   "execution_count": null,
   "id": "65e6bc99-6b12-43b0-8a94-d8bc35317ed1",
   "metadata": {},
   "outputs": [],
   "source": [
    "library(tidyverse)\n",
    "library(dplyr)\n",
    "library(repr)\n",
    "library(tidymodels)"
   ]
  },
  {
   "cell_type": "markdown",
   "id": "f950a41e",
   "metadata": {},
   "source": [
    "## Introduction"
   ]
  },
  {
   "cell_type": "markdown",
   "id": "950d5ae9",
   "metadata": {},
   "source": [
    "- Wine quality highly depends on its composition of various aromatic compounds. By assessing the content of wines such as their sugar content and pH value, we will be able to determine how good the wine is. \n",
    "- In this project, we will be using the wine quality dataset obtained from a web URL.\n",
    "- We want to solve **classification problem** —- what would be the wine’s quality level given its values on the fixed acidity, volatile acidity, and other variables.\n",
    "-  7 out of the 12 variables are used to predict the **wine quality**, which ranges from 0 to 10, with 10 being the highest quality wine.\n"
   ]
  },
  {
   "cell_type": "markdown",
   "id": "584dd883",
   "metadata": {},
   "source": [
    "## Preliminary exploratory data analysis"
   ]
  },
  {
   "cell_type": "markdown",
   "id": "23806459",
   "metadata": {},
   "source": [
    "**1. Data Reading**"
   ]
  },
  {
   "cell_type": "code",
   "execution_count": null,
   "id": "c35aca2f",
   "metadata": {},
   "outputs": [],
   "source": [
    "temp <- tempfile()\n",
    "download_file <- download.file(\"https://archive.ics.uci.edu/static/public/186/wine+quality.zip\", temp)\n",
    "red_wine <- read.csv2(unz(temp, \"winequality-red.csv\")) |>\n",
    "             mutate(type = \"Red\")\n",
    "white_wine <- read.csv2(unz(temp, \"winequality-white.csv\")) |>\n",
    "              mutate(type =\"White\")\n",
    "head(red_wine)\n",
    "head(white_wine)\n",
    "unlink(temp)"
   ]
  },
  {
   "cell_type": "markdown",
   "id": "6c97b72a",
   "metadata": {},
   "source": [
    "**2. Data Wrangling**"
   ]
  },
  {
   "cell_type": "code",
   "execution_count": null,
   "id": "1c1b6d83",
   "metadata": {},
   "outputs": [],
   "source": [
    "wine_data <- rbind(red_wine, white_wine) |>\n",
    "             mutate(across(fixed.acidity:alcohol, as.numeric), quality = as_factor(quality),\n",
    "                   type = as_factor(type))\n",
    "write_csv(wine_data, \"../data/wine_data.csv\")\n",
    "head(wine_data)"
   ]
  },
  {
   "cell_type": "markdown",
   "id": "7e2efdff",
   "metadata": {},
   "source": [
    "**3. Data Splitting**"
   ]
  },
  {
   "cell_type": "code",
   "execution_count": null,
   "id": "d0ad9f80",
   "metadata": {},
   "outputs": [],
   "source": [
    "set.seed(2000)\n",
    "wine_split <- initial_split(wine_data, prop = 0.75, strata = quality)\n",
    "wine_training <- training(wine_split)\n",
    "wine_testing <- testing(wine_split)"
   ]
  },
  {
   "cell_type": "markdown",
   "id": "3772976e",
   "metadata": {},
   "source": [
    "**4. Summarization**"
   ]
  },
  {
   "cell_type": "markdown",
   "id": "84a89c4c",
   "metadata": {},
   "source": [
    "**a. The number of observations in each red wine/white wine class**"
   ]
  },
  {
   "cell_type": "code",
   "execution_count": null,
   "id": "f29506f8",
   "metadata": {},
   "outputs": [],
   "source": [
    "wine_type_number <- wine_training |>\n",
    "                    group_by(type) |>\n",
    "                    summarize(Number = n())\n",
    "wine_type_number"
   ]
  },
  {
   "cell_type": "markdown",
   "id": "e723cd84",
   "metadata": {},
   "source": [
    "- We have 4898 observations for White wine and 1599 observations for Red wine.\n",
    "- There is an imbalance between the types of the wine. "
   ]
  },
  {
   "cell_type": "markdown",
   "id": "3a4d3265",
   "metadata": {},
   "source": [
    "**b. The number of observations for each quality level.**"
   ]
  },
  {
   "cell_type": "code",
   "execution_count": null,
   "id": "47007e3b",
   "metadata": {},
   "outputs": [],
   "source": [
    "quality_number <- wine_training |>\n",
    "                  group_by(quality) |>\n",
    "                  summarize(Number = n())\n",
    "quality_number"
   ]
  },
  {
   "cell_type": "markdown",
   "id": "6dbb5c8f",
   "metadata": {},
   "source": [
    "- We are missing two classes: 0, 1, 2 and 10.\n",
    "- This is another class imbalance existed within the class"
   ]
  },
  {
   "cell_type": "markdown",
   "id": "7919f924",
   "metadata": {},
   "source": [
    "**c. Mean value of each measurements for different quality type.**"
   ]
  },
  {
   "cell_type": "code",
   "execution_count": null,
   "id": "5cf62f46",
   "metadata": {},
   "outputs": [],
   "source": [
    "mean_measurements <- wine_training |>\n",
    "                     group_by(quality) |>\n",
    "                     summarize(mean_fixed_acidity = mean(fixed.acidity),\n",
    "                               mean_volatile_acidity = mean(volatile.acidity),\n",
    "                               mean_citric_acid = mean(citric.acid),\n",
    "                               mean_residual_sugar = mean(residual.sugar),\n",
    "                               mean_chlorides = mean(chlorides),\n",
    "                               mean_free_sufdioxide = mean(free.sulfur.dioxide),\n",
    "                               mean_tot_sufdioxide = mean(total.sulfur.dioxide),\n",
    "                               mean_density = mean(density),\n",
    "                               mean_ph = mean(pH),\n",
    "                               mean_sulphates = mean(sulphates),\n",
    "                               mean_alcohol = mean(alcohol))\n",
    "mean_measurements"
   ]
  },
  {
   "cell_type": "markdown",
   "id": "0f883acd",
   "metadata": {},
   "source": [
    "The ranges of the mean are different across different columns hence the variables will need to be scaled "
   ]
  },
  {
   "cell_type": "markdown",
   "id": "8057b947",
   "metadata": {},
   "source": [
    "**d. Missing data - We have no missing data in this dataset.**"
   ]
  },
  {
   "cell_type": "markdown",
   "id": "b57265bb",
   "metadata": {},
   "source": [
    "**4. Visualization: histogram between quality and other numeric variables**"
   ]
  },
  {
   "cell_type": "code",
   "execution_count": null,
   "id": "8a520122",
   "metadata": {
    "scrolled": true
   },
   "outputs": [],
   "source": [
    "wine_filter <- wine_training |>\n",
    "               select(-type)\n",
    "\n",
    "histograms <- lapply(names(wine_filter)[!names(wine_filter) %in% c(\"quality\")], function(col) {\n",
    "  ggplot(wine_filter, aes(x = !!sym(col), fill = quality)) +\n",
    "    geom_histogram(position = \"dodge\", bins = 100, binwidth = 2) +\n",
    "    labs(title = paste(\"Histogram of\", col), x = col, y = \"Counts\", fill = \"Quality\") +\n",
    "    theme_minimal()\n",
    "})\n",
    "\n",
    "histograms"
   ]
  },
  {
   "cell_type": "markdown",
   "id": "0ed63094",
   "metadata": {},
   "source": [
    "- Most variables have a linear negative correlation to quality\n",
    "- free.sulfur.dioxide and total.sulfur. dioxide seems to have no correlation with quality as the categories' bins are layered in the histogram.\n",
    "- alcohol and residual.sugar have a non-linear relationship with quality"
   ]
  },
  {
   "cell_type": "markdown",
   "id": "0025cb54",
   "metadata": {},
   "source": [
    "## Trainning & Evaluation"
   ]
  },
  {
   "cell_type": "markdown",
   "id": "defe063c",
   "metadata": {},
   "source": [
    "### 1. The multivariable Linear regression Model"
   ]
  },
  {
   "cell_type": "code",
   "execution_count": null,
   "id": "25f47d00",
   "metadata": {},
   "outputs": [],
   "source": [
    "set.seed(1)\n",
    "wine_data_reg <- wine_data |>\n",
    "    mutate(quality = as.numeric(quality)) |>\n",
    "    select(fixed.acidity, volatile.acidity, citric.acid, chlorides, density, pH, sulphates, quality)\n",
    "head(wine_data_reg)\n",
    "\n",
    "recipe <- recipe(quality ~ .,\n",
    "                 data = wine_data_reg) |>\n",
    "  step_scale(all_predictors()) |>\n",
    "  step_center(all_predictors()) |>\n",
    "  prep()\n",
    "recipe\n",
    "\n",
    "wine_scaled_reg <- bake(recipe, wine_data_reg)\n",
    "wine_scaled_reg\n",
    "\n",
    "wine_reg_split <- initial_split(wine_scaled_reg, prop = 0.75, strata = quality)\n",
    "wine_reg_training <- training(wine_reg_split)\n",
    "wine_reg_testing <- testing(wine_reg_split)\n",
    "\n",
    "lm_recipe <- recipe(quality ~ .,\n",
    "                    data = wine_reg_training)\n",
    "lm_spec <- linear_reg() |>\n",
    "  set_engine(\"lm\") |>\n",
    "  set_mode(\"regression\")\n",
    "\n",
    "lm_fit <- workflow() |>\n",
    "  add_recipe(lm_recipe) |>\n",
    "  add_model(lm_spec) |>\n",
    "  fit(data = wine_reg_training)\n",
    "\n",
    "lm_fit\n",
    "\n",
    "lm_test_results <- lm_fit |>\n",
    "  predict(wine_reg_testing) |>\n",
    "  bind_cols(wine_reg_testing) |>\n",
    "  metrics(truth = quality, estimate = .pred)\n",
    "\n",
    "lm_test_results\n",
    "\n",
    "lm_coeffs <- lm_fit |>\n",
    "             extract_fit_parsnip() |>\n",
    "             tidy()\n",
    "lm_coeffs"
   ]
  },
  {
   "cell_type": "code",
   "execution_count": null,
   "id": "04da1f8f",
   "metadata": {},
   "outputs": [],
   "source": []
  },
  {
   "cell_type": "markdown",
   "id": "2f47e377",
   "metadata": {},
   "source": [
    "The mathematical expression to describe this linear regression model is:\n",
    "$quality = 3.81501672 + 0.08707008 \\cdot (fixed.acidity) - 0.18996941 \\cdot (volatile.acidity) + 0.01716328 \\cdot (citric.acid) - 0.09945725 \\cdot (chlorides) - 0.25886222 \\cdot (density) + 0.07753980 \\cdot (pH) + 0.13857399 \\cdot (sulphates)$"
   ]
  },
  {
   "cell_type": "markdown",
   "id": "9c90c879",
   "metadata": {},
   "source": [
    "### 2. Classification Model"
   ]
  },
  {
   "cell_type": "code",
   "execution_count": null,
   "id": "28936c88",
   "metadata": {},
   "outputs": [],
   "source": [
    "wine_data_class <- wine_data |>\n",
    "    select(fixed.acidity, volatile.acidity, citric.acid, chlorides, density, pH, sulphates, quality)\n",
    "\n",
    "wine_data_class$quality <- as.factor(wine_data_class$quality)"
   ]
  },
  {
   "cell_type": "code",
   "execution_count": null,
   "id": "c28da9c4",
   "metadata": {},
   "outputs": [],
   "source": [
    "set.seed(1)\n",
    "wine_class_split <- initial_split(wine_data_class, prop = 0.75, strata = quality)\n",
    "wine_class_training <- training(wine_class_split)\n",
    "wine_class_testing <- testing(wine_class_split)\n",
    "\n",
    "knn_recipe <- recipe(quality ~ ., data = wine_class_training) |>\n",
    "    step_scale(all_predictors()) |>\n",
    "    step_center(all_predictors())\n",
    "\n",
    "knn_spec <- nearest_neighbor(weight_func = \"rectangular\", neighbors = tune()) |>\n",
    "    set_engine(\"kknn\") |>\n",
    "    set_mode(\"classification\")\n",
    "\n",
    "knn_workflow <- workflow() |>\n",
    "    add_recipe(knn_recipe) |>\n",
    "    add_model(knn_spec)\n",
    "\n",
    "knn_res <- tune_grid(\n",
    "    knn_workflow,\n",
    "    resamples = vfold_cv(wine_class_training, v = 5),\n",
    "    grid = data.frame(neighbors = seq(1, 50, 5))\n",
    ")\n",
    "\n",
    "best_k <- knn_res |>\n",
    "    select_best(\"accuracy\")\n",
    "\n",
    "knn_final <- finalize_workflow(knn_workflow, best_k)\n",
    "\n",
    "knn_fit <- fit(knn_final, data = wine_class_training)\n",
    "\n",
    "knn_pred <- predict(knn_fit, new_data = wine_class_testing) |>\n",
    "    bind_cols(wine_class_testing)\n",
    "\n",
    "accuracy(knn_pred, truth = quality, estimate = .pred_class)\n",
    "\n",
    "knn_pred_num <- knn_pred |>\n",
    "    mutate(quality_num = as.numeric(quality),\n",
    "            .pred_class_num = as.numeric(.pred_class))\n",
    "\n",
    "knn_rmse <- rmse(knn_pred_num, truth = quality_num, estimate = .pred_class_num)\n",
    "\n",
    "knn_rmse"
   ]
  },
  {
   "cell_type": "markdown",
   "id": "da25146f",
   "metadata": {},
   "source": [
    "## Methods"
   ]
  },
  {
   "cell_type": "markdown",
   "id": "cae79247",
   "metadata": {},
   "source": [
    "- After data reading and wrangling, we used all 12 variables for preliminary data summarization and visualization. We then compared the number of observations in each red/ white wine class, the number of observations in each quality level for red and white wine respectively, and the mean value of each feature for each quality level. "
   ]
  },
  {
   "cell_type": "markdown",
   "id": "c737aa48",
   "metadata": {},
   "source": [
    "- Multi-histogram is used to visualize the relationship between each variable and the wine quality, each with one predictor on the x axis, counts on the y axis, and color indicating the different quality levels. If each quality level tends to show up on a certain value of the x axis, we can conclude that there is linear correlation between the wine quality and that predictor. Otherwise, there is no correlation or non-linear correlation. "
   ]
  },
  {
   "cell_type": "markdown",
   "id": "73d404c5",
   "metadata": {},
   "source": [
    "- **We will only use 7 numeric variables excluding type total.sulfur.dioxide, free.sulfur.dioxide, residual sugar and alcohol** "
   ]
  },
  {
   "cell_type": "markdown",
   "id": "c2da4642",
   "metadata": {},
   "source": [
    "## Expected outcomes and significance"
   ]
  },
  {
   "cell_type": "markdown",
   "id": "68b0ccc6",
   "metadata": {},
   "source": [
    "- Due to class imbalance in the categories of the target column (quality): some of the categories are missing. We expect the model will be less precise for the level from 0 to 2 and the level 10.\n",
    "- However, we hope the model will be able to predict correctly the quality from 3 - 8"
   ]
  },
  {
   "cell_type": "markdown",
   "id": "62f08923",
   "metadata": {},
   "source": [
    "- These findings will allow a more efficient and more systematic wine quality assessment as we will be able assess the quality of the wines not only by its age or individual tastes, but also the actual content in the wine itself.\n",
    "-  The findings can also lead to further discoveries such as how different environments in which the grapes grew in would affect the quality of the wines, in which they can be used to optimize the wine development.\n"
   ]
  },
  {
   "cell_type": "code",
   "execution_count": null,
   "id": "cf7cef53-dcb7-48f5-8aeb-04e333877e8c",
   "metadata": {},
   "outputs": [],
   "source": []
  }
 ],
 "metadata": {
  "kernelspec": {
   "display_name": "R",
   "language": "R",
   "name": "ir"
  },
  "language_info": {
   "codemirror_mode": "r",
   "file_extension": ".r",
   "mimetype": "text/x-r-source",
   "name": "R",
   "pygments_lexer": "r",
   "version": "4.3.1"
  }
 },
 "nbformat": 4,
 "nbformat_minor": 5
}
