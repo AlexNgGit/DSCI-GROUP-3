{
 "cells": [
  {
   "cell_type": "code",
   "execution_count": 1,
   "id": "ef222d3e-58ab-4ed5-9108-147de9c1b468",
   "metadata": {},
   "outputs": [
    {
     "name": "stderr",
     "output_type": "stream",
     "text": [
      "── \u001b[1mAttaching core tidyverse packages\u001b[22m ──────────────────────── tidyverse 2.0.0 ──\n",
      "\u001b[32m✔\u001b[39m \u001b[34mdplyr    \u001b[39m 1.1.3     \u001b[32m✔\u001b[39m \u001b[34mreadr    \u001b[39m 2.1.4\n",
      "\u001b[32m✔\u001b[39m \u001b[34mforcats  \u001b[39m 1.0.0     \u001b[32m✔\u001b[39m \u001b[34mstringr  \u001b[39m 1.5.0\n",
      "\u001b[32m✔\u001b[39m \u001b[34mggplot2  \u001b[39m 3.4.4     \u001b[32m✔\u001b[39m \u001b[34mtibble   \u001b[39m 3.2.1\n",
      "\u001b[32m✔\u001b[39m \u001b[34mlubridate\u001b[39m 1.9.3     \u001b[32m✔\u001b[39m \u001b[34mtidyr    \u001b[39m 1.3.0\n",
      "\u001b[32m✔\u001b[39m \u001b[34mpurrr    \u001b[39m 1.0.2     \n",
      "── \u001b[1mConflicts\u001b[22m ────────────────────────────────────────── tidyverse_conflicts() ──\n",
      "\u001b[31m✖\u001b[39m \u001b[34mdplyr\u001b[39m::\u001b[32mfilter()\u001b[39m masks \u001b[34mstats\u001b[39m::filter()\n",
      "\u001b[31m✖\u001b[39m \u001b[34mdplyr\u001b[39m::\u001b[32mlag()\u001b[39m    masks \u001b[34mstats\u001b[39m::lag()\n",
      "\u001b[36mℹ\u001b[39m Use the conflicted package (\u001b[3m\u001b[34m<http://conflicted.r-lib.org/>\u001b[39m\u001b[23m) to force all conflicts to become errors\n"
     ]
    }
   ],
   "source": [
    "library(tidyverse)"
   ]
  },
  {
   "cell_type": "markdown",
   "id": "b6baa583-ce8f-403c-a0ca-75e000ea9597",
   "metadata": {},
   "source": [
    "# Title"
   ]
  },
  {
   "cell_type": "markdown",
   "id": "bb0ff985-4d95-4284-85f2-e141d253e792",
   "metadata": {},
   "source": [
    "# Introduction"
   ]
  },
  {
   "cell_type": "markdown",
   "id": "d1f4bdac-2c34-4d94-b6fa-c53f62d4b0f8",
   "metadata": {},
   "source": [
    "# Preliminary exploratory data analysis"
   ]
  },
  {
   "cell_type": "markdown",
   "id": "ab509b3a-5e2b-42af-9f0c-64178c02430c",
   "metadata": {},
   "source": [
    "1. Read Data"
   ]
  },
  {
   "cell_type": "code",
   "execution_count": 3,
   "id": "cde022e9-769f-4d13-b115-36c972f1f7a0",
   "metadata": {},
   "outputs": [
    {
     "name": "stderr",
     "output_type": "stream",
     "text": [
      "\u001b[1mRows: \u001b[22m\u001b[34m2986\u001b[39m \u001b[1mColumns: \u001b[22m\u001b[34m49\u001b[39m\n",
      "\u001b[36m──\u001b[39m \u001b[1mColumn specification\u001b[22m \u001b[36m────────────────────────────────────────────────────────\u001b[39m\n",
      "\u001b[1mDelimiter:\u001b[22m \",\"\n",
      "\u001b[31mchr\u001b[39m (14): tourney_id, tourney_name, surface, tourney_level, winner_entry, wi...\n",
      "\u001b[32mdbl\u001b[39m (35): draw_size, tourney_date, match_num, winner_id, winner_seed, winner...\n",
      "\n",
      "\u001b[36mℹ\u001b[39m Use `spec()` to retrieve the full column specification for this data.\n",
      "\u001b[36mℹ\u001b[39m Specify the column types or set `show_col_types = FALSE` to quiet this message.\n"
     ]
    },
    {
     "data": {
      "text/html": [
       "<table class=\"dataframe\">\n",
       "<caption>A tibble: 6 × 49</caption>\n",
       "<thead>\n",
       "\t<tr><th scope=col>tourney_id</th><th scope=col>tourney_name</th><th scope=col>surface</th><th scope=col>draw_size</th><th scope=col>tourney_level</th><th scope=col>tourney_date</th><th scope=col>match_num</th><th scope=col>winner_id</th><th scope=col>winner_seed</th><th scope=col>winner_entry</th><th scope=col>⋯</th><th scope=col>l_1stIn</th><th scope=col>l_1stWon</th><th scope=col>l_2ndWon</th><th scope=col>l_SvGms</th><th scope=col>l_bpSaved</th><th scope=col>l_bpFaced</th><th scope=col>winner_rank</th><th scope=col>winner_rank_points</th><th scope=col>loser_rank</th><th scope=col>loser_rank_points</th></tr>\n",
       "\t<tr><th scope=col>&lt;chr&gt;</th><th scope=col>&lt;chr&gt;</th><th scope=col>&lt;chr&gt;</th><th scope=col>&lt;dbl&gt;</th><th scope=col>&lt;chr&gt;</th><th scope=col>&lt;dbl&gt;</th><th scope=col>&lt;dbl&gt;</th><th scope=col>&lt;dbl&gt;</th><th scope=col>&lt;dbl&gt;</th><th scope=col>&lt;chr&gt;</th><th scope=col>⋯</th><th scope=col>&lt;dbl&gt;</th><th scope=col>&lt;dbl&gt;</th><th scope=col>&lt;dbl&gt;</th><th scope=col>&lt;dbl&gt;</th><th scope=col>&lt;dbl&gt;</th><th scope=col>&lt;dbl&gt;</th><th scope=col>&lt;dbl&gt;</th><th scope=col>&lt;dbl&gt;</th><th scope=col>&lt;dbl&gt;</th><th scope=col>&lt;dbl&gt;</th></tr>\n",
       "</thead>\n",
       "<tbody>\n",
       "\t<tr><td>2023-M-DC-2023-WG2-PO-RSA-LUX-01</td><td>Davis Cup WG2 PO: RSA vs LUX</td><td>NA</td><td>4</td><td>D</td><td>20230204</td><td>4</td><td>200270</td><td>NA</td><td>NA</td><td>⋯</td><td>NA</td><td>NA</td><td>NA</td><td>NA</td><td>NA</td><td>NA</td><td>608</td><td> 48</td><td> 516</td><td> 67</td></tr>\n",
       "\t<tr><td>2023-M-DC-2023-WG2-PO-RSA-LUX-01</td><td>Davis Cup WG2 PO: RSA vs LUX</td><td>NA</td><td>4</td><td>D</td><td>20230204</td><td>5</td><td>202335</td><td>NA</td><td>NA</td><td>⋯</td><td>NA</td><td>NA</td><td>NA</td><td>NA</td><td>NA</td><td>NA</td><td> NA</td><td> NA</td><td>1717</td><td>  1</td></tr>\n",
       "\t<tr><td>2023-M-DC-2023-WG2-PO-TUN-CYP-01</td><td>Davis Cup WG2 PO: TUN vs CYP</td><td>NA</td><td>4</td><td>D</td><td>20230203</td><td>1</td><td>117365</td><td>NA</td><td>NA</td><td>⋯</td><td>NA</td><td>NA</td><td>NA</td><td>NA</td><td>NA</td><td>NA</td><td>990</td><td> 11</td><td> 279</td><td>190</td></tr>\n",
       "\t<tr><td>2023-M-DC-2023-WG2-PO-TUN-CYP-01</td><td>Davis Cup WG2 PO: TUN vs CYP</td><td>NA</td><td>4</td><td>D</td><td>20230203</td><td>2</td><td>121411</td><td>NA</td><td>NA</td><td>⋯</td><td>NA</td><td>NA</td><td>NA</td><td>NA</td><td>NA</td><td>NA</td><td>364</td><td>131</td><td> 894</td><td> 15</td></tr>\n",
       "\t<tr><td>2023-M-DC-2023-WG2-PO-TUN-CYP-01</td><td>Davis Cup WG2 PO: TUN vs CYP</td><td>NA</td><td>4</td><td>D</td><td>20230203</td><td>4</td><td>144949</td><td>NA</td><td>NA</td><td>⋯</td><td>NA</td><td>NA</td><td>NA</td><td>NA</td><td>NA</td><td>NA</td><td>894</td><td> 15</td><td> 285</td><td>184</td></tr>\n",
       "\t<tr><td>2023-M-DC-2023-WG2-PO-TUN-CYP-01</td><td>Davis Cup WG2 PO: TUN vs CYP</td><td>NA</td><td>4</td><td>D</td><td>20230203</td><td>5</td><td>121411</td><td>NA</td><td>NA</td><td>⋯</td><td>NA</td><td>NA</td><td>NA</td><td>NA</td><td>NA</td><td>NA</td><td>364</td><td>131</td><td> 990</td><td> 11</td></tr>\n",
       "</tbody>\n",
       "</table>\n"
      ],
      "text/latex": [
       "A tibble: 6 × 49\n",
       "\\begin{tabular}{lllllllllllllllllllll}\n",
       " tourney\\_id & tourney\\_name & surface & draw\\_size & tourney\\_level & tourney\\_date & match\\_num & winner\\_id & winner\\_seed & winner\\_entry & ⋯ & l\\_1stIn & l\\_1stWon & l\\_2ndWon & l\\_SvGms & l\\_bpSaved & l\\_bpFaced & winner\\_rank & winner\\_rank\\_points & loser\\_rank & loser\\_rank\\_points\\\\\n",
       " <chr> & <chr> & <chr> & <dbl> & <chr> & <dbl> & <dbl> & <dbl> & <dbl> & <chr> & ⋯ & <dbl> & <dbl> & <dbl> & <dbl> & <dbl> & <dbl> & <dbl> & <dbl> & <dbl> & <dbl>\\\\\n",
       "\\hline\n",
       "\t 2023-M-DC-2023-WG2-PO-RSA-LUX-01 & Davis Cup WG2 PO: RSA vs LUX & NA & 4 & D & 20230204 & 4 & 200270 & NA & NA & ⋯ & NA & NA & NA & NA & NA & NA & 608 &  48 &  516 &  67\\\\\n",
       "\t 2023-M-DC-2023-WG2-PO-RSA-LUX-01 & Davis Cup WG2 PO: RSA vs LUX & NA & 4 & D & 20230204 & 5 & 202335 & NA & NA & ⋯ & NA & NA & NA & NA & NA & NA &  NA &  NA & 1717 &   1\\\\\n",
       "\t 2023-M-DC-2023-WG2-PO-TUN-CYP-01 & Davis Cup WG2 PO: TUN vs CYP & NA & 4 & D & 20230203 & 1 & 117365 & NA & NA & ⋯ & NA & NA & NA & NA & NA & NA & 990 &  11 &  279 & 190\\\\\n",
       "\t 2023-M-DC-2023-WG2-PO-TUN-CYP-01 & Davis Cup WG2 PO: TUN vs CYP & NA & 4 & D & 20230203 & 2 & 121411 & NA & NA & ⋯ & NA & NA & NA & NA & NA & NA & 364 & 131 &  894 &  15\\\\\n",
       "\t 2023-M-DC-2023-WG2-PO-TUN-CYP-01 & Davis Cup WG2 PO: TUN vs CYP & NA & 4 & D & 20230203 & 4 & 144949 & NA & NA & ⋯ & NA & NA & NA & NA & NA & NA & 894 &  15 &  285 & 184\\\\\n",
       "\t 2023-M-DC-2023-WG2-PO-TUN-CYP-01 & Davis Cup WG2 PO: TUN vs CYP & NA & 4 & D & 20230203 & 5 & 121411 & NA & NA & ⋯ & NA & NA & NA & NA & NA & NA & 364 & 131 &  990 &  11\\\\\n",
       "\\end{tabular}\n"
      ],
      "text/markdown": [
       "\n",
       "A tibble: 6 × 49\n",
       "\n",
       "| tourney_id &lt;chr&gt; | tourney_name &lt;chr&gt; | surface &lt;chr&gt; | draw_size &lt;dbl&gt; | tourney_level &lt;chr&gt; | tourney_date &lt;dbl&gt; | match_num &lt;dbl&gt; | winner_id &lt;dbl&gt; | winner_seed &lt;dbl&gt; | winner_entry &lt;chr&gt; | ⋯ ⋯ | l_1stIn &lt;dbl&gt; | l_1stWon &lt;dbl&gt; | l_2ndWon &lt;dbl&gt; | l_SvGms &lt;dbl&gt; | l_bpSaved &lt;dbl&gt; | l_bpFaced &lt;dbl&gt; | winner_rank &lt;dbl&gt; | winner_rank_points &lt;dbl&gt; | loser_rank &lt;dbl&gt; | loser_rank_points &lt;dbl&gt; |\n",
       "|---|---|---|---|---|---|---|---|---|---|---|---|---|---|---|---|---|---|---|---|---|\n",
       "| 2023-M-DC-2023-WG2-PO-RSA-LUX-01 | Davis Cup WG2 PO: RSA vs LUX | NA | 4 | D | 20230204 | 4 | 200270 | NA | NA | ⋯ | NA | NA | NA | NA | NA | NA | 608 |  48 |  516 |  67 |\n",
       "| 2023-M-DC-2023-WG2-PO-RSA-LUX-01 | Davis Cup WG2 PO: RSA vs LUX | NA | 4 | D | 20230204 | 5 | 202335 | NA | NA | ⋯ | NA | NA | NA | NA | NA | NA |  NA |  NA | 1717 |   1 |\n",
       "| 2023-M-DC-2023-WG2-PO-TUN-CYP-01 | Davis Cup WG2 PO: TUN vs CYP | NA | 4 | D | 20230203 | 1 | 117365 | NA | NA | ⋯ | NA | NA | NA | NA | NA | NA | 990 |  11 |  279 | 190 |\n",
       "| 2023-M-DC-2023-WG2-PO-TUN-CYP-01 | Davis Cup WG2 PO: TUN vs CYP | NA | 4 | D | 20230203 | 2 | 121411 | NA | NA | ⋯ | NA | NA | NA | NA | NA | NA | 364 | 131 |  894 |  15 |\n",
       "| 2023-M-DC-2023-WG2-PO-TUN-CYP-01 | Davis Cup WG2 PO: TUN vs CYP | NA | 4 | D | 20230203 | 4 | 144949 | NA | NA | ⋯ | NA | NA | NA | NA | NA | NA | 894 |  15 |  285 | 184 |\n",
       "| 2023-M-DC-2023-WG2-PO-TUN-CYP-01 | Davis Cup WG2 PO: TUN vs CYP | NA | 4 | D | 20230203 | 5 | 121411 | NA | NA | ⋯ | NA | NA | NA | NA | NA | NA | 364 | 131 |  990 |  11 |\n",
       "\n"
      ],
      "text/plain": [
       "  tourney_id                       tourney_name                 surface\n",
       "1 2023-M-DC-2023-WG2-PO-RSA-LUX-01 Davis Cup WG2 PO: RSA vs LUX NA     \n",
       "2 2023-M-DC-2023-WG2-PO-RSA-LUX-01 Davis Cup WG2 PO: RSA vs LUX NA     \n",
       "3 2023-M-DC-2023-WG2-PO-TUN-CYP-01 Davis Cup WG2 PO: TUN vs CYP NA     \n",
       "4 2023-M-DC-2023-WG2-PO-TUN-CYP-01 Davis Cup WG2 PO: TUN vs CYP NA     \n",
       "5 2023-M-DC-2023-WG2-PO-TUN-CYP-01 Davis Cup WG2 PO: TUN vs CYP NA     \n",
       "6 2023-M-DC-2023-WG2-PO-TUN-CYP-01 Davis Cup WG2 PO: TUN vs CYP NA     \n",
       "  draw_size tourney_level tourney_date match_num winner_id winner_seed\n",
       "1 4         D             20230204     4         200270    NA         \n",
       "2 4         D             20230204     5         202335    NA         \n",
       "3 4         D             20230203     1         117365    NA         \n",
       "4 4         D             20230203     2         121411    NA         \n",
       "5 4         D             20230203     4         144949    NA         \n",
       "6 4         D             20230203     5         121411    NA         \n",
       "  winner_entry ⋯ l_1stIn l_1stWon l_2ndWon l_SvGms l_bpSaved l_bpFaced\n",
       "1 NA           ⋯ NA      NA       NA       NA      NA        NA       \n",
       "2 NA           ⋯ NA      NA       NA       NA      NA        NA       \n",
       "3 NA           ⋯ NA      NA       NA       NA      NA        NA       \n",
       "4 NA           ⋯ NA      NA       NA       NA      NA        NA       \n",
       "5 NA           ⋯ NA      NA       NA       NA      NA        NA       \n",
       "6 NA           ⋯ NA      NA       NA       NA      NA        NA       \n",
       "  winner_rank winner_rank_points loser_rank loser_rank_points\n",
       "1 608          48                 516        67              \n",
       "2  NA          NA                1717         1              \n",
       "3 990          11                 279       190              \n",
       "4 364         131                 894        15              \n",
       "5 894          15                 285       184              \n",
       "6 364         131                 990        11              "
      ]
     },
     "metadata": {},
     "output_type": "display_data"
    }
   ],
   "source": [
    "tennis_data <- read_csv(url(\"https://raw.githubusercontent.com/JeffSackmann/tennis_atp/master/atp_matches_2023.csv\"))\n",
    "tail(tennis_data)"
   ]
  },
  {
   "cell_type": "code",
   "execution_count": 22,
   "id": "ebc566b4-be56-4a32-9b03-acf4e4621310",
   "metadata": {},
   "outputs": [],
   "source": [
    "temp <- tempfile()\n",
    "download_file <- download.file(\"https://archive.ics.uci.edu/static/public/186/wine+quality.zip\", temp)\n",
    "red_wine <- read.csv2(unz(temp, \"winequality-red.csv\"))\n",
    "white_wine <- read.csv2(unz(temp, \"winequality-white.csv\"))\n",
    "unlink(temp)"
   ]
  },
  {
   "cell_type": "code",
   "execution_count": 23,
   "id": "3567dca4-45a2-44a9-9594-f67eb1322f2a",
   "metadata": {},
   "outputs": [
    {
     "data": {
      "text/html": [
       "<table class=\"dataframe\">\n",
       "<caption>A data.frame: 6 × 12</caption>\n",
       "<thead>\n",
       "\t<tr><th></th><th scope=col>fixed.acidity</th><th scope=col>volatile.acidity</th><th scope=col>citric.acid</th><th scope=col>residual.sugar</th><th scope=col>chlorides</th><th scope=col>free.sulfur.dioxide</th><th scope=col>total.sulfur.dioxide</th><th scope=col>density</th><th scope=col>pH</th><th scope=col>sulphates</th><th scope=col>alcohol</th><th scope=col>quality</th></tr>\n",
       "\t<tr><th></th><th scope=col>&lt;chr&gt;</th><th scope=col>&lt;chr&gt;</th><th scope=col>&lt;chr&gt;</th><th scope=col>&lt;chr&gt;</th><th scope=col>&lt;chr&gt;</th><th scope=col>&lt;chr&gt;</th><th scope=col>&lt;chr&gt;</th><th scope=col>&lt;chr&gt;</th><th scope=col>&lt;chr&gt;</th><th scope=col>&lt;chr&gt;</th><th scope=col>&lt;chr&gt;</th><th scope=col>&lt;int&gt;</th></tr>\n",
       "</thead>\n",
       "<tbody>\n",
       "\t<tr><th scope=row>1</th><td>7.4 </td><td>0.7 </td><td>0   </td><td>1.9</td><td>0.076</td><td>11</td><td>34</td><td>0.9978</td><td>3.51</td><td>0.56</td><td>9.4</td><td>5</td></tr>\n",
       "\t<tr><th scope=row>2</th><td>7.8 </td><td>0.88</td><td>0   </td><td>2.6</td><td>0.098</td><td>25</td><td>67</td><td>0.9968</td><td>3.2 </td><td>0.68</td><td>9.8</td><td>5</td></tr>\n",
       "\t<tr><th scope=row>3</th><td>7.8 </td><td>0.76</td><td>0.04</td><td>2.3</td><td>0.092</td><td>15</td><td>54</td><td>0.997 </td><td>3.26</td><td>0.65</td><td>9.8</td><td>5</td></tr>\n",
       "\t<tr><th scope=row>4</th><td>11.2</td><td>0.28</td><td>0.56</td><td>1.9</td><td>0.075</td><td>17</td><td>60</td><td>0.998 </td><td>3.16</td><td>0.58</td><td>9.8</td><td>6</td></tr>\n",
       "\t<tr><th scope=row>5</th><td>7.4 </td><td>0.7 </td><td>0   </td><td>1.9</td><td>0.076</td><td>11</td><td>34</td><td>0.9978</td><td>3.51</td><td>0.56</td><td>9.4</td><td>5</td></tr>\n",
       "\t<tr><th scope=row>6</th><td>7.4 </td><td>0.66</td><td>0   </td><td>1.8</td><td>0.075</td><td>13</td><td>40</td><td>0.9978</td><td>3.51</td><td>0.56</td><td>9.4</td><td>5</td></tr>\n",
       "</tbody>\n",
       "</table>\n"
      ],
      "text/latex": [
       "A data.frame: 6 × 12\n",
       "\\begin{tabular}{r|llllllllllll}\n",
       "  & fixed.acidity & volatile.acidity & citric.acid & residual.sugar & chlorides & free.sulfur.dioxide & total.sulfur.dioxide & density & pH & sulphates & alcohol & quality\\\\\n",
       "  & <chr> & <chr> & <chr> & <chr> & <chr> & <chr> & <chr> & <chr> & <chr> & <chr> & <chr> & <int>\\\\\n",
       "\\hline\n",
       "\t1 & 7.4  & 0.7  & 0    & 1.9 & 0.076 & 11 & 34 & 0.9978 & 3.51 & 0.56 & 9.4 & 5\\\\\n",
       "\t2 & 7.8  & 0.88 & 0    & 2.6 & 0.098 & 25 & 67 & 0.9968 & 3.2  & 0.68 & 9.8 & 5\\\\\n",
       "\t3 & 7.8  & 0.76 & 0.04 & 2.3 & 0.092 & 15 & 54 & 0.997  & 3.26 & 0.65 & 9.8 & 5\\\\\n",
       "\t4 & 11.2 & 0.28 & 0.56 & 1.9 & 0.075 & 17 & 60 & 0.998  & 3.16 & 0.58 & 9.8 & 6\\\\\n",
       "\t5 & 7.4  & 0.7  & 0    & 1.9 & 0.076 & 11 & 34 & 0.9978 & 3.51 & 0.56 & 9.4 & 5\\\\\n",
       "\t6 & 7.4  & 0.66 & 0    & 1.8 & 0.075 & 13 & 40 & 0.9978 & 3.51 & 0.56 & 9.4 & 5\\\\\n",
       "\\end{tabular}\n"
      ],
      "text/markdown": [
       "\n",
       "A data.frame: 6 × 12\n",
       "\n",
       "| <!--/--> | fixed.acidity &lt;chr&gt; | volatile.acidity &lt;chr&gt; | citric.acid &lt;chr&gt; | residual.sugar &lt;chr&gt; | chlorides &lt;chr&gt; | free.sulfur.dioxide &lt;chr&gt; | total.sulfur.dioxide &lt;chr&gt; | density &lt;chr&gt; | pH &lt;chr&gt; | sulphates &lt;chr&gt; | alcohol &lt;chr&gt; | quality &lt;int&gt; |\n",
       "|---|---|---|---|---|---|---|---|---|---|---|---|---|\n",
       "| 1 | 7.4  | 0.7  | 0    | 1.9 | 0.076 | 11 | 34 | 0.9978 | 3.51 | 0.56 | 9.4 | 5 |\n",
       "| 2 | 7.8  | 0.88 | 0    | 2.6 | 0.098 | 25 | 67 | 0.9968 | 3.2  | 0.68 | 9.8 | 5 |\n",
       "| 3 | 7.8  | 0.76 | 0.04 | 2.3 | 0.092 | 15 | 54 | 0.997  | 3.26 | 0.65 | 9.8 | 5 |\n",
       "| 4 | 11.2 | 0.28 | 0.56 | 1.9 | 0.075 | 17 | 60 | 0.998  | 3.16 | 0.58 | 9.8 | 6 |\n",
       "| 5 | 7.4  | 0.7  | 0    | 1.9 | 0.076 | 11 | 34 | 0.9978 | 3.51 | 0.56 | 9.4 | 5 |\n",
       "| 6 | 7.4  | 0.66 | 0    | 1.8 | 0.075 | 13 | 40 | 0.9978 | 3.51 | 0.56 | 9.4 | 5 |\n",
       "\n"
      ],
      "text/plain": [
       "  fixed.acidity volatile.acidity citric.acid residual.sugar chlorides\n",
       "1 7.4           0.7              0           1.9            0.076    \n",
       "2 7.8           0.88             0           2.6            0.098    \n",
       "3 7.8           0.76             0.04        2.3            0.092    \n",
       "4 11.2          0.28             0.56        1.9            0.075    \n",
       "5 7.4           0.7              0           1.9            0.076    \n",
       "6 7.4           0.66             0           1.8            0.075    \n",
       "  free.sulfur.dioxide total.sulfur.dioxide density pH   sulphates alcohol\n",
       "1 11                  34                   0.9978  3.51 0.56      9.4    \n",
       "2 25                  67                   0.9968  3.2  0.68      9.8    \n",
       "3 15                  54                   0.997   3.26 0.65      9.8    \n",
       "4 17                  60                   0.998   3.16 0.58      9.8    \n",
       "5 11                  34                   0.9978  3.51 0.56      9.4    \n",
       "6 13                  40                   0.9978  3.51 0.56      9.4    \n",
       "  quality\n",
       "1 5      \n",
       "2 5      \n",
       "3 5      \n",
       "4 6      \n",
       "5 5      \n",
       "6 5      "
      ]
     },
     "metadata": {},
     "output_type": "display_data"
    },
    {
     "data": {
      "text/html": [
       "<table class=\"dataframe\">\n",
       "<caption>A data.frame: 6 × 12</caption>\n",
       "<thead>\n",
       "\t<tr><th></th><th scope=col>fixed.acidity</th><th scope=col>volatile.acidity</th><th scope=col>citric.acid</th><th scope=col>residual.sugar</th><th scope=col>chlorides</th><th scope=col>free.sulfur.dioxide</th><th scope=col>total.sulfur.dioxide</th><th scope=col>density</th><th scope=col>pH</th><th scope=col>sulphates</th><th scope=col>alcohol</th><th scope=col>quality</th></tr>\n",
       "\t<tr><th></th><th scope=col>&lt;chr&gt;</th><th scope=col>&lt;chr&gt;</th><th scope=col>&lt;chr&gt;</th><th scope=col>&lt;chr&gt;</th><th scope=col>&lt;chr&gt;</th><th scope=col>&lt;chr&gt;</th><th scope=col>&lt;chr&gt;</th><th scope=col>&lt;chr&gt;</th><th scope=col>&lt;chr&gt;</th><th scope=col>&lt;chr&gt;</th><th scope=col>&lt;chr&gt;</th><th scope=col>&lt;int&gt;</th></tr>\n",
       "</thead>\n",
       "<tbody>\n",
       "\t<tr><th scope=row>1</th><td>7  </td><td>0.27</td><td>0.36</td><td>20.7</td><td>0.045</td><td>45</td><td>170</td><td>1.001 </td><td>3   </td><td>0.45</td><td>8.8 </td><td>6</td></tr>\n",
       "\t<tr><th scope=row>2</th><td>6.3</td><td>0.3 </td><td>0.34</td><td>1.6 </td><td>0.049</td><td>14</td><td>132</td><td>0.994 </td><td>3.3 </td><td>0.49</td><td>9.5 </td><td>6</td></tr>\n",
       "\t<tr><th scope=row>3</th><td>8.1</td><td>0.28</td><td>0.4 </td><td>6.9 </td><td>0.05 </td><td>30</td><td>97 </td><td>0.9951</td><td>3.26</td><td>0.44</td><td>10.1</td><td>6</td></tr>\n",
       "\t<tr><th scope=row>4</th><td>7.2</td><td>0.23</td><td>0.32</td><td>8.5 </td><td>0.058</td><td>47</td><td>186</td><td>0.9956</td><td>3.19</td><td>0.4 </td><td>9.9 </td><td>6</td></tr>\n",
       "\t<tr><th scope=row>5</th><td>7.2</td><td>0.23</td><td>0.32</td><td>8.5 </td><td>0.058</td><td>47</td><td>186</td><td>0.9956</td><td>3.19</td><td>0.4 </td><td>9.9 </td><td>6</td></tr>\n",
       "\t<tr><th scope=row>6</th><td>8.1</td><td>0.28</td><td>0.4 </td><td>6.9 </td><td>0.05 </td><td>30</td><td>97 </td><td>0.9951</td><td>3.26</td><td>0.44</td><td>10.1</td><td>6</td></tr>\n",
       "</tbody>\n",
       "</table>\n"
      ],
      "text/latex": [
       "A data.frame: 6 × 12\n",
       "\\begin{tabular}{r|llllllllllll}\n",
       "  & fixed.acidity & volatile.acidity & citric.acid & residual.sugar & chlorides & free.sulfur.dioxide & total.sulfur.dioxide & density & pH & sulphates & alcohol & quality\\\\\n",
       "  & <chr> & <chr> & <chr> & <chr> & <chr> & <chr> & <chr> & <chr> & <chr> & <chr> & <chr> & <int>\\\\\n",
       "\\hline\n",
       "\t1 & 7   & 0.27 & 0.36 & 20.7 & 0.045 & 45 & 170 & 1.001  & 3    & 0.45 & 8.8  & 6\\\\\n",
       "\t2 & 6.3 & 0.3  & 0.34 & 1.6  & 0.049 & 14 & 132 & 0.994  & 3.3  & 0.49 & 9.5  & 6\\\\\n",
       "\t3 & 8.1 & 0.28 & 0.4  & 6.9  & 0.05  & 30 & 97  & 0.9951 & 3.26 & 0.44 & 10.1 & 6\\\\\n",
       "\t4 & 7.2 & 0.23 & 0.32 & 8.5  & 0.058 & 47 & 186 & 0.9956 & 3.19 & 0.4  & 9.9  & 6\\\\\n",
       "\t5 & 7.2 & 0.23 & 0.32 & 8.5  & 0.058 & 47 & 186 & 0.9956 & 3.19 & 0.4  & 9.9  & 6\\\\\n",
       "\t6 & 8.1 & 0.28 & 0.4  & 6.9  & 0.05  & 30 & 97  & 0.9951 & 3.26 & 0.44 & 10.1 & 6\\\\\n",
       "\\end{tabular}\n"
      ],
      "text/markdown": [
       "\n",
       "A data.frame: 6 × 12\n",
       "\n",
       "| <!--/--> | fixed.acidity &lt;chr&gt; | volatile.acidity &lt;chr&gt; | citric.acid &lt;chr&gt; | residual.sugar &lt;chr&gt; | chlorides &lt;chr&gt; | free.sulfur.dioxide &lt;chr&gt; | total.sulfur.dioxide &lt;chr&gt; | density &lt;chr&gt; | pH &lt;chr&gt; | sulphates &lt;chr&gt; | alcohol &lt;chr&gt; | quality &lt;int&gt; |\n",
       "|---|---|---|---|---|---|---|---|---|---|---|---|---|\n",
       "| 1 | 7   | 0.27 | 0.36 | 20.7 | 0.045 | 45 | 170 | 1.001  | 3    | 0.45 | 8.8  | 6 |\n",
       "| 2 | 6.3 | 0.3  | 0.34 | 1.6  | 0.049 | 14 | 132 | 0.994  | 3.3  | 0.49 | 9.5  | 6 |\n",
       "| 3 | 8.1 | 0.28 | 0.4  | 6.9  | 0.05  | 30 | 97  | 0.9951 | 3.26 | 0.44 | 10.1 | 6 |\n",
       "| 4 | 7.2 | 0.23 | 0.32 | 8.5  | 0.058 | 47 | 186 | 0.9956 | 3.19 | 0.4  | 9.9  | 6 |\n",
       "| 5 | 7.2 | 0.23 | 0.32 | 8.5  | 0.058 | 47 | 186 | 0.9956 | 3.19 | 0.4  | 9.9  | 6 |\n",
       "| 6 | 8.1 | 0.28 | 0.4  | 6.9  | 0.05  | 30 | 97  | 0.9951 | 3.26 | 0.44 | 10.1 | 6 |\n",
       "\n"
      ],
      "text/plain": [
       "  fixed.acidity volatile.acidity citric.acid residual.sugar chlorides\n",
       "1 7             0.27             0.36        20.7           0.045    \n",
       "2 6.3           0.3              0.34        1.6            0.049    \n",
       "3 8.1           0.28             0.4         6.9            0.05     \n",
       "4 7.2           0.23             0.32        8.5            0.058    \n",
       "5 7.2           0.23             0.32        8.5            0.058    \n",
       "6 8.1           0.28             0.4         6.9            0.05     \n",
       "  free.sulfur.dioxide total.sulfur.dioxide density pH   sulphates alcohol\n",
       "1 45                  170                  1.001   3    0.45      8.8    \n",
       "2 14                  132                  0.994   3.3  0.49      9.5    \n",
       "3 30                  97                   0.9951  3.26 0.44      10.1   \n",
       "4 47                  186                  0.9956  3.19 0.4       9.9    \n",
       "5 47                  186                  0.9956  3.19 0.4       9.9    \n",
       "6 30                  97                   0.9951  3.26 0.44      10.1   \n",
       "  quality\n",
       "1 6      \n",
       "2 6      \n",
       "3 6      \n",
       "4 6      \n",
       "5 6      \n",
       "6 6      "
      ]
     },
     "metadata": {},
     "output_type": "display_data"
    }
   ],
   "source": [
    "head(red_wine)\n",
    "head(white_wine)"
   ]
  },
  {
   "cell_type": "markdown",
   "id": "df455a66-1f24-4b1d-97cc-d5a516e51728",
   "metadata": {},
   "source": [
    "# Methods"
   ]
  },
  {
   "cell_type": "markdown",
   "id": "45243fdc-153c-46c3-8418-0b86f4d073e1",
   "metadata": {},
   "source": [
    "# Expected outcomes and significance"
   ]
  }
 ],
 "metadata": {
  "kernelspec": {
   "display_name": "R",
   "language": "R",
   "name": "ir"
  },
  "language_info": {
   "codemirror_mode": "r",
   "file_extension": ".r",
   "mimetype": "text/x-r-source",
   "name": "R",
   "pygments_lexer": "r",
   "version": "4.3.1"
  }
 },
 "nbformat": 4,
 "nbformat_minor": 5
}
