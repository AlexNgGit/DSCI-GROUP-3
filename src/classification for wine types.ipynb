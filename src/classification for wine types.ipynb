{
 "cells": [
  {
   "cell_type": "code",
   "execution_count": 1,
   "id": "10c47771-5cb5-4627-8336-95cd4dfb2327",
   "metadata": {},
   "outputs": [
    {
     "name": "stderr",
     "output_type": "stream",
     "text": [
      "Warning message:\n",
      "“package ‘ggplot2’ was built under R version 4.3.2”\n",
      "── \u001b[1mAttaching core tidyverse packages\u001b[22m ──────────────────────── tidyverse 2.0.0 ──\n",
      "\u001b[32m✔\u001b[39m \u001b[34mdplyr    \u001b[39m 1.1.3     \u001b[32m✔\u001b[39m \u001b[34mreadr    \u001b[39m 2.1.4\n",
      "\u001b[32m✔\u001b[39m \u001b[34mforcats  \u001b[39m 1.0.0     \u001b[32m✔\u001b[39m \u001b[34mstringr  \u001b[39m 1.5.0\n",
      "\u001b[32m✔\u001b[39m \u001b[34mggplot2  \u001b[39m 3.5.0     \u001b[32m✔\u001b[39m \u001b[34mtibble   \u001b[39m 3.2.1\n",
      "\u001b[32m✔\u001b[39m \u001b[34mlubridate\u001b[39m 1.9.2     \u001b[32m✔\u001b[39m \u001b[34mtidyr    \u001b[39m 1.3.0\n",
      "\u001b[32m✔\u001b[39m \u001b[34mpurrr    \u001b[39m 1.0.2     \n",
      "── \u001b[1mConflicts\u001b[22m ────────────────────────────────────────── tidyverse_conflicts() ──\n",
      "\u001b[31m✖\u001b[39m \u001b[34mdplyr\u001b[39m::\u001b[32mfilter()\u001b[39m masks \u001b[34mstats\u001b[39m::filter()\n",
      "\u001b[31m✖\u001b[39m \u001b[34mdplyr\u001b[39m::\u001b[32mlag()\u001b[39m    masks \u001b[34mstats\u001b[39m::lag()\n",
      "\u001b[36mℹ\u001b[39m Use the conflicted package (\u001b[3m\u001b[34m<http://conflicted.r-lib.org/>\u001b[39m\u001b[23m) to force all conflicts to become errors\n",
      "── \u001b[1mAttaching packages\u001b[22m ────────────────────────────────────── tidymodels 1.1.1 ──\n",
      "\n",
      "\u001b[32m✔\u001b[39m \u001b[34mbroom       \u001b[39m 1.0.5     \u001b[32m✔\u001b[39m \u001b[34mrsample     \u001b[39m 1.2.0\n",
      "\u001b[32m✔\u001b[39m \u001b[34mdials       \u001b[39m 1.2.0     \u001b[32m✔\u001b[39m \u001b[34mtune        \u001b[39m 1.1.2\n",
      "\u001b[32m✔\u001b[39m \u001b[34minfer       \u001b[39m 1.0.5     \u001b[32m✔\u001b[39m \u001b[34mworkflows   \u001b[39m 1.1.3\n",
      "\u001b[32m✔\u001b[39m \u001b[34mmodeldata   \u001b[39m 1.2.0     \u001b[32m✔\u001b[39m \u001b[34mworkflowsets\u001b[39m 1.0.1\n",
      "\u001b[32m✔\u001b[39m \u001b[34mparsnip     \u001b[39m 1.1.1     \u001b[32m✔\u001b[39m \u001b[34myardstick   \u001b[39m 1.2.0\n",
      "\u001b[32m✔\u001b[39m \u001b[34mrecipes     \u001b[39m 1.0.8     \n",
      "\n",
      "── \u001b[1mConflicts\u001b[22m ───────────────────────────────────────── tidymodels_conflicts() ──\n",
      "\u001b[31m✖\u001b[39m \u001b[34mscales\u001b[39m::\u001b[32mdiscard()\u001b[39m masks \u001b[34mpurrr\u001b[39m::discard()\n",
      "\u001b[31m✖\u001b[39m \u001b[34mdplyr\u001b[39m::\u001b[32mfilter()\u001b[39m   masks \u001b[34mstats\u001b[39m::filter()\n",
      "\u001b[31m✖\u001b[39m \u001b[34mrecipes\u001b[39m::\u001b[32mfixed()\u001b[39m  masks \u001b[34mstringr\u001b[39m::fixed()\n",
      "\u001b[31m✖\u001b[39m \u001b[34mdplyr\u001b[39m::\u001b[32mlag()\u001b[39m      masks \u001b[34mstats\u001b[39m::lag()\n",
      "\u001b[31m✖\u001b[39m \u001b[34myardstick\u001b[39m::\u001b[32mspec()\u001b[39m masks \u001b[34mreadr\u001b[39m::spec()\n",
      "\u001b[31m✖\u001b[39m \u001b[34mrecipes\u001b[39m::\u001b[32mstep()\u001b[39m   masks \u001b[34mstats\u001b[39m::step()\n",
      "\u001b[34m•\u001b[39m Learn how to get started at \u001b[32mhttps://www.tidymodels.org/start/\u001b[39m\n",
      "\n",
      "Updating HTML index of packages in '.Library'\n",
      "\n",
      "Making 'packages.html' ...\n",
      " done\n",
      "\n",
      "Updating HTML index of packages in '.Library'\n",
      "\n",
      "Making 'packages.html' ...\n",
      " done\n",
      "\n",
      "Registered S3 method overwritten by 'GGally':\n",
      "  method from   \n",
      "  +.gg   ggplot2\n",
      "\n"
     ]
    }
   ],
   "source": [
    "library(tidyverse)\n",
    "library(dplyr)\n",
    "library(repr)\n",
    "library(tidymodels)\n",
    "library(recipes)\n",
    "install.packages(\"themis\")\n",
    "library(themis)\n",
    "install.packages(\"GGally\")\n",
    "library(GGally)"
   ]
  },
  {
   "cell_type": "code",
   "execution_count": 2,
   "id": "bc06b96c-d464-4930-a49c-ade25127bdea",
   "metadata": {},
   "outputs": [
    {
     "data": {
      "text/html": [
       "<table class=\"dataframe\">\n",
       "<caption>A data.frame: 6 × 13</caption>\n",
       "<thead>\n",
       "\t<tr><th></th><th scope=col>fixed.acidity</th><th scope=col>volatile.acidity</th><th scope=col>citric.acid</th><th scope=col>residual.sugar</th><th scope=col>chlorides</th><th scope=col>free.sulfur.dioxide</th><th scope=col>total.sulfur.dioxide</th><th scope=col>density</th><th scope=col>pH</th><th scope=col>sulphates</th><th scope=col>alcohol</th><th scope=col>quality</th><th scope=col>type</th></tr>\n",
       "\t<tr><th></th><th scope=col>&lt;chr&gt;</th><th scope=col>&lt;chr&gt;</th><th scope=col>&lt;chr&gt;</th><th scope=col>&lt;chr&gt;</th><th scope=col>&lt;chr&gt;</th><th scope=col>&lt;chr&gt;</th><th scope=col>&lt;chr&gt;</th><th scope=col>&lt;chr&gt;</th><th scope=col>&lt;chr&gt;</th><th scope=col>&lt;chr&gt;</th><th scope=col>&lt;chr&gt;</th><th scope=col>&lt;int&gt;</th><th scope=col>&lt;chr&gt;</th></tr>\n",
       "</thead>\n",
       "<tbody>\n",
       "\t<tr><th scope=row>1</th><td>7.4 </td><td>0.7 </td><td>0   </td><td>1.9</td><td>0.076</td><td>11</td><td>34</td><td>0.9978</td><td>3.51</td><td>0.56</td><td>9.4</td><td>5</td><td>Red</td></tr>\n",
       "\t<tr><th scope=row>2</th><td>7.8 </td><td>0.88</td><td>0   </td><td>2.6</td><td>0.098</td><td>25</td><td>67</td><td>0.9968</td><td>3.2 </td><td>0.68</td><td>9.8</td><td>5</td><td>Red</td></tr>\n",
       "\t<tr><th scope=row>3</th><td>7.8 </td><td>0.76</td><td>0.04</td><td>2.3</td><td>0.092</td><td>15</td><td>54</td><td>0.997 </td><td>3.26</td><td>0.65</td><td>9.8</td><td>5</td><td>Red</td></tr>\n",
       "\t<tr><th scope=row>4</th><td>11.2</td><td>0.28</td><td>0.56</td><td>1.9</td><td>0.075</td><td>17</td><td>60</td><td>0.998 </td><td>3.16</td><td>0.58</td><td>9.8</td><td>6</td><td>Red</td></tr>\n",
       "\t<tr><th scope=row>5</th><td>7.4 </td><td>0.7 </td><td>0   </td><td>1.9</td><td>0.076</td><td>11</td><td>34</td><td>0.9978</td><td>3.51</td><td>0.56</td><td>9.4</td><td>5</td><td>Red</td></tr>\n",
       "\t<tr><th scope=row>6</th><td>7.4 </td><td>0.66</td><td>0   </td><td>1.8</td><td>0.075</td><td>13</td><td>40</td><td>0.9978</td><td>3.51</td><td>0.56</td><td>9.4</td><td>5</td><td>Red</td></tr>\n",
       "</tbody>\n",
       "</table>\n"
      ],
      "text/latex": [
       "A data.frame: 6 × 13\n",
       "\\begin{tabular}{r|lllllllllllll}\n",
       "  & fixed.acidity & volatile.acidity & citric.acid & residual.sugar & chlorides & free.sulfur.dioxide & total.sulfur.dioxide & density & pH & sulphates & alcohol & quality & type\\\\\n",
       "  & <chr> & <chr> & <chr> & <chr> & <chr> & <chr> & <chr> & <chr> & <chr> & <chr> & <chr> & <int> & <chr>\\\\\n",
       "\\hline\n",
       "\t1 & 7.4  & 0.7  & 0    & 1.9 & 0.076 & 11 & 34 & 0.9978 & 3.51 & 0.56 & 9.4 & 5 & Red\\\\\n",
       "\t2 & 7.8  & 0.88 & 0    & 2.6 & 0.098 & 25 & 67 & 0.9968 & 3.2  & 0.68 & 9.8 & 5 & Red\\\\\n",
       "\t3 & 7.8  & 0.76 & 0.04 & 2.3 & 0.092 & 15 & 54 & 0.997  & 3.26 & 0.65 & 9.8 & 5 & Red\\\\\n",
       "\t4 & 11.2 & 0.28 & 0.56 & 1.9 & 0.075 & 17 & 60 & 0.998  & 3.16 & 0.58 & 9.8 & 6 & Red\\\\\n",
       "\t5 & 7.4  & 0.7  & 0    & 1.9 & 0.076 & 11 & 34 & 0.9978 & 3.51 & 0.56 & 9.4 & 5 & Red\\\\\n",
       "\t6 & 7.4  & 0.66 & 0    & 1.8 & 0.075 & 13 & 40 & 0.9978 & 3.51 & 0.56 & 9.4 & 5 & Red\\\\\n",
       "\\end{tabular}\n"
      ],
      "text/markdown": [
       "\n",
       "A data.frame: 6 × 13\n",
       "\n",
       "| <!--/--> | fixed.acidity &lt;chr&gt; | volatile.acidity &lt;chr&gt; | citric.acid &lt;chr&gt; | residual.sugar &lt;chr&gt; | chlorides &lt;chr&gt; | free.sulfur.dioxide &lt;chr&gt; | total.sulfur.dioxide &lt;chr&gt; | density &lt;chr&gt; | pH &lt;chr&gt; | sulphates &lt;chr&gt; | alcohol &lt;chr&gt; | quality &lt;int&gt; | type &lt;chr&gt; |\n",
       "|---|---|---|---|---|---|---|---|---|---|---|---|---|---|\n",
       "| 1 | 7.4  | 0.7  | 0    | 1.9 | 0.076 | 11 | 34 | 0.9978 | 3.51 | 0.56 | 9.4 | 5 | Red |\n",
       "| 2 | 7.8  | 0.88 | 0    | 2.6 | 0.098 | 25 | 67 | 0.9968 | 3.2  | 0.68 | 9.8 | 5 | Red |\n",
       "| 3 | 7.8  | 0.76 | 0.04 | 2.3 | 0.092 | 15 | 54 | 0.997  | 3.26 | 0.65 | 9.8 | 5 | Red |\n",
       "| 4 | 11.2 | 0.28 | 0.56 | 1.9 | 0.075 | 17 | 60 | 0.998  | 3.16 | 0.58 | 9.8 | 6 | Red |\n",
       "| 5 | 7.4  | 0.7  | 0    | 1.9 | 0.076 | 11 | 34 | 0.9978 | 3.51 | 0.56 | 9.4 | 5 | Red |\n",
       "| 6 | 7.4  | 0.66 | 0    | 1.8 | 0.075 | 13 | 40 | 0.9978 | 3.51 | 0.56 | 9.4 | 5 | Red |\n",
       "\n"
      ],
      "text/plain": [
       "  fixed.acidity volatile.acidity citric.acid residual.sugar chlorides\n",
       "1 7.4           0.7              0           1.9            0.076    \n",
       "2 7.8           0.88             0           2.6            0.098    \n",
       "3 7.8           0.76             0.04        2.3            0.092    \n",
       "4 11.2          0.28             0.56        1.9            0.075    \n",
       "5 7.4           0.7              0           1.9            0.076    \n",
       "6 7.4           0.66             0           1.8            0.075    \n",
       "  free.sulfur.dioxide total.sulfur.dioxide density pH   sulphates alcohol\n",
       "1 11                  34                   0.9978  3.51 0.56      9.4    \n",
       "2 25                  67                   0.9968  3.2  0.68      9.8    \n",
       "3 15                  54                   0.997   3.26 0.65      9.8    \n",
       "4 17                  60                   0.998   3.16 0.58      9.8    \n",
       "5 11                  34                   0.9978  3.51 0.56      9.4    \n",
       "6 13                  40                   0.9978  3.51 0.56      9.4    \n",
       "  quality type\n",
       "1 5       Red \n",
       "2 5       Red \n",
       "3 5       Red \n",
       "4 6       Red \n",
       "5 5       Red \n",
       "6 5       Red "
      ]
     },
     "metadata": {},
     "output_type": "display_data"
    },
    {
     "data": {
      "text/html": [
       "<table class=\"dataframe\">\n",
       "<caption>A data.frame: 6 × 13</caption>\n",
       "<thead>\n",
       "\t<tr><th></th><th scope=col>fixed.acidity</th><th scope=col>volatile.acidity</th><th scope=col>citric.acid</th><th scope=col>residual.sugar</th><th scope=col>chlorides</th><th scope=col>free.sulfur.dioxide</th><th scope=col>total.sulfur.dioxide</th><th scope=col>density</th><th scope=col>pH</th><th scope=col>sulphates</th><th scope=col>alcohol</th><th scope=col>quality</th><th scope=col>type</th></tr>\n",
       "\t<tr><th></th><th scope=col>&lt;chr&gt;</th><th scope=col>&lt;chr&gt;</th><th scope=col>&lt;chr&gt;</th><th scope=col>&lt;chr&gt;</th><th scope=col>&lt;chr&gt;</th><th scope=col>&lt;chr&gt;</th><th scope=col>&lt;chr&gt;</th><th scope=col>&lt;chr&gt;</th><th scope=col>&lt;chr&gt;</th><th scope=col>&lt;chr&gt;</th><th scope=col>&lt;chr&gt;</th><th scope=col>&lt;int&gt;</th><th scope=col>&lt;chr&gt;</th></tr>\n",
       "</thead>\n",
       "<tbody>\n",
       "\t<tr><th scope=row>1</th><td>7  </td><td>0.27</td><td>0.36</td><td>20.7</td><td>0.045</td><td>45</td><td>170</td><td>1.001 </td><td>3   </td><td>0.45</td><td>8.8 </td><td>6</td><td>White</td></tr>\n",
       "\t<tr><th scope=row>2</th><td>6.3</td><td>0.3 </td><td>0.34</td><td>1.6 </td><td>0.049</td><td>14</td><td>132</td><td>0.994 </td><td>3.3 </td><td>0.49</td><td>9.5 </td><td>6</td><td>White</td></tr>\n",
       "\t<tr><th scope=row>3</th><td>8.1</td><td>0.28</td><td>0.4 </td><td>6.9 </td><td>0.05 </td><td>30</td><td>97 </td><td>0.9951</td><td>3.26</td><td>0.44</td><td>10.1</td><td>6</td><td>White</td></tr>\n",
       "\t<tr><th scope=row>4</th><td>7.2</td><td>0.23</td><td>0.32</td><td>8.5 </td><td>0.058</td><td>47</td><td>186</td><td>0.9956</td><td>3.19</td><td>0.4 </td><td>9.9 </td><td>6</td><td>White</td></tr>\n",
       "\t<tr><th scope=row>5</th><td>7.2</td><td>0.23</td><td>0.32</td><td>8.5 </td><td>0.058</td><td>47</td><td>186</td><td>0.9956</td><td>3.19</td><td>0.4 </td><td>9.9 </td><td>6</td><td>White</td></tr>\n",
       "\t<tr><th scope=row>6</th><td>8.1</td><td>0.28</td><td>0.4 </td><td>6.9 </td><td>0.05 </td><td>30</td><td>97 </td><td>0.9951</td><td>3.26</td><td>0.44</td><td>10.1</td><td>6</td><td>White</td></tr>\n",
       "</tbody>\n",
       "</table>\n"
      ],
      "text/latex": [
       "A data.frame: 6 × 13\n",
       "\\begin{tabular}{r|lllllllllllll}\n",
       "  & fixed.acidity & volatile.acidity & citric.acid & residual.sugar & chlorides & free.sulfur.dioxide & total.sulfur.dioxide & density & pH & sulphates & alcohol & quality & type\\\\\n",
       "  & <chr> & <chr> & <chr> & <chr> & <chr> & <chr> & <chr> & <chr> & <chr> & <chr> & <chr> & <int> & <chr>\\\\\n",
       "\\hline\n",
       "\t1 & 7   & 0.27 & 0.36 & 20.7 & 0.045 & 45 & 170 & 1.001  & 3    & 0.45 & 8.8  & 6 & White\\\\\n",
       "\t2 & 6.3 & 0.3  & 0.34 & 1.6  & 0.049 & 14 & 132 & 0.994  & 3.3  & 0.49 & 9.5  & 6 & White\\\\\n",
       "\t3 & 8.1 & 0.28 & 0.4  & 6.9  & 0.05  & 30 & 97  & 0.9951 & 3.26 & 0.44 & 10.1 & 6 & White\\\\\n",
       "\t4 & 7.2 & 0.23 & 0.32 & 8.5  & 0.058 & 47 & 186 & 0.9956 & 3.19 & 0.4  & 9.9  & 6 & White\\\\\n",
       "\t5 & 7.2 & 0.23 & 0.32 & 8.5  & 0.058 & 47 & 186 & 0.9956 & 3.19 & 0.4  & 9.9  & 6 & White\\\\\n",
       "\t6 & 8.1 & 0.28 & 0.4  & 6.9  & 0.05  & 30 & 97  & 0.9951 & 3.26 & 0.44 & 10.1 & 6 & White\\\\\n",
       "\\end{tabular}\n"
      ],
      "text/markdown": [
       "\n",
       "A data.frame: 6 × 13\n",
       "\n",
       "| <!--/--> | fixed.acidity &lt;chr&gt; | volatile.acidity &lt;chr&gt; | citric.acid &lt;chr&gt; | residual.sugar &lt;chr&gt; | chlorides &lt;chr&gt; | free.sulfur.dioxide &lt;chr&gt; | total.sulfur.dioxide &lt;chr&gt; | density &lt;chr&gt; | pH &lt;chr&gt; | sulphates &lt;chr&gt; | alcohol &lt;chr&gt; | quality &lt;int&gt; | type &lt;chr&gt; |\n",
       "|---|---|---|---|---|---|---|---|---|---|---|---|---|---|\n",
       "| 1 | 7   | 0.27 | 0.36 | 20.7 | 0.045 | 45 | 170 | 1.001  | 3    | 0.45 | 8.8  | 6 | White |\n",
       "| 2 | 6.3 | 0.3  | 0.34 | 1.6  | 0.049 | 14 | 132 | 0.994  | 3.3  | 0.49 | 9.5  | 6 | White |\n",
       "| 3 | 8.1 | 0.28 | 0.4  | 6.9  | 0.05  | 30 | 97  | 0.9951 | 3.26 | 0.44 | 10.1 | 6 | White |\n",
       "| 4 | 7.2 | 0.23 | 0.32 | 8.5  | 0.058 | 47 | 186 | 0.9956 | 3.19 | 0.4  | 9.9  | 6 | White |\n",
       "| 5 | 7.2 | 0.23 | 0.32 | 8.5  | 0.058 | 47 | 186 | 0.9956 | 3.19 | 0.4  | 9.9  | 6 | White |\n",
       "| 6 | 8.1 | 0.28 | 0.4  | 6.9  | 0.05  | 30 | 97  | 0.9951 | 3.26 | 0.44 | 10.1 | 6 | White |\n",
       "\n"
      ],
      "text/plain": [
       "  fixed.acidity volatile.acidity citric.acid residual.sugar chlorides\n",
       "1 7             0.27             0.36        20.7           0.045    \n",
       "2 6.3           0.3              0.34        1.6            0.049    \n",
       "3 8.1           0.28             0.4         6.9            0.05     \n",
       "4 7.2           0.23             0.32        8.5            0.058    \n",
       "5 7.2           0.23             0.32        8.5            0.058    \n",
       "6 8.1           0.28             0.4         6.9            0.05     \n",
       "  free.sulfur.dioxide total.sulfur.dioxide density pH   sulphates alcohol\n",
       "1 45                  170                  1.001   3    0.45      8.8    \n",
       "2 14                  132                  0.994   3.3  0.49      9.5    \n",
       "3 30                  97                   0.9951  3.26 0.44      10.1   \n",
       "4 47                  186                  0.9956  3.19 0.4       9.9    \n",
       "5 47                  186                  0.9956  3.19 0.4       9.9    \n",
       "6 30                  97                   0.9951  3.26 0.44      10.1   \n",
       "  quality type \n",
       "1 6       White\n",
       "2 6       White\n",
       "3 6       White\n",
       "4 6       White\n",
       "5 6       White\n",
       "6 6       White"
      ]
     },
     "metadata": {},
     "output_type": "display_data"
    }
   ],
   "source": [
    "temp <- tempfile()\n",
    "download_file <- download.file(\"https://archive.ics.uci.edu/static/public/186/wine+quality.zip\", temp)\n",
    "red_wine <- read.csv2(unz(temp, \"winequality-red.csv\")) |>\n",
    "             mutate(type = \"Red\")\n",
    "white_wine <- read.csv2(unz(temp, \"winequality-white.csv\")) |>\n",
    "              mutate(type =\"White\")\n",
    "head(red_wine)\n",
    "head(white_wine)\n",
    "unlink(temp)"
   ]
  },
  {
   "cell_type": "code",
   "execution_count": 6,
   "id": "b808a407-c100-446e-89af-0e50f445a364",
   "metadata": {},
   "outputs": [
    {
     "data": {
      "text/html": [
       "<table class=\"dataframe\">\n",
       "<caption>A data.frame: 6 × 13</caption>\n",
       "<thead>\n",
       "\t<tr><th></th><th scope=col>fixed.acidity</th><th scope=col>volatile.acidity</th><th scope=col>citric.acid</th><th scope=col>residual.sugar</th><th scope=col>chlorides</th><th scope=col>free.sulfur.dioxide</th><th scope=col>total.sulfur.dioxide</th><th scope=col>density</th><th scope=col>pH</th><th scope=col>sulphates</th><th scope=col>alcohol</th><th scope=col>quality</th><th scope=col>type</th></tr>\n",
       "\t<tr><th></th><th scope=col>&lt;dbl&gt;</th><th scope=col>&lt;dbl&gt;</th><th scope=col>&lt;dbl&gt;</th><th scope=col>&lt;dbl&gt;</th><th scope=col>&lt;dbl&gt;</th><th scope=col>&lt;dbl&gt;</th><th scope=col>&lt;dbl&gt;</th><th scope=col>&lt;dbl&gt;</th><th scope=col>&lt;dbl&gt;</th><th scope=col>&lt;dbl&gt;</th><th scope=col>&lt;dbl&gt;</th><th scope=col>&lt;int&gt;</th><th scope=col>&lt;fct&gt;</th></tr>\n",
       "</thead>\n",
       "<tbody>\n",
       "\t<tr><th scope=row>1</th><td> 7.4</td><td>0.70</td><td>0.00</td><td>1.9</td><td>0.076</td><td>11</td><td>34</td><td>0.9978</td><td>3.51</td><td>0.56</td><td>9.4</td><td>5</td><td>Red</td></tr>\n",
       "\t<tr><th scope=row>2</th><td> 7.8</td><td>0.88</td><td>0.00</td><td>2.6</td><td>0.098</td><td>25</td><td>67</td><td>0.9968</td><td>3.20</td><td>0.68</td><td>9.8</td><td>5</td><td>Red</td></tr>\n",
       "\t<tr><th scope=row>3</th><td> 7.8</td><td>0.76</td><td>0.04</td><td>2.3</td><td>0.092</td><td>15</td><td>54</td><td>0.9970</td><td>3.26</td><td>0.65</td><td>9.8</td><td>5</td><td>Red</td></tr>\n",
       "\t<tr><th scope=row>4</th><td>11.2</td><td>0.28</td><td>0.56</td><td>1.9</td><td>0.075</td><td>17</td><td>60</td><td>0.9980</td><td>3.16</td><td>0.58</td><td>9.8</td><td>6</td><td>Red</td></tr>\n",
       "\t<tr><th scope=row>5</th><td> 7.4</td><td>0.70</td><td>0.00</td><td>1.9</td><td>0.076</td><td>11</td><td>34</td><td>0.9978</td><td>3.51</td><td>0.56</td><td>9.4</td><td>5</td><td>Red</td></tr>\n",
       "\t<tr><th scope=row>6</th><td> 7.4</td><td>0.66</td><td>0.00</td><td>1.8</td><td>0.075</td><td>13</td><td>40</td><td>0.9978</td><td>3.51</td><td>0.56</td><td>9.4</td><td>5</td><td>Red</td></tr>\n",
       "</tbody>\n",
       "</table>\n"
      ],
      "text/latex": [
       "A data.frame: 6 × 13\n",
       "\\begin{tabular}{r|lllllllllllll}\n",
       "  & fixed.acidity & volatile.acidity & citric.acid & residual.sugar & chlorides & free.sulfur.dioxide & total.sulfur.dioxide & density & pH & sulphates & alcohol & quality & type\\\\\n",
       "  & <dbl> & <dbl> & <dbl> & <dbl> & <dbl> & <dbl> & <dbl> & <dbl> & <dbl> & <dbl> & <dbl> & <int> & <fct>\\\\\n",
       "\\hline\n",
       "\t1 &  7.4 & 0.70 & 0.00 & 1.9 & 0.076 & 11 & 34 & 0.9978 & 3.51 & 0.56 & 9.4 & 5 & Red\\\\\n",
       "\t2 &  7.8 & 0.88 & 0.00 & 2.6 & 0.098 & 25 & 67 & 0.9968 & 3.20 & 0.68 & 9.8 & 5 & Red\\\\\n",
       "\t3 &  7.8 & 0.76 & 0.04 & 2.3 & 0.092 & 15 & 54 & 0.9970 & 3.26 & 0.65 & 9.8 & 5 & Red\\\\\n",
       "\t4 & 11.2 & 0.28 & 0.56 & 1.9 & 0.075 & 17 & 60 & 0.9980 & 3.16 & 0.58 & 9.8 & 6 & Red\\\\\n",
       "\t5 &  7.4 & 0.70 & 0.00 & 1.9 & 0.076 & 11 & 34 & 0.9978 & 3.51 & 0.56 & 9.4 & 5 & Red\\\\\n",
       "\t6 &  7.4 & 0.66 & 0.00 & 1.8 & 0.075 & 13 & 40 & 0.9978 & 3.51 & 0.56 & 9.4 & 5 & Red\\\\\n",
       "\\end{tabular}\n"
      ],
      "text/markdown": [
       "\n",
       "A data.frame: 6 × 13\n",
       "\n",
       "| <!--/--> | fixed.acidity &lt;dbl&gt; | volatile.acidity &lt;dbl&gt; | citric.acid &lt;dbl&gt; | residual.sugar &lt;dbl&gt; | chlorides &lt;dbl&gt; | free.sulfur.dioxide &lt;dbl&gt; | total.sulfur.dioxide &lt;dbl&gt; | density &lt;dbl&gt; | pH &lt;dbl&gt; | sulphates &lt;dbl&gt; | alcohol &lt;dbl&gt; | quality &lt;int&gt; | type &lt;fct&gt; |\n",
       "|---|---|---|---|---|---|---|---|---|---|---|---|---|---|\n",
       "| 1 |  7.4 | 0.70 | 0.00 | 1.9 | 0.076 | 11 | 34 | 0.9978 | 3.51 | 0.56 | 9.4 | 5 | Red |\n",
       "| 2 |  7.8 | 0.88 | 0.00 | 2.6 | 0.098 | 25 | 67 | 0.9968 | 3.20 | 0.68 | 9.8 | 5 | Red |\n",
       "| 3 |  7.8 | 0.76 | 0.04 | 2.3 | 0.092 | 15 | 54 | 0.9970 | 3.26 | 0.65 | 9.8 | 5 | Red |\n",
       "| 4 | 11.2 | 0.28 | 0.56 | 1.9 | 0.075 | 17 | 60 | 0.9980 | 3.16 | 0.58 | 9.8 | 6 | Red |\n",
       "| 5 |  7.4 | 0.70 | 0.00 | 1.9 | 0.076 | 11 | 34 | 0.9978 | 3.51 | 0.56 | 9.4 | 5 | Red |\n",
       "| 6 |  7.4 | 0.66 | 0.00 | 1.8 | 0.075 | 13 | 40 | 0.9978 | 3.51 | 0.56 | 9.4 | 5 | Red |\n",
       "\n"
      ],
      "text/plain": [
       "  fixed.acidity volatile.acidity citric.acid residual.sugar chlorides\n",
       "1  7.4          0.70             0.00        1.9            0.076    \n",
       "2  7.8          0.88             0.00        2.6            0.098    \n",
       "3  7.8          0.76             0.04        2.3            0.092    \n",
       "4 11.2          0.28             0.56        1.9            0.075    \n",
       "5  7.4          0.70             0.00        1.9            0.076    \n",
       "6  7.4          0.66             0.00        1.8            0.075    \n",
       "  free.sulfur.dioxide total.sulfur.dioxide density pH   sulphates alcohol\n",
       "1 11                  34                   0.9978  3.51 0.56      9.4    \n",
       "2 25                  67                   0.9968  3.20 0.68      9.8    \n",
       "3 15                  54                   0.9970  3.26 0.65      9.8    \n",
       "4 17                  60                   0.9980  3.16 0.58      9.8    \n",
       "5 11                  34                   0.9978  3.51 0.56      9.4    \n",
       "6 13                  40                   0.9978  3.51 0.56      9.4    \n",
       "  quality type\n",
       "1 5       Red \n",
       "2 5       Red \n",
       "3 5       Red \n",
       "4 6       Red \n",
       "5 5       Red \n",
       "6 5       Red "
      ]
     },
     "metadata": {},
     "output_type": "display_data"
    }
   ],
   "source": [
    "wine_data <- rbind(red_wine, white_wine) |>\n",
    "             mutate(across(fixed.acidity:alcohol, as.numeric),\n",
    "                   type = as_factor(type))\n",
    "write_csv(wine_data, \"../data/wine_data.csv\")\n",
    "head(wine_data)"
   ]
  },
  {
   "cell_type": "code",
   "execution_count": 7,
   "id": "3607b72d-ae16-4387-b14f-0048a6f83784",
   "metadata": {},
   "outputs": [
    {
     "data": {
      "text/html": [
       "<table class=\"dataframe\">\n",
       "<caption>A data.frame: 6 × 13</caption>\n",
       "<thead>\n",
       "\t<tr><th></th><th scope=col>fixed.acidity</th><th scope=col>volatile.acidity</th><th scope=col>citric.acid</th><th scope=col>residual.sugar</th><th scope=col>chlorides</th><th scope=col>free.sulfur.dioxide</th><th scope=col>total.sulfur.dioxide</th><th scope=col>density</th><th scope=col>pH</th><th scope=col>sulphates</th><th scope=col>alcohol</th><th scope=col>quality</th><th scope=col>type</th></tr>\n",
       "\t<tr><th></th><th scope=col>&lt;dbl&gt;</th><th scope=col>&lt;dbl&gt;</th><th scope=col>&lt;dbl&gt;</th><th scope=col>&lt;dbl&gt;</th><th scope=col>&lt;dbl&gt;</th><th scope=col>&lt;dbl&gt;</th><th scope=col>&lt;dbl&gt;</th><th scope=col>&lt;dbl&gt;</th><th scope=col>&lt;dbl&gt;</th><th scope=col>&lt;dbl&gt;</th><th scope=col>&lt;dbl&gt;</th><th scope=col>&lt;int&gt;</th><th scope=col>&lt;fct&gt;</th></tr>\n",
       "</thead>\n",
       "<tbody>\n",
       "\t<tr><th scope=row>1</th><td>7.4</td><td>0.70</td><td>0.00</td><td>1.9</td><td>0.076</td><td>11</td><td> 34</td><td>0.9978</td><td>3.51</td><td>0.56</td><td> 9.4</td><td>5</td><td>Red</td></tr>\n",
       "\t<tr><th scope=row>2</th><td>7.8</td><td>0.88</td><td>0.00</td><td>2.6</td><td>0.098</td><td>25</td><td> 67</td><td>0.9968</td><td>3.20</td><td>0.68</td><td> 9.8</td><td>5</td><td>Red</td></tr>\n",
       "\t<tr><th scope=row>3</th><td>7.4</td><td>0.66</td><td>0.00</td><td>1.8</td><td>0.075</td><td>13</td><td> 40</td><td>0.9978</td><td>3.51</td><td>0.56</td><td> 9.4</td><td>5</td><td>Red</td></tr>\n",
       "\t<tr><th scope=row>4</th><td>7.5</td><td>0.50</td><td>0.36</td><td>6.1</td><td>0.071</td><td>17</td><td>102</td><td>0.9978</td><td>3.35</td><td>0.80</td><td>10.5</td><td>5</td><td>Red</td></tr>\n",
       "\t<tr><th scope=row>5</th><td>7.5</td><td>0.50</td><td>0.36</td><td>6.1</td><td>0.071</td><td>17</td><td>102</td><td>0.9978</td><td>3.35</td><td>0.80</td><td>10.5</td><td>5</td><td>Red</td></tr>\n",
       "\t<tr><th scope=row>6</th><td>8.9</td><td>0.62</td><td>0.19</td><td>3.9</td><td>0.170</td><td>51</td><td>148</td><td>0.9986</td><td>3.17</td><td>0.93</td><td> 9.2</td><td>5</td><td>Red</td></tr>\n",
       "</tbody>\n",
       "</table>\n"
      ],
      "text/latex": [
       "A data.frame: 6 × 13\n",
       "\\begin{tabular}{r|lllllllllllll}\n",
       "  & fixed.acidity & volatile.acidity & citric.acid & residual.sugar & chlorides & free.sulfur.dioxide & total.sulfur.dioxide & density & pH & sulphates & alcohol & quality & type\\\\\n",
       "  & <dbl> & <dbl> & <dbl> & <dbl> & <dbl> & <dbl> & <dbl> & <dbl> & <dbl> & <dbl> & <dbl> & <int> & <fct>\\\\\n",
       "\\hline\n",
       "\t1 & 7.4 & 0.70 & 0.00 & 1.9 & 0.076 & 11 &  34 & 0.9978 & 3.51 & 0.56 &  9.4 & 5 & Red\\\\\n",
       "\t2 & 7.8 & 0.88 & 0.00 & 2.6 & 0.098 & 25 &  67 & 0.9968 & 3.20 & 0.68 &  9.8 & 5 & Red\\\\\n",
       "\t3 & 7.4 & 0.66 & 0.00 & 1.8 & 0.075 & 13 &  40 & 0.9978 & 3.51 & 0.56 &  9.4 & 5 & Red\\\\\n",
       "\t4 & 7.5 & 0.50 & 0.36 & 6.1 & 0.071 & 17 & 102 & 0.9978 & 3.35 & 0.80 & 10.5 & 5 & Red\\\\\n",
       "\t5 & 7.5 & 0.50 & 0.36 & 6.1 & 0.071 & 17 & 102 & 0.9978 & 3.35 & 0.80 & 10.5 & 5 & Red\\\\\n",
       "\t6 & 8.9 & 0.62 & 0.19 & 3.9 & 0.170 & 51 & 148 & 0.9986 & 3.17 & 0.93 &  9.2 & 5 & Red\\\\\n",
       "\\end{tabular}\n"
      ],
      "text/markdown": [
       "\n",
       "A data.frame: 6 × 13\n",
       "\n",
       "| <!--/--> | fixed.acidity &lt;dbl&gt; | volatile.acidity &lt;dbl&gt; | citric.acid &lt;dbl&gt; | residual.sugar &lt;dbl&gt; | chlorides &lt;dbl&gt; | free.sulfur.dioxide &lt;dbl&gt; | total.sulfur.dioxide &lt;dbl&gt; | density &lt;dbl&gt; | pH &lt;dbl&gt; | sulphates &lt;dbl&gt; | alcohol &lt;dbl&gt; | quality &lt;int&gt; | type &lt;fct&gt; |\n",
       "|---|---|---|---|---|---|---|---|---|---|---|---|---|---|\n",
       "| 1 | 7.4 | 0.70 | 0.00 | 1.9 | 0.076 | 11 |  34 | 0.9978 | 3.51 | 0.56 |  9.4 | 5 | Red |\n",
       "| 2 | 7.8 | 0.88 | 0.00 | 2.6 | 0.098 | 25 |  67 | 0.9968 | 3.20 | 0.68 |  9.8 | 5 | Red |\n",
       "| 3 | 7.4 | 0.66 | 0.00 | 1.8 | 0.075 | 13 |  40 | 0.9978 | 3.51 | 0.56 |  9.4 | 5 | Red |\n",
       "| 4 | 7.5 | 0.50 | 0.36 | 6.1 | 0.071 | 17 | 102 | 0.9978 | 3.35 | 0.80 | 10.5 | 5 | Red |\n",
       "| 5 | 7.5 | 0.50 | 0.36 | 6.1 | 0.071 | 17 | 102 | 0.9978 | 3.35 | 0.80 | 10.5 | 5 | Red |\n",
       "| 6 | 8.9 | 0.62 | 0.19 | 3.9 | 0.170 | 51 | 148 | 0.9986 | 3.17 | 0.93 |  9.2 | 5 | Red |\n",
       "\n"
      ],
      "text/plain": [
       "  fixed.acidity volatile.acidity citric.acid residual.sugar chlorides\n",
       "1 7.4           0.70             0.00        1.9            0.076    \n",
       "2 7.8           0.88             0.00        2.6            0.098    \n",
       "3 7.4           0.66             0.00        1.8            0.075    \n",
       "4 7.5           0.50             0.36        6.1            0.071    \n",
       "5 7.5           0.50             0.36        6.1            0.071    \n",
       "6 8.9           0.62             0.19        3.9            0.170    \n",
       "  free.sulfur.dioxide total.sulfur.dioxide density pH   sulphates alcohol\n",
       "1 11                   34                  0.9978  3.51 0.56       9.4   \n",
       "2 25                   67                  0.9968  3.20 0.68       9.8   \n",
       "3 13                   40                  0.9978  3.51 0.56       9.4   \n",
       "4 17                  102                  0.9978  3.35 0.80      10.5   \n",
       "5 17                  102                  0.9978  3.35 0.80      10.5   \n",
       "6 51                  148                  0.9986  3.17 0.93       9.2   \n",
       "  quality type\n",
       "1 5       Red \n",
       "2 5       Red \n",
       "3 5       Red \n",
       "4 5       Red \n",
       "5 5       Red \n",
       "6 5       Red "
      ]
     },
     "metadata": {},
     "output_type": "display_data"
    }
   ],
   "source": [
    "set.seed(2000)\n",
    "#wine_data <- wine_data |>\n",
    "#    select(fixed.acidity:alcohol, type)\n",
    "wine_split <- initial_split(wine_data, prop = 0.75, strata = type)\n",
    "wine_training <- training(wine_split)\n",
    "wine_testing <- testing(wine_split)\n",
    "head(wine_training)"
   ]
  },
  {
   "cell_type": "code",
   "execution_count": 8,
   "id": "d973dc41-2fa4-4c6d-a797-38a3a34eda51",
   "metadata": {},
   "outputs": [
    {
     "data": {
      "text/html": [
       "<table class=\"dataframe\">\n",
       "<caption>A tibble: 6 × 13</caption>\n",
       "<thead>\n",
       "\t<tr><th scope=col>fixed.acidity</th><th scope=col>volatile.acidity</th><th scope=col>citric.acid</th><th scope=col>residual.sugar</th><th scope=col>chlorides</th><th scope=col>free.sulfur.dioxide</th><th scope=col>total.sulfur.dioxide</th><th scope=col>density</th><th scope=col>pH</th><th scope=col>sulphates</th><th scope=col>alcohol</th><th scope=col>quality</th><th scope=col>type</th></tr>\n",
       "\t<tr><th scope=col>&lt;dbl&gt;</th><th scope=col>&lt;dbl&gt;</th><th scope=col>&lt;dbl&gt;</th><th scope=col>&lt;dbl&gt;</th><th scope=col>&lt;dbl&gt;</th><th scope=col>&lt;dbl&gt;</th><th scope=col>&lt;dbl&gt;</th><th scope=col>&lt;dbl&gt;</th><th scope=col>&lt;dbl&gt;</th><th scope=col>&lt;dbl&gt;</th><th scope=col>&lt;dbl&gt;</th><th scope=col>&lt;dbl&gt;</th><th scope=col>&lt;fct&gt;</th></tr>\n",
       "</thead>\n",
       "<tbody>\n",
       "\t<tr><td>0.1379579</td><td>2.197977</td><td>-2.1840936</td><td>-0.7461269</td><td>0.5533783</td><td>-1.1054569</td><td>-1.4494401</td><td>1.0217267</td><td> 1.8134883</td><td>0.2033448</td><td>-0.917050766</td><td>-0.9436766</td><td>Red</td></tr>\n",
       "\t<tr><td>0.4465048</td><td>3.295474</td><td>-2.1840936</td><td>-0.6000828</td><td>1.1673877</td><td>-0.3079467</td><td>-0.8625687</td><td>0.6909617</td><td>-0.1114575</td><td>1.0153349</td><td>-0.581648282</td><td>-0.9436766</td><td>Red</td></tr>\n",
       "\t<tr><td>0.1379579</td><td>1.954089</td><td>-2.1840936</td><td>-0.7669903</td><td>0.5254688</td><td>-0.9915268</td><td>-1.3427362</td><td>1.0217267</td><td> 1.8134883</td><td>0.2033448</td><td>-0.917050766</td><td>-0.9436766</td><td>Red</td></tr>\n",
       "\t<tr><td>0.2150946</td><td>0.978537</td><td> 0.2787936</td><td> 0.1301374</td><td>0.4138308</td><td>-0.7636668</td><td>-0.2401294</td><td>1.0217267</td><td> 0.8199679</td><td>1.8273250</td><td> 0.005306065</td><td>-0.9436766</td><td>Red</td></tr>\n",
       "\t<tr><td>0.2150946</td><td>0.978537</td><td> 0.2787936</td><td> 0.1301374</td><td>0.4138308</td><td>-0.7636668</td><td>-0.2401294</td><td>1.0217267</td><td> 0.8199679</td><td>1.8273250</td><td> 0.005306065</td><td>-0.9436766</td><td>Red</td></tr>\n",
       "\t<tr><td>1.2950087</td><td>1.710201</td><td>-0.8842365</td><td>-0.3288582</td><td>3.1768729</td><td> 1.1731437</td><td> 0.5779338</td><td>1.2863386</td><td>-0.2977426</td><td>2.7069810</td><td>-1.084752008</td><td>-0.9436766</td><td>Red</td></tr>\n",
       "</tbody>\n",
       "</table>\n"
      ],
      "text/latex": [
       "A tibble: 6 × 13\n",
       "\\begin{tabular}{lllllllllllll}\n",
       " fixed.acidity & volatile.acidity & citric.acid & residual.sugar & chlorides & free.sulfur.dioxide & total.sulfur.dioxide & density & pH & sulphates & alcohol & quality & type\\\\\n",
       " <dbl> & <dbl> & <dbl> & <dbl> & <dbl> & <dbl> & <dbl> & <dbl> & <dbl> & <dbl> & <dbl> & <dbl> & <fct>\\\\\n",
       "\\hline\n",
       "\t 0.1379579 & 2.197977 & -2.1840936 & -0.7461269 & 0.5533783 & -1.1054569 & -1.4494401 & 1.0217267 &  1.8134883 & 0.2033448 & -0.917050766 & -0.9436766 & Red\\\\\n",
       "\t 0.4465048 & 3.295474 & -2.1840936 & -0.6000828 & 1.1673877 & -0.3079467 & -0.8625687 & 0.6909617 & -0.1114575 & 1.0153349 & -0.581648282 & -0.9436766 & Red\\\\\n",
       "\t 0.1379579 & 1.954089 & -2.1840936 & -0.7669903 & 0.5254688 & -0.9915268 & -1.3427362 & 1.0217267 &  1.8134883 & 0.2033448 & -0.917050766 & -0.9436766 & Red\\\\\n",
       "\t 0.2150946 & 0.978537 &  0.2787936 &  0.1301374 & 0.4138308 & -0.7636668 & -0.2401294 & 1.0217267 &  0.8199679 & 1.8273250 &  0.005306065 & -0.9436766 & Red\\\\\n",
       "\t 0.2150946 & 0.978537 &  0.2787936 &  0.1301374 & 0.4138308 & -0.7636668 & -0.2401294 & 1.0217267 &  0.8199679 & 1.8273250 &  0.005306065 & -0.9436766 & Red\\\\\n",
       "\t 1.2950087 & 1.710201 & -0.8842365 & -0.3288582 & 3.1768729 &  1.1731437 &  0.5779338 & 1.2863386 & -0.2977426 & 2.7069810 & -1.084752008 & -0.9436766 & Red\\\\\n",
       "\\end{tabular}\n"
      ],
      "text/markdown": [
       "\n",
       "A tibble: 6 × 13\n",
       "\n",
       "| fixed.acidity &lt;dbl&gt; | volatile.acidity &lt;dbl&gt; | citric.acid &lt;dbl&gt; | residual.sugar &lt;dbl&gt; | chlorides &lt;dbl&gt; | free.sulfur.dioxide &lt;dbl&gt; | total.sulfur.dioxide &lt;dbl&gt; | density &lt;dbl&gt; | pH &lt;dbl&gt; | sulphates &lt;dbl&gt; | alcohol &lt;dbl&gt; | quality &lt;dbl&gt; | type &lt;fct&gt; |\n",
       "|---|---|---|---|---|---|---|---|---|---|---|---|---|\n",
       "| 0.1379579 | 2.197977 | -2.1840936 | -0.7461269 | 0.5533783 | -1.1054569 | -1.4494401 | 1.0217267 |  1.8134883 | 0.2033448 | -0.917050766 | -0.9436766 | Red |\n",
       "| 0.4465048 | 3.295474 | -2.1840936 | -0.6000828 | 1.1673877 | -0.3079467 | -0.8625687 | 0.6909617 | -0.1114575 | 1.0153349 | -0.581648282 | -0.9436766 | Red |\n",
       "| 0.1379579 | 1.954089 | -2.1840936 | -0.7669903 | 0.5254688 | -0.9915268 | -1.3427362 | 1.0217267 |  1.8134883 | 0.2033448 | -0.917050766 | -0.9436766 | Red |\n",
       "| 0.2150946 | 0.978537 |  0.2787936 |  0.1301374 | 0.4138308 | -0.7636668 | -0.2401294 | 1.0217267 |  0.8199679 | 1.8273250 |  0.005306065 | -0.9436766 | Red |\n",
       "| 0.2150946 | 0.978537 |  0.2787936 |  0.1301374 | 0.4138308 | -0.7636668 | -0.2401294 | 1.0217267 |  0.8199679 | 1.8273250 |  0.005306065 | -0.9436766 | Red |\n",
       "| 1.2950087 | 1.710201 | -0.8842365 | -0.3288582 | 3.1768729 |  1.1731437 |  0.5779338 | 1.2863386 | -0.2977426 | 2.7069810 | -1.084752008 | -0.9436766 | Red |\n",
       "\n"
      ],
      "text/plain": [
       "  fixed.acidity volatile.acidity citric.acid residual.sugar chlorides\n",
       "1 0.1379579     2.197977         -2.1840936  -0.7461269     0.5533783\n",
       "2 0.4465048     3.295474         -2.1840936  -0.6000828     1.1673877\n",
       "3 0.1379579     1.954089         -2.1840936  -0.7669903     0.5254688\n",
       "4 0.2150946     0.978537          0.2787936   0.1301374     0.4138308\n",
       "5 0.2150946     0.978537          0.2787936   0.1301374     0.4138308\n",
       "6 1.2950087     1.710201         -0.8842365  -0.3288582     3.1768729\n",
       "  free.sulfur.dioxide total.sulfur.dioxide density   pH         sulphates\n",
       "1 -1.1054569          -1.4494401           1.0217267  1.8134883 0.2033448\n",
       "2 -0.3079467          -0.8625687           0.6909617 -0.1114575 1.0153349\n",
       "3 -0.9915268          -1.3427362           1.0217267  1.8134883 0.2033448\n",
       "4 -0.7636668          -0.2401294           1.0217267  0.8199679 1.8273250\n",
       "5 -0.7636668          -0.2401294           1.0217267  0.8199679 1.8273250\n",
       "6  1.1731437           0.5779338           1.2863386 -0.2977426 2.7069810\n",
       "  alcohol      quality    type\n",
       "1 -0.917050766 -0.9436766 Red \n",
       "2 -0.581648282 -0.9436766 Red \n",
       "3 -0.917050766 -0.9436766 Red \n",
       "4  0.005306065 -0.9436766 Red \n",
       "5  0.005306065 -0.9436766 Red \n",
       "6 -1.084752008 -0.9436766 Red "
      ]
     },
     "metadata": {},
     "output_type": "display_data"
    },
    {
     "name": "stderr",
     "output_type": "stream",
     "text": [
      "\n",
      "\n",
      "\u001b[36m──\u001b[39m \u001b[1mRecipe\u001b[22m \u001b[36m──────────────────────────────────────────────────────────────────────\u001b[39m\n",
      "\n",
      "\n",
      "\n",
      "── Inputs \n",
      "\n",
      "Number of variables by role\n",
      "\n",
      "outcome:    1\n",
      "predictor: 12\n",
      "\n",
      "\n",
      "\n",
      "── Training information \n",
      "\n",
      "Training data contained 4872 data points and no incomplete rows.\n",
      "\n",
      "\n",
      "\n",
      "── Operations \n",
      "\n",
      "\u001b[36m•\u001b[39m Scaling for: \u001b[34mfixed.acidity\u001b[39m, \u001b[34mvolatile.acidity\u001b[39m, \u001b[34mcitric.acid\u001b[39m, ... | \u001b[3mTrained\u001b[23m\n",
      "\n",
      "\u001b[36m•\u001b[39m Centering for: \u001b[34mfixed.acidity\u001b[39m, \u001b[34mvolatile.acidity\u001b[39m, \u001b[34mcitric.acid\u001b[39m, ... | \u001b[3mTrained\u001b[23m\n",
      "\n",
      "\u001b[36m•\u001b[39m Up-sampling based on: \u001b[34mtype\u001b[39m | \u001b[3mTrained\u001b[23m\n",
      "\n"
     ]
    },
    {
     "data": {
      "text/html": [
       "<table class=\"dataframe\">\n",
       "<caption>A tibble: 2 × 2</caption>\n",
       "<thead>\n",
       "\t<tr><th scope=col>type</th><th scope=col>n</th></tr>\n",
       "\t<tr><th scope=col>&lt;fct&gt;</th><th scope=col>&lt;int&gt;</th></tr>\n",
       "</thead>\n",
       "<tbody>\n",
       "\t<tr><td>Red  </td><td>3673</td></tr>\n",
       "\t<tr><td>White</td><td>3673</td></tr>\n",
       "</tbody>\n",
       "</table>\n"
      ],
      "text/latex": [
       "A tibble: 2 × 2\n",
       "\\begin{tabular}{ll}\n",
       " type & n\\\\\n",
       " <fct> & <int>\\\\\n",
       "\\hline\n",
       "\t Red   & 3673\\\\\n",
       "\t White & 3673\\\\\n",
       "\\end{tabular}\n"
      ],
      "text/markdown": [
       "\n",
       "A tibble: 2 × 2\n",
       "\n",
       "| type &lt;fct&gt; | n &lt;int&gt; |\n",
       "|---|---|\n",
       "| Red   | 3673 |\n",
       "| White | 3673 |\n",
       "\n"
      ],
      "text/plain": [
       "  type  n   \n",
       "1 Red   3673\n",
       "2 White 3673"
      ]
     },
     "metadata": {},
     "output_type": "display_data"
    }
   ],
   "source": [
    "knn_recipe <- recipe(type ~ ., data = wine_training) |>\n",
    "    step_scale(all_predictors()) |>\n",
    "    step_center(all_predictors()) |>\n",
    "    prep()\n",
    "\n",
    "wine_scaled_type <- bake(knn_recipe, wine_training)\n",
    "head(wine_scaled_type)\n",
    "\n",
    "#Then we do the upsampling\n",
    "knn_recipe <- knn_recipe |>\n",
    " step_upsample(type, over_ratio = 1, skip = FALSE) |>\n",
    "  prep()\n",
    "knn_recipe\n",
    "\n",
    "upsampled_wine_type <- bake(knn_recipe, wine_scaled_type)\n",
    "# We check the upsampling result here\n",
    "upsampled_wine_result <- upsampled_wine_type |>\n",
    "  group_by(type) |>\n",
    "  summarize(n = n())\n",
    "upsampled_wine_result"
   ]
  },
  {
   "cell_type": "code",
   "execution_count": 11,
   "id": "e6b69743-5b00-4330-a3c0-7e2c35f45ea7",
   "metadata": {},
   "outputs": [
    {
     "data": {
      "text/html": [
       "<table class=\"dataframe\">\n",
       "<caption>A tibble: 2 × 12</caption>\n",
       "<thead>\n",
       "\t<tr><th scope=col>type</th><th scope=col>mean_fixed_acidity</th><th scope=col>mean_volatile_acidity</th><th scope=col>mean_citric_acid</th><th scope=col>mean_residual_sugar</th><th scope=col>mean_chlorides</th><th scope=col>mean_free_sufdioxide</th><th scope=col>mean_tot_sufdioxide</th><th scope=col>mean_density</th><th scope=col>mean_ph</th><th scope=col>mean_sulphates</th><th scope=col>mean_alcohol</th></tr>\n",
       "\t<tr><th scope=col>&lt;fct&gt;</th><th scope=col>&lt;dbl&gt;</th><th scope=col>&lt;dbl&gt;</th><th scope=col>&lt;dbl&gt;</th><th scope=col>&lt;dbl&gt;</th><th scope=col>&lt;dbl&gt;</th><th scope=col>&lt;dbl&gt;</th><th scope=col>&lt;dbl&gt;</th><th scope=col>&lt;dbl&gt;</th><th scope=col>&lt;dbl&gt;</th><th scope=col>&lt;dbl&gt;</th><th scope=col>&lt;dbl&gt;</th></tr>\n",
       "</thead>\n",
       "<tbody>\n",
       "\t<tr><td>Red  </td><td>-4.887641</td><td> 4.858869</td><td>-4.238361</td><td>-1.270926</td><td>23.648214</td><td>-1.778979</td><td>-2.075838</td><td>-104.4583</td><td>-16.43249</td><td> 2.250498</td><td>-8.846971</td></tr>\n",
       "\t<tr><td>White</td><td>-5.785619</td><td>-4.324927</td><td>-1.447445</td><td>-1.100599</td><td>-9.633544</td><td>-1.716679</td><td>-2.046949</td><td>-401.7610</td><td>-21.15329</td><td>-5.493718</td><td>-8.782726</td></tr>\n",
       "</tbody>\n",
       "</table>\n"
      ],
      "text/latex": [
       "A tibble: 2 × 12\n",
       "\\begin{tabular}{llllllllllll}\n",
       " type & mean\\_fixed\\_acidity & mean\\_volatile\\_acidity & mean\\_citric\\_acid & mean\\_residual\\_sugar & mean\\_chlorides & mean\\_free\\_sufdioxide & mean\\_tot\\_sufdioxide & mean\\_density & mean\\_ph & mean\\_sulphates & mean\\_alcohol\\\\\n",
       " <fct> & <dbl> & <dbl> & <dbl> & <dbl> & <dbl> & <dbl> & <dbl> & <dbl> & <dbl> & <dbl> & <dbl>\\\\\n",
       "\\hline\n",
       "\t Red   & -4.887641 &  4.858869 & -4.238361 & -1.270926 & 23.648214 & -1.778979 & -2.075838 & -104.4583 & -16.43249 &  2.250498 & -8.846971\\\\\n",
       "\t White & -5.785619 & -4.324927 & -1.447445 & -1.100599 & -9.633544 & -1.716679 & -2.046949 & -401.7610 & -21.15329 & -5.493718 & -8.782726\\\\\n",
       "\\end{tabular}\n"
      ],
      "text/markdown": [
       "\n",
       "A tibble: 2 × 12\n",
       "\n",
       "| type &lt;fct&gt; | mean_fixed_acidity &lt;dbl&gt; | mean_volatile_acidity &lt;dbl&gt; | mean_citric_acid &lt;dbl&gt; | mean_residual_sugar &lt;dbl&gt; | mean_chlorides &lt;dbl&gt; | mean_free_sufdioxide &lt;dbl&gt; | mean_tot_sufdioxide &lt;dbl&gt; | mean_density &lt;dbl&gt; | mean_ph &lt;dbl&gt; | mean_sulphates &lt;dbl&gt; | mean_alcohol &lt;dbl&gt; |\n",
       "|---|---|---|---|---|---|---|---|---|---|---|---|\n",
       "| Red   | -4.887641 |  4.858869 | -4.238361 | -1.270926 | 23.648214 | -1.778979 | -2.075838 | -104.4583 | -16.43249 |  2.250498 | -8.846971 |\n",
       "| White | -5.785619 | -4.324927 | -1.447445 | -1.100599 | -9.633544 | -1.716679 | -2.046949 | -401.7610 | -21.15329 | -5.493718 | -8.782726 |\n",
       "\n"
      ],
      "text/plain": [
       "  type  mean_fixed_acidity mean_volatile_acidity mean_citric_acid\n",
       "1 Red   -4.887641           4.858869             -4.238361       \n",
       "2 White -5.785619          -4.324927             -1.447445       \n",
       "  mean_residual_sugar mean_chlorides mean_free_sufdioxide mean_tot_sufdioxide\n",
       "1 -1.270926           23.648214      -1.778979            -2.075838          \n",
       "2 -1.100599           -9.633544      -1.716679            -2.046949          \n",
       "  mean_density mean_ph   mean_sulphates mean_alcohol\n",
       "1 -104.4583    -16.43249  2.250498      -8.846971   \n",
       "2 -401.7610    -21.15329 -5.493718      -8.782726   "
      ]
     },
     "metadata": {},
     "output_type": "display_data"
    }
   ],
   "source": [
    "mean_type <- upsampled_wine_type |>\n",
    "    group_by(type) |>\n",
    "    summarize(mean_fixed_acidity = mean(fixed.acidity),\n",
    "                               mean_volatile_acidity = mean(volatile.acidity),\n",
    "                               mean_citric_acid = mean(citric.acid),\n",
    "                               mean_residual_sugar = mean(residual.sugar),\n",
    "                               mean_chlorides = mean(chlorides),\n",
    "                               mean_free_sufdioxide = mean(free.sulfur.dioxide),\n",
    "                               mean_tot_sufdioxide = mean(total.sulfur.dioxide),\n",
    "                               mean_density = mean(density),\n",
    "                               mean_ph = mean(pH),\n",
    "                               mean_sulphates = mean(sulphates),\n",
    "                               mean_alcohol = mean(alcohol))\n",
    "mean_type"
   ]
  },
  {
   "cell_type": "markdown",
   "id": "fe83626c-4ccf-409f-991b-74e47cbbbda5",
   "metadata": {},
   "source": [
    "Based on the results we got above, we are going to use mean_chlorides, mean_density to do the classification."
   ]
  },
  {
   "cell_type": "code",
   "execution_count": 16,
   "id": "0d8dc2cb-dc77-42a2-8e67-8086f1da2f05",
   "metadata": {},
   "outputs": [
    {
     "data": {
      "text/html": [
       "<table class=\"dataframe\">\n",
       "<caption>A data.frame: 6 × 3</caption>\n",
       "<thead>\n",
       "\t<tr><th></th><th scope=col>chlorides</th><th scope=col>density</th><th scope=col>type</th></tr>\n",
       "\t<tr><th></th><th scope=col>&lt;dbl&gt;</th><th scope=col>&lt;dbl&gt;</th><th scope=col>&lt;fct&gt;</th></tr>\n",
       "</thead>\n",
       "<tbody>\n",
       "\t<tr><th scope=row>1</th><td>0.076</td><td>0.9978</td><td>Red</td></tr>\n",
       "\t<tr><th scope=row>2</th><td>0.098</td><td>0.9968</td><td>Red</td></tr>\n",
       "\t<tr><th scope=row>3</th><td>0.075</td><td>0.9978</td><td>Red</td></tr>\n",
       "\t<tr><th scope=row>4</th><td>0.071</td><td>0.9978</td><td>Red</td></tr>\n",
       "\t<tr><th scope=row>5</th><td>0.071</td><td>0.9978</td><td>Red</td></tr>\n",
       "\t<tr><th scope=row>6</th><td>0.170</td><td>0.9986</td><td>Red</td></tr>\n",
       "</tbody>\n",
       "</table>\n"
      ],
      "text/latex": [
       "A data.frame: 6 × 3\n",
       "\\begin{tabular}{r|lll}\n",
       "  & chlorides & density & type\\\\\n",
       "  & <dbl> & <dbl> & <fct>\\\\\n",
       "\\hline\n",
       "\t1 & 0.076 & 0.9978 & Red\\\\\n",
       "\t2 & 0.098 & 0.9968 & Red\\\\\n",
       "\t3 & 0.075 & 0.9978 & Red\\\\\n",
       "\t4 & 0.071 & 0.9978 & Red\\\\\n",
       "\t5 & 0.071 & 0.9978 & Red\\\\\n",
       "\t6 & 0.170 & 0.9986 & Red\\\\\n",
       "\\end{tabular}\n"
      ],
      "text/markdown": [
       "\n",
       "A data.frame: 6 × 3\n",
       "\n",
       "| <!--/--> | chlorides &lt;dbl&gt; | density &lt;dbl&gt; | type &lt;fct&gt; |\n",
       "|---|---|---|---|\n",
       "| 1 | 0.076 | 0.9978 | Red |\n",
       "| 2 | 0.098 | 0.9968 | Red |\n",
       "| 3 | 0.075 | 0.9978 | Red |\n",
       "| 4 | 0.071 | 0.9978 | Red |\n",
       "| 5 | 0.071 | 0.9978 | Red |\n",
       "| 6 | 0.170 | 0.9986 | Red |\n",
       "\n"
      ],
      "text/plain": [
       "  chlorides density type\n",
       "1 0.076     0.9978  Red \n",
       "2 0.098     0.9968  Red \n",
       "3 0.075     0.9978  Red \n",
       "4 0.071     0.9978  Red \n",
       "5 0.071     0.9978  Red \n",
       "6 0.170     0.9986  Red "
      ]
     },
     "metadata": {},
     "output_type": "display_data"
    },
    {
     "data": {
      "text/html": [
       "<table class=\"dataframe\">\n",
       "<caption>A data.frame: 6 × 3</caption>\n",
       "<thead>\n",
       "\t<tr><th></th><th scope=col>chlorides</th><th scope=col>density</th><th scope=col>type</th></tr>\n",
       "\t<tr><th></th><th scope=col>&lt;dbl&gt;</th><th scope=col>&lt;dbl&gt;</th><th scope=col>&lt;fct&gt;</th></tr>\n",
       "</thead>\n",
       "<tbody>\n",
       "\t<tr><th scope=row>1</th><td>0.092</td><td>0.9970</td><td>Red</td></tr>\n",
       "\t<tr><th scope=row>2</th><td>0.075</td><td>0.9980</td><td>Red</td></tr>\n",
       "\t<tr><th scope=row>3</th><td>0.076</td><td>0.9978</td><td>Red</td></tr>\n",
       "\t<tr><th scope=row>4</th><td>0.069</td><td>0.9964</td><td>Red</td></tr>\n",
       "\t<tr><th scope=row>5</th><td>0.065</td><td>0.9946</td><td>Red</td></tr>\n",
       "\t<tr><th scope=row>6</th><td>0.073</td><td>0.9968</td><td>Red</td></tr>\n",
       "</tbody>\n",
       "</table>\n"
      ],
      "text/latex": [
       "A data.frame: 6 × 3\n",
       "\\begin{tabular}{r|lll}\n",
       "  & chlorides & density & type\\\\\n",
       "  & <dbl> & <dbl> & <fct>\\\\\n",
       "\\hline\n",
       "\t1 & 0.092 & 0.9970 & Red\\\\\n",
       "\t2 & 0.075 & 0.9980 & Red\\\\\n",
       "\t3 & 0.076 & 0.9978 & Red\\\\\n",
       "\t4 & 0.069 & 0.9964 & Red\\\\\n",
       "\t5 & 0.065 & 0.9946 & Red\\\\\n",
       "\t6 & 0.073 & 0.9968 & Red\\\\\n",
       "\\end{tabular}\n"
      ],
      "text/markdown": [
       "\n",
       "A data.frame: 6 × 3\n",
       "\n",
       "| <!--/--> | chlorides &lt;dbl&gt; | density &lt;dbl&gt; | type &lt;fct&gt; |\n",
       "|---|---|---|---|\n",
       "| 1 | 0.092 | 0.9970 | Red |\n",
       "| 2 | 0.075 | 0.9980 | Red |\n",
       "| 3 | 0.076 | 0.9978 | Red |\n",
       "| 4 | 0.069 | 0.9964 | Red |\n",
       "| 5 | 0.065 | 0.9946 | Red |\n",
       "| 6 | 0.073 | 0.9968 | Red |\n",
       "\n"
      ],
      "text/plain": [
       "  chlorides density type\n",
       "1 0.092     0.9970  Red \n",
       "2 0.075     0.9980  Red \n",
       "3 0.076     0.9978  Red \n",
       "4 0.069     0.9964  Red \n",
       "5 0.065     0.9946  Red \n",
       "6 0.073     0.9968  Red "
      ]
     },
     "metadata": {},
     "output_type": "display_data"
    }
   ],
   "source": [
    "wine_training_class <- wine_training |>\n",
    "    select(chlorides, density, type)\n",
    "wine_testing_class <- wine_testing |>\n",
    "    select(chlorides, density, type)\n",
    "head(wine_training_class)\n",
    "head(wine_testing_class)"
   ]
  },
  {
   "cell_type": "code",
   "execution_count": 17,
   "id": "105237ad-53c8-40e9-b699-7e719697bd5f",
   "metadata": {},
   "outputs": [
    {
     "data": {
      "text/html": [
       "<table class=\"dataframe\">\n",
       "<caption>A tibble: 1 × 3</caption>\n",
       "<thead>\n",
       "\t<tr><th scope=col>.metric</th><th scope=col>.estimator</th><th scope=col>.estimate</th></tr>\n",
       "\t<tr><th scope=col>&lt;chr&gt;</th><th scope=col>&lt;chr&gt;</th><th scope=col>&lt;dbl&gt;</th></tr>\n",
       "</thead>\n",
       "<tbody>\n",
       "\t<tr><td>accuracy</td><td>binary</td><td>0.9286154</td></tr>\n",
       "</tbody>\n",
       "</table>\n"
      ],
      "text/latex": [
       "A tibble: 1 × 3\n",
       "\\begin{tabular}{lll}\n",
       " .metric & .estimator & .estimate\\\\\n",
       " <chr> & <chr> & <dbl>\\\\\n",
       "\\hline\n",
       "\t accuracy & binary & 0.9286154\\\\\n",
       "\\end{tabular}\n"
      ],
      "text/markdown": [
       "\n",
       "A tibble: 1 × 3\n",
       "\n",
       "| .metric &lt;chr&gt; | .estimator &lt;chr&gt; | .estimate &lt;dbl&gt; |\n",
       "|---|---|---|\n",
       "| accuracy | binary | 0.9286154 |\n",
       "\n"
      ],
      "text/plain": [
       "  .metric  .estimator .estimate\n",
       "1 accuracy binary     0.9286154"
      ]
     },
     "metadata": {},
     "output_type": "display_data"
    },
    {
     "data": {
      "text/html": [
       "<table class=\"dataframe\">\n",
       "<caption>A tibble: 1 × 3</caption>\n",
       "<thead>\n",
       "\t<tr><th scope=col>.metric</th><th scope=col>.estimator</th><th scope=col>.estimate</th></tr>\n",
       "\t<tr><th scope=col>&lt;chr&gt;</th><th scope=col>&lt;chr&gt;</th><th scope=col>&lt;dbl&gt;</th></tr>\n",
       "</thead>\n",
       "<tbody>\n",
       "\t<tr><td>rmse</td><td>standard</td><td>0.267179</td></tr>\n",
       "</tbody>\n",
       "</table>\n"
      ],
      "text/latex": [
       "A tibble: 1 × 3\n",
       "\\begin{tabular}{lll}\n",
       " .metric & .estimator & .estimate\\\\\n",
       " <chr> & <chr> & <dbl>\\\\\n",
       "\\hline\n",
       "\t rmse & standard & 0.267179\\\\\n",
       "\\end{tabular}\n"
      ],
      "text/markdown": [
       "\n",
       "A tibble: 1 × 3\n",
       "\n",
       "| .metric &lt;chr&gt; | .estimator &lt;chr&gt; | .estimate &lt;dbl&gt; |\n",
       "|---|---|---|\n",
       "| rmse | standard | 0.267179 |\n",
       "\n"
      ],
      "text/plain": [
       "  .metric .estimator .estimate\n",
       "1 rmse    standard   0.267179 "
      ]
     },
     "metadata": {},
     "output_type": "display_data"
    }
   ],
   "source": [
    "knn_recipe <- recipe(type ~ ., data = wine_training_class)\n",
    "knn_spec <- nearest_neighbor(weight_func = \"rectangular\", neighbors = tune()) |>\n",
    "    set_engine(\"kknn\") |>\n",
    "    set_mode(\"classification\")\n",
    "\n",
    "knn_workflow <- workflow() |>\n",
    "    add_recipe(knn_recipe) |>\n",
    "    add_model(knn_spec)\n",
    "\n",
    "knn_res <- tune_grid(\n",
    "    knn_workflow,\n",
    "    resamples = vfold_cv(wine_training_class, v = 5),\n",
    "    grid = data.frame(neighbors = seq(1, 50, 5))\n",
    ")\n",
    "\n",
    "best_k <- knn_res |>\n",
    "    select_best(\"accuracy\")\n",
    "\n",
    "knn_final <- finalize_workflow(knn_workflow, best_k)\n",
    "\n",
    "knn_fit <- fit(knn_final, data = wine_training_class)\n",
    "\n",
    "knn_pred <- predict(knn_fit, new_data = wine_testing_class) |>\n",
    "    bind_cols(wine_testing_class)\n",
    "\n",
    "accuracy(knn_pred, truth = type, estimate = .pred_class)\n",
    "\n",
    "knn_pred_num <- knn_pred |>\n",
    "    mutate(type_num = as.numeric(type),\n",
    "            .pred_class_num = as.numeric(.pred_class))\n",
    "\n",
    "knn_rmse <- rmse(knn_pred_num, truth = type_num, estimate = .pred_class_num)\n",
    "\n",
    "knn_rmse"
   ]
  },
  {
   "cell_type": "code",
   "execution_count": null,
   "id": "1ddcbc98-c004-4303-a2b7-2714baead63b",
   "metadata": {},
   "outputs": [],
   "source": []
  }
 ],
 "metadata": {
  "kernelspec": {
   "display_name": "R",
   "language": "R",
   "name": "ir"
  },
  "language_info": {
   "codemirror_mode": "r",
   "file_extension": ".r",
   "mimetype": "text/x-r-source",
   "name": "R",
   "pygments_lexer": "r",
   "version": "4.3.1"
  }
 },
 "nbformat": 4,
 "nbformat_minor": 5
}
